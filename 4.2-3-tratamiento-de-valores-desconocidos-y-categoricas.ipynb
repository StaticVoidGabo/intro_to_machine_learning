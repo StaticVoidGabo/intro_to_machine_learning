{
 "cells": [
  {
   "cell_type": "code",
   "execution_count": 1,
   "metadata": {},
   "outputs": [],
   "source": [
    "import warnings\n",
    "warnings.filterwarnings(\"ignore\")\n",
    "\n",
    "import matplotlib.pyplot as plt\n",
    "import matplotlib\n",
    "import numpy as np\n",
    "import pandas as pd\n",
    "\n",
    "from sklearn.model_selection import train_test_split\n",
    "from sklearn.metrics import f1_score, accuracy_score, precision_score, recall_score\n",
    "%matplotlib inline"
   ]
  },
  {
   "cell_type": "code",
   "execution_count": 2,
   "metadata": {},
   "outputs": [],
   "source": [
    "matplotlib.rcParams['figure.figsize'] = [10, 5]"
   ]
  },
  {
   "cell_type": "markdown",
   "metadata": {},
   "source": [
    "# Engineeering features\n",
    "\n",
    "\n",
    "En este notebook vamos a ver principalmente:\n",
    "\n",
    "1) Tratamiento de NAs values\n",
    "\n",
    "2) Tratamiento de variables categóricas"
   ]
  },
  {
   "cell_type": "markdown",
   "metadata": {},
   "source": [
    "Vamos a trabajar con el asiguiente dataset llamado __House Prices__ que puedes encontrar\n",
    "[aquí](https://www.kaggle.com/c/house-prices-advanced-regression-techniques)."
   ]
  },
  {
   "cell_type": "markdown",
   "metadata": {},
   "source": [
    "### 1. Bajamos el dataset y hacemos un simple modelo  (Regresión multilineal)\n"
   ]
  },
  {
   "cell_type": "code",
   "execution_count": 4,
   "metadata": {},
   "outputs": [],
   "source": [
    "path = \"./data/house-prices-advanced-regression-techniques/train.csv\"\n",
    "houses = pd.read_csv(path)"
   ]
  },
  {
   "cell_type": "code",
   "execution_count": 5,
   "metadata": {},
   "outputs": [],
   "source": [
    "houses_num =  houses.select_dtypes(include=[np.number])"
   ]
  },
  {
   "cell_type": "code",
   "execution_count": 6,
   "metadata": {},
   "outputs": [
    {
     "data": {
      "text/html": [
       "<div>\n",
       "<style scoped>\n",
       "    .dataframe tbody tr th:only-of-type {\n",
       "        vertical-align: middle;\n",
       "    }\n",
       "\n",
       "    .dataframe tbody tr th {\n",
       "        vertical-align: top;\n",
       "    }\n",
       "\n",
       "    .dataframe thead th {\n",
       "        text-align: right;\n",
       "    }\n",
       "</style>\n",
       "<table border=\"1\" class=\"dataframe\">\n",
       "  <thead>\n",
       "    <tr style=\"text-align: right;\">\n",
       "      <th></th>\n",
       "      <th>Id</th>\n",
       "      <th>MSSubClass</th>\n",
       "      <th>LotFrontage</th>\n",
       "      <th>LotArea</th>\n",
       "      <th>OverallQual</th>\n",
       "      <th>OverallCond</th>\n",
       "      <th>YearBuilt</th>\n",
       "      <th>YearRemodAdd</th>\n",
       "      <th>MasVnrArea</th>\n",
       "      <th>BsmtFinSF1</th>\n",
       "      <th>...</th>\n",
       "      <th>WoodDeckSF</th>\n",
       "      <th>OpenPorchSF</th>\n",
       "      <th>EnclosedPorch</th>\n",
       "      <th>3SsnPorch</th>\n",
       "      <th>ScreenPorch</th>\n",
       "      <th>PoolArea</th>\n",
       "      <th>MiscVal</th>\n",
       "      <th>MoSold</th>\n",
       "      <th>YrSold</th>\n",
       "      <th>SalePrice</th>\n",
       "    </tr>\n",
       "  </thead>\n",
       "  <tbody>\n",
       "    <tr>\n",
       "      <th>0</th>\n",
       "      <td>1</td>\n",
       "      <td>60</td>\n",
       "      <td>65.0</td>\n",
       "      <td>8450</td>\n",
       "      <td>7</td>\n",
       "      <td>5</td>\n",
       "      <td>2003</td>\n",
       "      <td>2003</td>\n",
       "      <td>196.0</td>\n",
       "      <td>706</td>\n",
       "      <td>...</td>\n",
       "      <td>0</td>\n",
       "      <td>61</td>\n",
       "      <td>0</td>\n",
       "      <td>0</td>\n",
       "      <td>0</td>\n",
       "      <td>0</td>\n",
       "      <td>0</td>\n",
       "      <td>2</td>\n",
       "      <td>2008</td>\n",
       "      <td>208500</td>\n",
       "    </tr>\n",
       "    <tr>\n",
       "      <th>1</th>\n",
       "      <td>2</td>\n",
       "      <td>20</td>\n",
       "      <td>80.0</td>\n",
       "      <td>9600</td>\n",
       "      <td>6</td>\n",
       "      <td>8</td>\n",
       "      <td>1976</td>\n",
       "      <td>1976</td>\n",
       "      <td>0.0</td>\n",
       "      <td>978</td>\n",
       "      <td>...</td>\n",
       "      <td>298</td>\n",
       "      <td>0</td>\n",
       "      <td>0</td>\n",
       "      <td>0</td>\n",
       "      <td>0</td>\n",
       "      <td>0</td>\n",
       "      <td>0</td>\n",
       "      <td>5</td>\n",
       "      <td>2007</td>\n",
       "      <td>181500</td>\n",
       "    </tr>\n",
       "    <tr>\n",
       "      <th>2</th>\n",
       "      <td>3</td>\n",
       "      <td>60</td>\n",
       "      <td>68.0</td>\n",
       "      <td>11250</td>\n",
       "      <td>7</td>\n",
       "      <td>5</td>\n",
       "      <td>2001</td>\n",
       "      <td>2002</td>\n",
       "      <td>162.0</td>\n",
       "      <td>486</td>\n",
       "      <td>...</td>\n",
       "      <td>0</td>\n",
       "      <td>42</td>\n",
       "      <td>0</td>\n",
       "      <td>0</td>\n",
       "      <td>0</td>\n",
       "      <td>0</td>\n",
       "      <td>0</td>\n",
       "      <td>9</td>\n",
       "      <td>2008</td>\n",
       "      <td>223500</td>\n",
       "    </tr>\n",
       "    <tr>\n",
       "      <th>3</th>\n",
       "      <td>4</td>\n",
       "      <td>70</td>\n",
       "      <td>60.0</td>\n",
       "      <td>9550</td>\n",
       "      <td>7</td>\n",
       "      <td>5</td>\n",
       "      <td>1915</td>\n",
       "      <td>1970</td>\n",
       "      <td>0.0</td>\n",
       "      <td>216</td>\n",
       "      <td>...</td>\n",
       "      <td>0</td>\n",
       "      <td>35</td>\n",
       "      <td>272</td>\n",
       "      <td>0</td>\n",
       "      <td>0</td>\n",
       "      <td>0</td>\n",
       "      <td>0</td>\n",
       "      <td>2</td>\n",
       "      <td>2006</td>\n",
       "      <td>140000</td>\n",
       "    </tr>\n",
       "    <tr>\n",
       "      <th>4</th>\n",
       "      <td>5</td>\n",
       "      <td>60</td>\n",
       "      <td>84.0</td>\n",
       "      <td>14260</td>\n",
       "      <td>8</td>\n",
       "      <td>5</td>\n",
       "      <td>2000</td>\n",
       "      <td>2000</td>\n",
       "      <td>350.0</td>\n",
       "      <td>655</td>\n",
       "      <td>...</td>\n",
       "      <td>192</td>\n",
       "      <td>84</td>\n",
       "      <td>0</td>\n",
       "      <td>0</td>\n",
       "      <td>0</td>\n",
       "      <td>0</td>\n",
       "      <td>0</td>\n",
       "      <td>12</td>\n",
       "      <td>2008</td>\n",
       "      <td>250000</td>\n",
       "    </tr>\n",
       "  </tbody>\n",
       "</table>\n",
       "<p>5 rows × 38 columns</p>\n",
       "</div>"
      ],
      "text/plain": [
       "   Id  MSSubClass  LotFrontage  LotArea  OverallQual  OverallCond  YearBuilt  \\\n",
       "0   1          60         65.0     8450            7            5       2003   \n",
       "1   2          20         80.0     9600            6            8       1976   \n",
       "2   3          60         68.0    11250            7            5       2001   \n",
       "3   4          70         60.0     9550            7            5       1915   \n",
       "4   5          60         84.0    14260            8            5       2000   \n",
       "\n",
       "   YearRemodAdd  MasVnrArea  BsmtFinSF1  ...  WoodDeckSF  OpenPorchSF  \\\n",
       "0          2003       196.0         706  ...           0           61   \n",
       "1          1976         0.0         978  ...         298            0   \n",
       "2          2002       162.0         486  ...           0           42   \n",
       "3          1970         0.0         216  ...           0           35   \n",
       "4          2000       350.0         655  ...         192           84   \n",
       "\n",
       "   EnclosedPorch  3SsnPorch  ScreenPorch  PoolArea  MiscVal  MoSold  YrSold  \\\n",
       "0              0          0            0         0        0       2    2008   \n",
       "1              0          0            0         0        0       5    2007   \n",
       "2              0          0            0         0        0       9    2008   \n",
       "3            272          0            0         0        0       2    2006   \n",
       "4              0          0            0         0        0      12    2008   \n",
       "\n",
       "   SalePrice  \n",
       "0     208500  \n",
       "1     181500  \n",
       "2     223500  \n",
       "3     140000  \n",
       "4     250000  \n",
       "\n",
       "[5 rows x 38 columns]"
      ]
     },
     "execution_count": 6,
     "metadata": {},
     "output_type": "execute_result"
    }
   ],
   "source": [
    "houses_num.head()"
   ]
  },
  {
   "cell_type": "markdown",
   "metadata": {},
   "source": [
    "#### Problema:  ¿Podemos predecir el precio de venta?\n",
    "\n",
    "Hagamos una regresión multilineal con todas las variables numéricas"
   ]
  },
  {
   "cell_type": "code",
   "execution_count": 7,
   "metadata": {},
   "outputs": [
    {
     "ename": "ValueError",
     "evalue": "Input contains NaN, infinity or a value too large for dtype('float64').",
     "output_type": "error",
     "traceback": [
      "\u001b[0;31m---------------------------------------------------------------------------\u001b[0m",
      "\u001b[0;31mValueError\u001b[0m                                Traceback (most recent call last)",
      "\u001b[0;32m<ipython-input-7-e8225b2ea946>\u001b[0m in \u001b[0;36m<module>\u001b[0;34m\u001b[0m\n\u001b[1;32m     11\u001b[0m \u001b[0;34m\u001b[0m\u001b[0m\n\u001b[1;32m     12\u001b[0m \u001b[0mreg\u001b[0m \u001b[0;34m=\u001b[0m \u001b[0mLinearRegression\u001b[0m\u001b[0;34m(\u001b[0m\u001b[0;34m)\u001b[0m\u001b[0;34m\u001b[0m\u001b[0;34m\u001b[0m\u001b[0m\n\u001b[0;32m---> 13\u001b[0;31m \u001b[0mreg\u001b[0m\u001b[0;34m.\u001b[0m\u001b[0mfit\u001b[0m\u001b[0;34m(\u001b[0m\u001b[0mX_train\u001b[0m\u001b[0;34m,\u001b[0m \u001b[0my_train\u001b[0m\u001b[0;34m)\u001b[0m\u001b[0;34m\u001b[0m\u001b[0;34m\u001b[0m\u001b[0m\n\u001b[0m\u001b[1;32m     14\u001b[0m \u001b[0my_dev_hat\u001b[0m \u001b[0;34m=\u001b[0m \u001b[0mreg\u001b[0m\u001b[0;34m.\u001b[0m\u001b[0mpredict\u001b[0m\u001b[0;34m(\u001b[0m\u001b[0mX_dev\u001b[0m\u001b[0;34m)\u001b[0m\u001b[0;34m\u001b[0m\u001b[0;34m\u001b[0m\u001b[0m\n\u001b[1;32m     15\u001b[0m \u001b[0mprint\u001b[0m\u001b[0;34m(\u001b[0m\u001b[0mnp\u001b[0m\u001b[0;34m.\u001b[0m\u001b[0msqrt\u001b[0m\u001b[0;34m(\u001b[0m\u001b[0mmean_squared_error\u001b[0m\u001b[0;34m(\u001b[0m\u001b[0my_dev\u001b[0m\u001b[0;34m,\u001b[0m \u001b[0my_dev_hat\u001b[0m\u001b[0;34m)\u001b[0m\u001b[0;34m)\u001b[0m\u001b[0;34m)\u001b[0m\u001b[0;34m\u001b[0m\u001b[0;34m\u001b[0m\u001b[0m\n",
      "\u001b[0;32m~/.virtualenvs/py3.6-nointel/lib/python3.6/site-packages/sklearn/linear_model/base.py\u001b[0m in \u001b[0;36mfit\u001b[0;34m(self, X, y, sample_weight)\u001b[0m\n\u001b[1;32m    456\u001b[0m         \u001b[0mn_jobs_\u001b[0m \u001b[0;34m=\u001b[0m \u001b[0mself\u001b[0m\u001b[0;34m.\u001b[0m\u001b[0mn_jobs\u001b[0m\u001b[0;34m\u001b[0m\u001b[0;34m\u001b[0m\u001b[0m\n\u001b[1;32m    457\u001b[0m         X, y = check_X_y(X, y, accept_sparse=['csr', 'csc', 'coo'],\n\u001b[0;32m--> 458\u001b[0;31m                          y_numeric=True, multi_output=True)\n\u001b[0m\u001b[1;32m    459\u001b[0m \u001b[0;34m\u001b[0m\u001b[0m\n\u001b[1;32m    460\u001b[0m         \u001b[0;32mif\u001b[0m \u001b[0msample_weight\u001b[0m \u001b[0;32mis\u001b[0m \u001b[0;32mnot\u001b[0m \u001b[0;32mNone\u001b[0m \u001b[0;32mand\u001b[0m \u001b[0mnp\u001b[0m\u001b[0;34m.\u001b[0m\u001b[0matleast_1d\u001b[0m\u001b[0;34m(\u001b[0m\u001b[0msample_weight\u001b[0m\u001b[0;34m)\u001b[0m\u001b[0;34m.\u001b[0m\u001b[0mndim\u001b[0m \u001b[0;34m>\u001b[0m \u001b[0;36m1\u001b[0m\u001b[0;34m:\u001b[0m\u001b[0;34m\u001b[0m\u001b[0;34m\u001b[0m\u001b[0m\n",
      "\u001b[0;32m~/.virtualenvs/py3.6-nointel/lib/python3.6/site-packages/sklearn/utils/validation.py\u001b[0m in \u001b[0;36mcheck_X_y\u001b[0;34m(X, y, accept_sparse, accept_large_sparse, dtype, order, copy, force_all_finite, ensure_2d, allow_nd, multi_output, ensure_min_samples, ensure_min_features, y_numeric, warn_on_dtype, estimator)\u001b[0m\n\u001b[1;32m    754\u001b[0m                     \u001b[0mensure_min_features\u001b[0m\u001b[0;34m=\u001b[0m\u001b[0mensure_min_features\u001b[0m\u001b[0;34m,\u001b[0m\u001b[0;34m\u001b[0m\u001b[0;34m\u001b[0m\u001b[0m\n\u001b[1;32m    755\u001b[0m                     \u001b[0mwarn_on_dtype\u001b[0m\u001b[0;34m=\u001b[0m\u001b[0mwarn_on_dtype\u001b[0m\u001b[0;34m,\u001b[0m\u001b[0;34m\u001b[0m\u001b[0;34m\u001b[0m\u001b[0m\n\u001b[0;32m--> 756\u001b[0;31m                     estimator=estimator)\n\u001b[0m\u001b[1;32m    757\u001b[0m     \u001b[0;32mif\u001b[0m \u001b[0mmulti_output\u001b[0m\u001b[0;34m:\u001b[0m\u001b[0;34m\u001b[0m\u001b[0;34m\u001b[0m\u001b[0m\n\u001b[1;32m    758\u001b[0m         y = check_array(y, 'csr', force_all_finite=True, ensure_2d=False,\n",
      "\u001b[0;32m~/.virtualenvs/py3.6-nointel/lib/python3.6/site-packages/sklearn/utils/validation.py\u001b[0m in \u001b[0;36mcheck_array\u001b[0;34m(array, accept_sparse, accept_large_sparse, dtype, order, copy, force_all_finite, ensure_2d, allow_nd, ensure_min_samples, ensure_min_features, warn_on_dtype, estimator)\u001b[0m\n\u001b[1;32m    571\u001b[0m         \u001b[0;32mif\u001b[0m \u001b[0mforce_all_finite\u001b[0m\u001b[0;34m:\u001b[0m\u001b[0;34m\u001b[0m\u001b[0;34m\u001b[0m\u001b[0m\n\u001b[1;32m    572\u001b[0m             _assert_all_finite(array,\n\u001b[0;32m--> 573\u001b[0;31m                                allow_nan=force_all_finite == 'allow-nan')\n\u001b[0m\u001b[1;32m    574\u001b[0m \u001b[0;34m\u001b[0m\u001b[0m\n\u001b[1;32m    575\u001b[0m     \u001b[0mshape_repr\u001b[0m \u001b[0;34m=\u001b[0m \u001b[0m_shape_repr\u001b[0m\u001b[0;34m(\u001b[0m\u001b[0marray\u001b[0m\u001b[0;34m.\u001b[0m\u001b[0mshape\u001b[0m\u001b[0;34m)\u001b[0m\u001b[0;34m\u001b[0m\u001b[0;34m\u001b[0m\u001b[0m\n",
      "\u001b[0;32m~/.virtualenvs/py3.6-nointel/lib/python3.6/site-packages/sklearn/utils/validation.py\u001b[0m in \u001b[0;36m_assert_all_finite\u001b[0;34m(X, allow_nan)\u001b[0m\n\u001b[1;32m     54\u001b[0m                 not allow_nan and not np.isfinite(X).all()):\n\u001b[1;32m     55\u001b[0m             \u001b[0mtype_err\u001b[0m \u001b[0;34m=\u001b[0m \u001b[0;34m'infinity'\u001b[0m \u001b[0;32mif\u001b[0m \u001b[0mallow_nan\u001b[0m \u001b[0;32melse\u001b[0m \u001b[0;34m'NaN, infinity'\u001b[0m\u001b[0;34m\u001b[0m\u001b[0;34m\u001b[0m\u001b[0m\n\u001b[0;32m---> 56\u001b[0;31m             \u001b[0;32mraise\u001b[0m \u001b[0mValueError\u001b[0m\u001b[0;34m(\u001b[0m\u001b[0mmsg_err\u001b[0m\u001b[0;34m.\u001b[0m\u001b[0mformat\u001b[0m\u001b[0;34m(\u001b[0m\u001b[0mtype_err\u001b[0m\u001b[0;34m,\u001b[0m \u001b[0mX\u001b[0m\u001b[0;34m.\u001b[0m\u001b[0mdtype\u001b[0m\u001b[0;34m)\u001b[0m\u001b[0;34m)\u001b[0m\u001b[0;34m\u001b[0m\u001b[0;34m\u001b[0m\u001b[0m\n\u001b[0m\u001b[1;32m     57\u001b[0m \u001b[0;34m\u001b[0m\u001b[0m\n\u001b[1;32m     58\u001b[0m \u001b[0;34m\u001b[0m\u001b[0m\n",
      "\u001b[0;31mValueError\u001b[0m: Input contains NaN, infinity or a value too large for dtype('float64')."
     ]
    }
   ],
   "source": [
    "from sklearn.linear_model import LinearRegression\n",
    "from sklearn.metrics import mean_squared_error\n",
    "\n",
    "target_col = \"SalePrice\"\n",
    "Xy = houses_num\n",
    "X = Xy.drop(target_col, axis=1)\n",
    "y = Xy[target_col]\n",
    "\n",
    "X_train_dev, X_test, y_train_dev, y_test = train_test_split(X, y, random_state=666, test_size=0.2)\n",
    "X_train, X_dev, y_train, y_dev = train_test_split(X_train_dev, y_train_dev, random_state=667, test_size=0.25)\n",
    "\n",
    "reg = LinearRegression()\n",
    "reg.fit(X_train, y_train)\n",
    "y_dev_hat = reg.predict(X_dev)\n",
    "print(np.sqrt(mean_squared_error(y_dev, y_dev_hat)))"
   ]
  },
  {
   "cell_type": "markdown",
   "metadata": {},
   "source": [
    "> ¿Qué ha pasado?\n",
    "\n",
    "\n",
    "Tenemos valores nulos."
   ]
  },
  {
   "cell_type": "markdown",
   "metadata": {},
   "source": [
    "### 2. Tratamiento de Nas"
   ]
  },
  {
   "cell_type": "code",
   "execution_count": 8,
   "metadata": {},
   "outputs": [
    {
     "data": {
      "text/plain": [
       "(1460, 38)"
      ]
     },
     "execution_count": 8,
     "metadata": {},
     "output_type": "execute_result"
    }
   ],
   "source": [
    "houses_num =  houses.select_dtypes(include=[np.number])\n",
    "houses_num.shape"
   ]
  },
  {
   "cell_type": "code",
   "execution_count": 9,
   "metadata": {},
   "outputs": [
    {
     "data": {
      "text/plain": [
       "LotFrontage    259\n",
       "MasVnrArea       8\n",
       "GarageYrBlt     81\n",
       "dtype: int64"
      ]
     },
     "execution_count": 9,
     "metadata": {},
     "output_type": "execute_result"
    }
   ],
   "source": [
    "var = houses_num.isnull().sum()\n",
    "var[var>0]"
   ]
  },
  {
   "cell_type": "markdown",
   "metadata": {},
   "source": [
    "###### Método 1: eliminar las columnas con NAs"
   ]
  },
  {
   "cell_type": "code",
   "execution_count": 10,
   "metadata": {},
   "outputs": [],
   "source": [
    "columnswithNulls = ['LotFrontage','GarageYrBlt',\"MasVnrArea\"]"
   ]
  },
  {
   "cell_type": "code",
   "execution_count": 11,
   "metadata": {},
   "outputs": [
    {
     "data": {
      "text/plain": [
       "0"
      ]
     },
     "execution_count": 11,
     "metadata": {},
     "output_type": "execute_result"
    }
   ],
   "source": [
    "houses_num.drop(columnswithNulls,axis=1).isnull().sum().sum()"
   ]
  },
  {
   "cell_type": "code",
   "execution_count": 12,
   "metadata": {},
   "outputs": [
    {
     "name": "stdout",
     "output_type": "stream",
     "text": [
      "34461.69716294498\n"
     ]
    }
   ],
   "source": [
    "target_col = \"SalePrice\"\n",
    "Xy = houses_num.drop(columnswithNulls,axis=1)\n",
    "X = Xy.drop(target_col, axis=1)\n",
    "y = Xy[target_col]\n",
    "\n",
    "X_train_dev, X_test, y_train_dev, y_test = train_test_split(X, y, random_state=666, test_size=0.2)\n",
    "X_train, X_dev, y_train, y_dev = train_test_split(X_train_dev, y_train_dev, random_state=667, test_size=0.25)\n",
    "\n",
    "reg = LinearRegression()\n",
    "reg.fit(X_train, y_train)\n",
    "y_dev_hat = reg.predict(X_dev)\n",
    "print(np.sqrt(mean_squared_error(y_dev, y_dev_hat)))"
   ]
  },
  {
   "cell_type": "markdown",
   "metadata": {
    "collapsed": true
   },
   "source": [
    "###### Método 2: eliminar las filas con NAs"
   ]
  },
  {
   "cell_type": "code",
   "execution_count": 13,
   "metadata": {},
   "outputs": [
    {
     "name": "stdout",
     "output_type": "stream",
     "text": [
      "(1460, 38)\n",
      "(1121, 38)\n"
     ]
    }
   ],
   "source": [
    "Xy = houses_num\n",
    "print(Xy.shape)\n",
    "Xy = Xy.dropna()\n",
    "print(Xy.shape)"
   ]
  },
  {
   "cell_type": "code",
   "execution_count": 14,
   "metadata": {},
   "outputs": [
    {
     "name": "stdout",
     "output_type": "stream",
     "text": [
      "46685.432355986566\n"
     ]
    }
   ],
   "source": [
    "X = Xy.drop(target_col, axis=1).dropna()\n",
    "y = Xy[target_col]\n",
    "X_train_dev, X_test, y_train_dev, y_test = train_test_split(X, y, random_state=666, test_size=0.2)\n",
    "X_train, X_dev, y_train, y_dev = train_test_split(X_train_dev, y_train_dev, random_state=667, test_size=0.25)\n",
    "\n",
    "reg = LinearRegression()\n",
    "reg.fit(X_train, y_train)\n",
    "y_dev_hat = reg.predict(X_dev)\n",
    "print(np.sqrt(mean_squared_error(y_dev, y_dev_hat)))"
   ]
  },
  {
   "cell_type": "markdown",
   "metadata": {},
   "source": [
    "###### Método 3: sustituir NAs por valores adecuados\n",
    "\n",
    "La idea es sustituir por valores que entran dentro del dominio de \n",
    "la variable; por ejemplo 0, un valor aleatorio, una media, una mediana, moda o incluso un valor estimado por otro modelo predictivo."
   ]
  },
  {
   "cell_type": "code",
   "execution_count": 15,
   "metadata": {},
   "outputs": [],
   "source": [
    "columnswithNulls = ['LotFrontage','GarageYrBlt',\"MasVnrArea\"]"
   ]
  },
  {
   "cell_type": "code",
   "execution_count": 16,
   "metadata": {},
   "outputs": [
    {
     "data": {
      "text/html": [
       "<div>\n",
       "<style scoped>\n",
       "    .dataframe tbody tr th:only-of-type {\n",
       "        vertical-align: middle;\n",
       "    }\n",
       "\n",
       "    .dataframe tbody tr th {\n",
       "        vertical-align: top;\n",
       "    }\n",
       "\n",
       "    .dataframe thead th {\n",
       "        text-align: right;\n",
       "    }\n",
       "</style>\n",
       "<table border=\"1\" class=\"dataframe\">\n",
       "  <thead>\n",
       "    <tr style=\"text-align: right;\">\n",
       "      <th></th>\n",
       "      <th>LotFrontage</th>\n",
       "      <th>GarageYrBlt</th>\n",
       "      <th>MasVnrArea</th>\n",
       "    </tr>\n",
       "  </thead>\n",
       "  <tbody>\n",
       "    <tr>\n",
       "      <th>count</th>\n",
       "      <td>1201.000000</td>\n",
       "      <td>1379.000000</td>\n",
       "      <td>1452.000000</td>\n",
       "    </tr>\n",
       "    <tr>\n",
       "      <th>mean</th>\n",
       "      <td>70.049958</td>\n",
       "      <td>1978.506164</td>\n",
       "      <td>103.685262</td>\n",
       "    </tr>\n",
       "    <tr>\n",
       "      <th>std</th>\n",
       "      <td>24.284752</td>\n",
       "      <td>24.689725</td>\n",
       "      <td>181.066207</td>\n",
       "    </tr>\n",
       "    <tr>\n",
       "      <th>min</th>\n",
       "      <td>21.000000</td>\n",
       "      <td>1900.000000</td>\n",
       "      <td>0.000000</td>\n",
       "    </tr>\n",
       "    <tr>\n",
       "      <th>25%</th>\n",
       "      <td>59.000000</td>\n",
       "      <td>1961.000000</td>\n",
       "      <td>0.000000</td>\n",
       "    </tr>\n",
       "    <tr>\n",
       "      <th>50%</th>\n",
       "      <td>69.000000</td>\n",
       "      <td>1980.000000</td>\n",
       "      <td>0.000000</td>\n",
       "    </tr>\n",
       "    <tr>\n",
       "      <th>75%</th>\n",
       "      <td>80.000000</td>\n",
       "      <td>2002.000000</td>\n",
       "      <td>166.000000</td>\n",
       "    </tr>\n",
       "    <tr>\n",
       "      <th>max</th>\n",
       "      <td>313.000000</td>\n",
       "      <td>2010.000000</td>\n",
       "      <td>1600.000000</td>\n",
       "    </tr>\n",
       "  </tbody>\n",
       "</table>\n",
       "</div>"
      ],
      "text/plain": [
       "       LotFrontage  GarageYrBlt   MasVnrArea\n",
       "count  1201.000000  1379.000000  1452.000000\n",
       "mean     70.049958  1978.506164   103.685262\n",
       "std      24.284752    24.689725   181.066207\n",
       "min      21.000000  1900.000000     0.000000\n",
       "25%      59.000000  1961.000000     0.000000\n",
       "50%      69.000000  1980.000000     0.000000\n",
       "75%      80.000000  2002.000000   166.000000\n",
       "max     313.000000  2010.000000  1600.000000"
      ]
     },
     "execution_count": 16,
     "metadata": {},
     "output_type": "execute_result"
    }
   ],
   "source": [
    "houses[columnswithNulls].describe()"
   ]
  },
  {
   "cell_type": "markdown",
   "metadata": {},
   "source": [
    "##### Por un valor aleatorio"
   ]
  },
  {
   "cell_type": "code",
   "execution_count": 17,
   "metadata": {},
   "outputs": [
    {
     "data": {
      "text/plain": [
       "348"
      ]
     },
     "execution_count": 17,
     "metadata": {},
     "output_type": "execute_result"
    }
   ],
   "source": [
    "import random\n",
    "aux = houses_num.copy()\n",
    "aux[columnswithNulls].isnull().sum().sum()"
   ]
  },
  {
   "cell_type": "code",
   "execution_count": 18,
   "metadata": {},
   "outputs": [],
   "source": [
    "for col in columnswithNulls:\n",
    "    minVal =  aux[col].min()\n",
    "    maxVal = aux[col].max()\n",
    "    aux.loc[aux[col].isnull(),col] =  random.randrange(minVal,maxVal)"
   ]
  },
  {
   "cell_type": "code",
   "execution_count": 19,
   "metadata": {},
   "outputs": [
    {
     "name": "stdout",
     "output_type": "stream",
     "text": [
      "33804.88856024269\n"
     ]
    }
   ],
   "source": [
    "X = aux.drop(target_col, axis=1).dropna()\n",
    "y = aux[target_col]\n",
    "X_train_dev, X_test, y_train_dev, y_test = train_test_split(X, y, random_state=666, test_size=0.2)\n",
    "X_train, X_dev, y_train, y_dev = train_test_split(X_train_dev, y_train_dev, random_state=667, test_size=0.25)\n",
    "\n",
    "reg = LinearRegression()\n",
    "reg.fit(X_train, y_train)\n",
    "y_dev_hat = reg.predict(X_dev)\n",
    "print(np.sqrt(mean_squared_error(y_dev, y_dev_hat)))"
   ]
  },
  {
   "cell_type": "markdown",
   "metadata": {},
   "source": [
    "##### Por la media"
   ]
  },
  {
   "cell_type": "code",
   "execution_count": 20,
   "metadata": {},
   "outputs": [
    {
     "data": {
      "text/plain": [
       "348"
      ]
     },
     "execution_count": 20,
     "metadata": {},
     "output_type": "execute_result"
    }
   ],
   "source": [
    "aux = houses_num.copy()\n",
    "aux[columnswithNulls].isnull().sum().sum()"
   ]
  },
  {
   "cell_type": "code",
   "execution_count": 21,
   "metadata": {},
   "outputs": [],
   "source": [
    "for col in columnswithNulls:\n",
    "    meanVal =  aux[col].mean()\n",
    "    aux.loc[aux[col].isnull(),col] =  meanVal"
   ]
  },
  {
   "cell_type": "code",
   "execution_count": 22,
   "metadata": {},
   "outputs": [
    {
     "name": "stdout",
     "output_type": "stream",
     "text": [
      "34086.18004235941\n"
     ]
    }
   ],
   "source": [
    "X = aux.drop(target_col, axis=1).dropna()\n",
    "y = aux[target_col]\n",
    "X_train_dev, X_test, y_train_dev, y_test = train_test_split(X, y, random_state=666, test_size=0.2)\n",
    "X_train, X_dev, y_train, y_dev = train_test_split(X_train_dev, y_train_dev, random_state=667, test_size=0.25)\n",
    "\n",
    "reg = LinearRegression()\n",
    "reg.fit(X_train, y_train)\n",
    "y_dev_hat = reg.predict(X_dev)\n",
    "print(np.sqrt(mean_squared_error(y_dev, y_dev_hat)))"
   ]
  },
  {
   "cell_type": "markdown",
   "metadata": {},
   "source": [
    "##### Por el mínimo"
   ]
  },
  {
   "cell_type": "code",
   "execution_count": 23,
   "metadata": {},
   "outputs": [
    {
     "data": {
      "text/plain": [
       "['LotFrontage', 'GarageYrBlt', 'MasVnrArea']"
      ]
     },
     "execution_count": 23,
     "metadata": {},
     "output_type": "execute_result"
    }
   ],
   "source": [
    "columnswithNulls"
   ]
  },
  {
   "cell_type": "code",
   "execution_count": 24,
   "metadata": {},
   "outputs": [],
   "source": [
    "aux = houses_num.copy()\n",
    "for col in columnswithNulls:\n",
    "    minVal =  aux[col].min()\n",
    "    aux.loc[aux[col].isnull(),col] =  minVal"
   ]
  },
  {
   "cell_type": "code",
   "execution_count": 25,
   "metadata": {},
   "outputs": [
    {
     "name": "stdout",
     "output_type": "stream",
     "text": [
      "33728.24586659505\n"
     ]
    }
   ],
   "source": [
    "X = aux.drop(target_col, axis=1).dropna()\n",
    "y = aux[target_col]\n",
    "X_train_dev, X_test, y_train_dev, y_test = train_test_split(X, y, random_state=666, test_size=0.2)\n",
    "X_train, X_dev, y_train, y_dev = train_test_split(X_train_dev, y_train_dev, random_state=667, test_size=0.25)\n",
    "\n",
    "reg = LinearRegression()\n",
    "reg.fit(X_train, y_train)\n",
    "y_dev_hat = reg.predict(X_dev)\n",
    "print(np.sqrt(mean_squared_error(y_dev, y_dev_hat)))"
   ]
  },
  {
   "cell_type": "markdown",
   "metadata": {},
   "source": [
    "##### Por el mínimo y creación de columnas binarias indicando posición de valores nulos"
   ]
  },
  {
   "cell_type": "code",
   "execution_count": 26,
   "metadata": {},
   "outputs": [],
   "source": [
    "aux = houses_num.copy()\n",
    "for col in columnswithNulls:\n",
    "    aux[col+'bin'] = 1\n",
    "    aux.loc[aux[col].isnull(),col+'bin'] = 0\n",
    "    minVal =  aux[col].min()\n",
    "    aux.loc[aux[col].isnull(),col] =  minVal"
   ]
  },
  {
   "cell_type": "code",
   "execution_count": 27,
   "metadata": {},
   "outputs": [
    {
     "name": "stdout",
     "output_type": "stream",
     "text": [
      "33740.8550609176\n"
     ]
    }
   ],
   "source": [
    "X = aux.drop(target_col, axis=1).dropna()\n",
    "y = aux[target_col]\n",
    "X_train_dev, X_test, y_train_dev, y_test = train_test_split(X, y, random_state=666, test_size=0.2)\n",
    "X_train, X_dev, y_train, y_dev = train_test_split(X_train_dev, y_train_dev, random_state=667, test_size=0.25)\n",
    "\n",
    "reg = LinearRegression()\n",
    "reg.fit(X_train, y_train)\n",
    "y_dev_hat = reg.predict(X_dev)\n",
    "print(np.sqrt(mean_squared_error(y_dev, y_dev_hat)))"
   ]
  },
  {
   "cell_type": "markdown",
   "metadata": {},
   "source": [
    "### 2. Variables categóricas: tratamiento\n",
    "\n",
    "En numerosas ocasiones nos enfrentaremos a variables categóricas las cuales tienen una fuerte correlación con la variable a predecir. Por ejemplo en el caso del predcio de venta de casas, claramente el tipo de barrio es un variable totalmente importante para predecir su precio. Un casa de msimas carazterísticas no tiene el mismo valor en Extremadura que en Barcelona. Veremos aquí qué metodologías existen para tratar variables categóricas:\n",
    "\n",
    "1) Labelizar\n",
    "\n",
    "2) One-hot-encoding\n",
    "\n",
    "3) Value encoding"
   ]
  },
  {
   "cell_type": "markdown",
   "metadata": {
    "collapsed": true
   },
   "source": [
    "Busquemos en nuestro dataset quienes son las variables categóricas"
   ]
  },
  {
   "cell_type": "code",
   "execution_count": 31,
   "metadata": {},
   "outputs": [],
   "source": [
    "houses_cat =  houses.select_dtypes(include=[np.object])"
   ]
  },
  {
   "cell_type": "code",
   "execution_count": 32,
   "metadata": {},
   "outputs": [
    {
     "data": {
      "text/plain": [
       "(1460, 43)"
      ]
     },
     "execution_count": 32,
     "metadata": {},
     "output_type": "execute_result"
    }
   ],
   "source": [
    "houses_cat.shape"
   ]
  },
  {
   "cell_type": "code",
   "execution_count": 33,
   "metadata": {},
   "outputs": [
    {
     "data": {
      "text/html": [
       "<div>\n",
       "<style scoped>\n",
       "    .dataframe tbody tr th:only-of-type {\n",
       "        vertical-align: middle;\n",
       "    }\n",
       "\n",
       "    .dataframe tbody tr th {\n",
       "        vertical-align: top;\n",
       "    }\n",
       "\n",
       "    .dataframe thead th {\n",
       "        text-align: right;\n",
       "    }\n",
       "</style>\n",
       "<table border=\"1\" class=\"dataframe\">\n",
       "  <thead>\n",
       "    <tr style=\"text-align: right;\">\n",
       "      <th></th>\n",
       "      <th>MSZoning</th>\n",
       "      <th>Street</th>\n",
       "      <th>Alley</th>\n",
       "      <th>LotShape</th>\n",
       "      <th>LandContour</th>\n",
       "      <th>Utilities</th>\n",
       "      <th>LotConfig</th>\n",
       "      <th>LandSlope</th>\n",
       "      <th>Neighborhood</th>\n",
       "      <th>Condition1</th>\n",
       "      <th>...</th>\n",
       "      <th>GarageType</th>\n",
       "      <th>GarageFinish</th>\n",
       "      <th>GarageQual</th>\n",
       "      <th>GarageCond</th>\n",
       "      <th>PavedDrive</th>\n",
       "      <th>PoolQC</th>\n",
       "      <th>Fence</th>\n",
       "      <th>MiscFeature</th>\n",
       "      <th>SaleType</th>\n",
       "      <th>SaleCondition</th>\n",
       "    </tr>\n",
       "  </thead>\n",
       "  <tbody>\n",
       "    <tr>\n",
       "      <th>count</th>\n",
       "      <td>1460</td>\n",
       "      <td>1460</td>\n",
       "      <td>91</td>\n",
       "      <td>1460</td>\n",
       "      <td>1460</td>\n",
       "      <td>1460</td>\n",
       "      <td>1460</td>\n",
       "      <td>1460</td>\n",
       "      <td>1460</td>\n",
       "      <td>1460</td>\n",
       "      <td>...</td>\n",
       "      <td>1379</td>\n",
       "      <td>1379</td>\n",
       "      <td>1379</td>\n",
       "      <td>1379</td>\n",
       "      <td>1460</td>\n",
       "      <td>7</td>\n",
       "      <td>281</td>\n",
       "      <td>54</td>\n",
       "      <td>1460</td>\n",
       "      <td>1460</td>\n",
       "    </tr>\n",
       "    <tr>\n",
       "      <th>unique</th>\n",
       "      <td>5</td>\n",
       "      <td>2</td>\n",
       "      <td>2</td>\n",
       "      <td>4</td>\n",
       "      <td>4</td>\n",
       "      <td>2</td>\n",
       "      <td>5</td>\n",
       "      <td>3</td>\n",
       "      <td>25</td>\n",
       "      <td>9</td>\n",
       "      <td>...</td>\n",
       "      <td>6</td>\n",
       "      <td>3</td>\n",
       "      <td>5</td>\n",
       "      <td>5</td>\n",
       "      <td>3</td>\n",
       "      <td>3</td>\n",
       "      <td>4</td>\n",
       "      <td>4</td>\n",
       "      <td>9</td>\n",
       "      <td>6</td>\n",
       "    </tr>\n",
       "    <tr>\n",
       "      <th>top</th>\n",
       "      <td>RL</td>\n",
       "      <td>Pave</td>\n",
       "      <td>Grvl</td>\n",
       "      <td>Reg</td>\n",
       "      <td>Lvl</td>\n",
       "      <td>AllPub</td>\n",
       "      <td>Inside</td>\n",
       "      <td>Gtl</td>\n",
       "      <td>NAmes</td>\n",
       "      <td>Norm</td>\n",
       "      <td>...</td>\n",
       "      <td>Attchd</td>\n",
       "      <td>Unf</td>\n",
       "      <td>TA</td>\n",
       "      <td>TA</td>\n",
       "      <td>Y</td>\n",
       "      <td>Gd</td>\n",
       "      <td>MnPrv</td>\n",
       "      <td>Shed</td>\n",
       "      <td>WD</td>\n",
       "      <td>Normal</td>\n",
       "    </tr>\n",
       "    <tr>\n",
       "      <th>freq</th>\n",
       "      <td>1151</td>\n",
       "      <td>1454</td>\n",
       "      <td>50</td>\n",
       "      <td>925</td>\n",
       "      <td>1311</td>\n",
       "      <td>1459</td>\n",
       "      <td>1052</td>\n",
       "      <td>1382</td>\n",
       "      <td>225</td>\n",
       "      <td>1260</td>\n",
       "      <td>...</td>\n",
       "      <td>870</td>\n",
       "      <td>605</td>\n",
       "      <td>1311</td>\n",
       "      <td>1326</td>\n",
       "      <td>1340</td>\n",
       "      <td>3</td>\n",
       "      <td>157</td>\n",
       "      <td>49</td>\n",
       "      <td>1267</td>\n",
       "      <td>1198</td>\n",
       "    </tr>\n",
       "  </tbody>\n",
       "</table>\n",
       "<p>4 rows × 43 columns</p>\n",
       "</div>"
      ],
      "text/plain": [
       "       MSZoning Street Alley LotShape LandContour Utilities LotConfig  \\\n",
       "count      1460   1460    91     1460        1460      1460      1460   \n",
       "unique        5      2     2        4           4         2         5   \n",
       "top          RL   Pave  Grvl      Reg         Lvl    AllPub    Inside   \n",
       "freq       1151   1454    50      925        1311      1459      1052   \n",
       "\n",
       "       LandSlope Neighborhood Condition1  ... GarageType GarageFinish  \\\n",
       "count       1460         1460       1460  ...       1379         1379   \n",
       "unique         3           25          9  ...          6            3   \n",
       "top          Gtl        NAmes       Norm  ...     Attchd          Unf   \n",
       "freq        1382          225       1260  ...        870          605   \n",
       "\n",
       "       GarageQual GarageCond PavedDrive PoolQC  Fence MiscFeature SaleType  \\\n",
       "count        1379       1379       1460      7    281          54     1460   \n",
       "unique          5          5          3      3      4           4        9   \n",
       "top            TA         TA          Y     Gd  MnPrv        Shed       WD   \n",
       "freq         1311       1326       1340      3    157          49     1267   \n",
       "\n",
       "       SaleCondition  \n",
       "count           1460  \n",
       "unique             6  \n",
       "top           Normal  \n",
       "freq            1198  \n",
       "\n",
       "[4 rows x 43 columns]"
      ]
     },
     "execution_count": 33,
     "metadata": {},
     "output_type": "execute_result"
    }
   ],
   "source": [
    "houses_cat.describe()"
   ]
  },
  {
   "cell_type": "markdown",
   "metadata": {},
   "source": [
    "Vamos a predecir el valor de las casa con una única variable categórica:\n",
    "\n",
    "\"Neighborhood\""
   ]
  },
  {
   "cell_type": "markdown",
   "metadata": {},
   "source": [
    "## 2.1) Labelización"
   ]
  },
  {
   "cell_type": "code",
   "execution_count": 34,
   "metadata": {},
   "outputs": [
    {
     "data": {
      "text/plain": [
       "(array(['CollgCr', 'Veenker', 'Crawfor', 'NoRidge', 'Mitchel', 'Somerst',\n",
       "        'NWAmes', 'OldTown', 'BrkSide', 'Sawyer', 'NridgHt', 'NAmes',\n",
       "        'SawyerW', 'IDOTRR', 'MeadowV', 'Edwards', 'Timber', 'Gilbert',\n",
       "        'StoneBr', 'ClearCr', 'NPkVill', 'Blmngtn', 'BrDale', 'SWISU',\n",
       "        'Blueste'], dtype=object), 25)"
      ]
     },
     "execution_count": 34,
     "metadata": {},
     "output_type": "execute_result"
    }
   ],
   "source": [
    "houses = pd.read_csv(path, index_col=\"Id\")\n",
    "houses['Neighborhood'].unique(),houses['Neighborhood'].nunique()"
   ]
  },
  {
   "cell_type": "code",
   "execution_count": 35,
   "metadata": {},
   "outputs": [],
   "source": [
    "\n",
    "target_col = \"SalePrice\"\n",
    "categorical_column = \"Neighborhood\"\n",
    "Xy = houses[[categorical_column, target_col]]\n",
    "X = Xy.drop(target_col, axis=1)\n",
    "y = Xy[target_col]\n",
    "\n",
    "X_train_dev, X_test, y_train_dev, y_test = train_test_split(X, y, random_state=666, test_size=0.2)\n",
    "X_train, X_dev, y_train, y_dev = train_test_split(X_train_dev, y_train_dev, random_state=667, test_size=0.25)"
   ]
  },
  {
   "cell_type": "code",
   "execution_count": 36,
   "metadata": {},
   "outputs": [],
   "source": [
    "classes = X[categorical_column].unique()\n",
    "col2num = {classes[i]: i for i in range(len(classes))}\n",
    "X_train[categorical_column + \"_label\"] = X_train[categorical_column].apply(lambda cls: col2num[cls])\n",
    "X_dev[categorical_column + \"_label\"] = X_dev[categorical_column].apply(lambda cls: col2num[cls])"
   ]
  },
  {
   "cell_type": "code",
   "execution_count": 37,
   "metadata": {},
   "outputs": [
    {
     "name": "stdout",
     "output_type": "stream",
     "text": [
      "79925.19665925231\n"
     ]
    }
   ],
   "source": [
    "reg = LinearRegression()\n",
    "reg.fit(X_train[[categorical_column + \"_label\"]], y_train)\n",
    "y_dev_hat = reg.predict(X_dev[[categorical_column + \"_label\"]])\n",
    "print(np.sqrt(mean_squared_error(y_dev, y_dev_hat)))"
   ]
  },
  {
   "cell_type": "code",
   "execution_count": 38,
   "metadata": {},
   "outputs": [
    {
     "data": {
      "text/plain": [
       "Text(0, 0.5, 'Sale Price')"
      ]
     },
     "execution_count": 38,
     "metadata": {},
     "output_type": "execute_result"
    },
    {
     "data": {
      "image/png": "[encoded data removed]",
      "text/plain": [
       "<Figure size 720x360 with 1 Axes>"
      ]
     },
     "metadata": {
      "needs_background": "light"
     },
     "output_type": "display_data"
    }
   ],
   "source": [
    "# Ploting real data y (blue)\n",
    "plt.scatter(X_dev[[categorical_column + \"_label\"]], y_dev, alpha=0.3, c=\"blue\")\n",
    "# versus predicted y_hat (red)\n",
    "\n",
    "\n",
    "plt.plot(X_dev[[categorical_column + \"_label\"]], y_dev_hat, alpha=0.3, c=\"red\")\n",
    "\n",
    "plt.xlabel(\"Labelized category\")\n",
    "plt.ylabel(\"Sale Price\")"
   ]
  },
  {
   "cell_type": "markdown",
   "metadata": {},
   "source": [
    "__Nota__ : Vemos que la predicción es casi constante y probablemente deberíamos reordenar las etiquetas de una manera diferente. Hay dos maneras de resolverlo que discutiremos aquí.\n",
    "\n",
    "1. Podríamos etiquetar las categorías de manera que no tengan un pedido. Podemos hacer esto usando One-Hot-Encoding.\n",
    "\n",
    "2. Categorías etiquetadas por números que tiene sentido."
   ]
  },
  {
   "cell_type": "markdown",
   "metadata": {},
   "source": [
    "### 2.1 One-hot-encoding\n",
    "\n",
    "Esto es creando tantas columnas como categorías que tenemos y rellenándolas con ceros, excepto la que corresponde a la categoría. Así codifica las categorías de la siguiente manera:\n",
    "\n",
    "* dog to `[1, 0, 1]`\n",
    "* cat to `[0, 1, 0]`\n",
    "* horse to `[0, 0, 1]`\n",
    "\n",
    "en el caso de una variable con tres valores distintos"
   ]
  },
  {
   "cell_type": "code",
   "execution_count": 39,
   "metadata": {},
   "outputs": [],
   "source": [
    "def label_one_hot_encoding(series, dict_length=None):\n",
    "    if dict_length is None:\n",
    "        dict_length = len(series.unique())\n",
    "    return np.eye(dict_length)[series]"
   ]
  },
  {
   "cell_type": "markdown",
   "metadata": {},
   "source": [
    "Vamos a ver la diferencia con la labelización para el mismo ejemplo:"
   ]
  },
  {
   "cell_type": "code",
   "execution_count": 40,
   "metadata": {},
   "outputs": [],
   "source": [
    "dict_length = len(X_train[categorical_column + \"_label\"].unique())"
   ]
  },
  {
   "cell_type": "code",
   "execution_count": 41,
   "metadata": {},
   "outputs": [
    {
     "name": "stdout",
     "output_type": "stream",
     "text": [
      "59058.31690049982\n"
     ]
    }
   ],
   "source": [
    "reg.fit(label_one_hot_encoding(X_train[categorical_column + \"_label\"], dict_length), y_train)\n",
    "y_dev_hat = reg.predict(label_one_hot_encoding(X_dev[categorical_column + \"_label\"], dict_length))\n",
    "print(np.sqrt(mean_squared_error(y_dev, y_dev_hat)))"
   ]
  },
  {
   "cell_type": "code",
   "execution_count": null,
   "metadata": {},
   "outputs": [],
   "source": []
  },
  {
   "cell_type": "code",
   "execution_count": 42,
   "metadata": {},
   "outputs": [
    {
     "name": "stdout",
     "output_type": "stream",
     "text": [
      "[19 17 11 17  7  0 16 18  7 16  5 19  8  6  3  5 12 19  8 19 15 10 17 12\n",
      " 17 19  0  3  4  2  5  4  1 12  6  5 13  8 12 12  6  7 17  8 12 22  7 23\n",
      " 21 12  7 12 16  4  7  4 17  5 17  5  3  3  7 19  7  9  8 12 11 12 12 12\n",
      "  7  5 18 12 12  5 17 24 21 16  5 14  7 20  8 12 12  8 12  3 15 11 16 12\n",
      "  8 11  5  6 19 12 12 19 19 14  5 17 20 15 17 12 14  9  7  7  6 14 23 10\n",
      " 20 16  6 19 21 13 17 11 17 15  6  7 22 23  7  3 20 12  5 16 18 12 19 12\n",
      " 12 20  8 19 12 12 12  0 12 22  2 21 12  6  8 14 10  7  7 21 23 18 14  3\n",
      " 19 19  7  7  5 16 19  8 20 12 20 16 23 22 20 12 21  7 16  3 14 12  8 12\n",
      " 23  5  3  5 11  9 10 16 12  7 18 15 16 12 19 21  9 19  5 21 12  4 23  5\n",
      " 18 17 17  2  7 12 21 18 15 12 23 10  5 18 14  5 10  5 20 19 23 16 16 19\n",
      " 19  5 12 21 12  7 12 11 12  8  4 12 16 17 14 22  5  5  5  5 12  2 17  3\n",
      " 12 17  0  5  6 12  8  2 15  7 20 20 16 21 14 20 22 14 14 21 15 12  6 11\n",
      "  5 16  6 14 21  5 21  6 23 11 18  8 19  2 11 19 15  9 12  8 15 14  4 12\n",
      "  7 14  3 12 24  7 21 17 21 17 24 15  7 14 15 14 14 16 12 11  4  8  5 21\n",
      "  8 22 17  8 20 16 12 23 15 23 17 14  7 14 14 15 20  6  6 14 17 12  7 21\n",
      " 16 12  4 17  5  6 12 16 12  9  4 24 21 11  7 19 12  7  5 17 17  3  8 14\n",
      " 12 11 21  5 21  7  6 12 16  8  9 17  3  0  8 14  6  7 12 20  5 12 14 10\n",
      "  5 16 16 24 14 21 12 19  5 12 14  7 12 12 16 12 12 12 12  7 12 11 14 12\n",
      "  8  7  4 12 17 17 12 23 12 20 23 21 20 12 21  7  5  3 12  8  5 16  9  3\n",
      "  5 23 21  3 20 17  9 19 11 17 21 23  2 10  5 12 15 20  5  8 12 17  5 14\n",
      " 14 17 21 19 16 17  5 21 12  3 22 12 23  6  7 22 16 17 12  7  6 12 12  8\n",
      "  5 21 20  8 16 21 21 21 19 12 21  7 13 21  5  9 19 12  6 17 19  6 20 24\n",
      "  5  8 17 20 14  4 17 14  3 12 16 14  0 21  7  3 12 12 21  5  5 16 17  3\n",
      " 11 15  5 23 16 14 16  5  5 12 12 16 17 22  5 11 18 16 20  6 18  7  5 16\n",
      " 17  5 21  7 17 12 22  5  8  3 14  7  4  7 17 16 14  3 17  7  7 17 21 19\n",
      " 12 20 10 12 14 21 19 15 17 12  0 12  8  5  0 14 12 20 11  8 19 14  5  5\n",
      " 13 15 12  3  9  6  3 12  8 17  8 16  5 20 20 16 21 12 22  3  8 20  0 15\n",
      "  8  9 17  7 22 19  9  9 16 17  7  5 20 13  9 21  5  5 21  5 23  8  7 11\n",
      " 17  8 12  7 19 16 11  3 20 16 12 12  3  4 15 20 17  9 24  5 14  5  6 12\n",
      "  8 12 15  7 14  8  9  5  7 21 22  0 14 21 17 11 12 12 12 17  8 16  5  8\n",
      "  7 19 17  7 20 12 16  8  5 17 12  8 12 12  5 17 11 10 22 16 19 21 19 12\n",
      "  5 11 12 14  5  7 19 12  7 21 17  3 17  9  5 12 12 18 12 16 18 12 17 22\n",
      " 20  4 17  5 17 12 17 12 12  8  8 24 12 12 12 13 19 12  7 17  4 12  9 17\n",
      " 14  7  9 12 16 15 14 11 20 17  6  8 10 23  8 17  5 12  5 22 21 12  5 16\n",
      " 19 17  8 19 20 14  5 16  2 14 12 23 17 12 11 16  6  2  5 12  5  4  7 18\n",
      " 21 20 21  6  5 14  9 10 20 12 16  5 19 19 12 14 12  7 17  7 21  7  6  5\n",
      "  5 12 12  2  7 16 17  7 11 17 12  7]\n"
     ]
    }
   ],
   "source": [
    "from sklearn.preprocessing import LabelEncoder\n",
    "from sklearn.preprocessing import OneHotEncoder\n",
    "# integer encode\n",
    "label_encoder = LabelEncoder()\n",
    "integer_encoded = label_encoder.fit_transform(X_train['Neighborhood'])\n",
    "print(integer_encoded)"
   ]
  },
  {
   "cell_type": "code",
   "execution_count": 43,
   "metadata": {},
   "outputs": [
    {
     "name": "stdout",
     "output_type": "stream",
     "text": [
      "[[0. 0. 0. ... 0. 0. 0.]\n",
      " [0. 0. 0. ... 0. 0. 0.]\n",
      " [0. 0. 0. ... 0. 0. 0.]\n",
      " ...\n",
      " [0. 0. 0. ... 0. 0. 0.]\n",
      " [0. 0. 0. ... 0. 0. 0.]\n",
      " [0. 0. 0. ... 0. 0. 0.]]\n"
     ]
    }
   ],
   "source": [
    "# binary encode\n",
    "onehot_encoder = OneHotEncoder(sparse=False)\n",
    "integer_encoded = integer_encoded.reshape(len(integer_encoded), 1)\n",
    "onehot_encoded = onehot_encoder.fit_transform(integer_encoded)\n",
    "print(onehot_encoded)"
   ]
  },
  {
   "cell_type": "markdown",
   "metadata": {},
   "source": [
    "### 2.1 Value encoding\n",
    "\n",
    "Otra forma de codificar categorías es usar valores promedio de la variable objetivo. En realidad, en esta situación obtendremos exactamente las mismas predicciones `y_dev_hat`. Lo más importante que debes recordar es utilizar `X_train` y ` y_train`. Veamos con el siguiente código lo que significa."
   ]
  },
  {
   "cell_type": "code",
   "execution_count": 44,
   "metadata": {},
   "outputs": [
    {
     "data": {
      "text/html": [
       "<div>\n",
       "<style scoped>\n",
       "    .dataframe tbody tr th:only-of-type {\n",
       "        vertical-align: middle;\n",
       "    }\n",
       "\n",
       "    .dataframe tbody tr th {\n",
       "        vertical-align: top;\n",
       "    }\n",
       "\n",
       "    .dataframe thead th {\n",
       "        text-align: right;\n",
       "    }\n",
       "</style>\n",
       "<table border=\"1\" class=\"dataframe\">\n",
       "  <thead>\n",
       "    <tr style=\"text-align: right;\">\n",
       "      <th></th>\n",
       "      <th>Neighborhood</th>\n",
       "      <th>Neighborhood_value</th>\n",
       "    </tr>\n",
       "  </thead>\n",
       "  <tbody>\n",
       "    <tr>\n",
       "      <th>0</th>\n",
       "      <td>Blmngtn</td>\n",
       "      <td>191537.400000</td>\n",
       "    </tr>\n",
       "    <tr>\n",
       "      <th>1</th>\n",
       "      <td>Blueste</td>\n",
       "      <td>124000.000000</td>\n",
       "    </tr>\n",
       "    <tr>\n",
       "      <th>2</th>\n",
       "      <td>BrDale</td>\n",
       "      <td>109250.000000</td>\n",
       "    </tr>\n",
       "    <tr>\n",
       "      <th>3</th>\n",
       "      <td>BrkSide</td>\n",
       "      <td>123232.142857</td>\n",
       "    </tr>\n",
       "    <tr>\n",
       "      <th>4</th>\n",
       "      <td>ClearCr</td>\n",
       "      <td>215843.058824</td>\n",
       "    </tr>\n",
       "  </tbody>\n",
       "</table>\n",
       "</div>"
      ],
      "text/plain": [
       "  Neighborhood  Neighborhood_value\n",
       "0      Blmngtn       191537.400000\n",
       "1      Blueste       124000.000000\n",
       "2       BrDale       109250.000000\n",
       "3      BrkSide       123232.142857\n",
       "4      ClearCr       215843.058824"
      ]
     },
     "execution_count": 44,
     "metadata": {},
     "output_type": "execute_result"
    }
   ],
   "source": [
    "category_value_df = X_train[[categorical_column]]\n",
    "category_value_df[categorical_column+\"_value\"] = y_train\n",
    "category_value_df = category_value_df.groupby(categorical_column, as_index=False).mean()\n",
    "category_value_df.head()"
   ]
  },
  {
   "cell_type": "code",
   "execution_count": 45,
   "metadata": {},
   "outputs": [
    {
     "name": "stdout",
     "output_type": "stream",
     "text": [
      "59058.31690049982\n"
     ]
    }
   ],
   "source": [
    "y_dev_hat_value_encoded = \\\n",
    "    X_dev.merge(category_value_df, how=\"left\", on=categorical_column)[[categorical_column+\"_value\"]]\n",
    "print(np.sqrt(mean_squared_error(y_dev, y_dev_hat)))"
   ]
  },
  {
   "cell_type": "markdown",
   "metadata": {},
   "source": [
    "    Poniéndolo todo junto:"
   ]
  },
  {
   "cell_type": "code",
   "execution_count": 46,
   "metadata": {},
   "outputs": [],
   "source": [
    "columns = ['OverallQual', 'YearBuilt', 'YearRemodAdd', 'BsmtFinSF1', \n",
    "'TotalBsmtSF', \"Neighborhood\", \"ExterQual\"]\n",
    "\n",
    "target_col = \"SalePrice\"\n",
    "\n",
    "X = houses[columns]\n",
    "y = houses[target_col]\n",
    "\n",
    "X_train_dev, X_test, y_train_dev, y_test = train_test_split(X, y, random_state=666, test_size=0.2)\n",
    "X_train, X_dev, y_train, y_dev = train_test_split(X_train_dev, y_train_dev, random_state=667, test_size=0.25)"
   ]
  },
  {
   "cell_type": "code",
   "execution_count": 47,
   "metadata": {},
   "outputs": [
    {
     "name": "stdout",
     "output_type": "stream",
     "text": [
      "42536.38809365479\n"
     ]
    }
   ],
   "source": [
    "class Labelizer:\n",
    "    \n",
    "    def __init__(self, categories):\n",
    "        self.categories = categories\n",
    "        self.cat2num = {}\n",
    "        self.num2cat = {}\n",
    "        \n",
    "    def generate_dicts(self):\n",
    "        self.cat2num = {self.categories[i]: i for i in range(len(self.categories))}\n",
    "        self.num2cat = {i: self.categories[i] for i in range(len(self.categories))}\n",
    "        \n",
    "    def fit(self):\n",
    "        self.generate_dicts()\n",
    "        return self\n",
    "        \n",
    "    def transform(self, series):\n",
    "        return series.apply(lambda cat: self.cat2num[cat])\n",
    "    \n",
    "labelizer_Neighborhood = Labelizer(X_train[\"Neighborhood\"].unique()).fit()  \n",
    "labelizer_ExterQual = Labelizer(X_train[\"ExterQual\"].unique()).fit()\n",
    "\n",
    "def labelize_X(X):\n",
    "    labelized_X = X.drop([\"Neighborhood\", \"ExterQual\"], axis=1)\n",
    "    labelized_X[\"Neighborhood_labelized\"] = labelizer_Neighborhood.transform(X[\"Neighborhood\"])\n",
    "    labelized_X[\"ExterQual_labelized\"] = labelizer_ExterQual.transform(X[\"ExterQual\"])\n",
    "    return labelized_X\n",
    "\n",
    "X_train_labelized = labelize_X(X_train)\n",
    "X_dev_labelized = labelize_X(X_dev)\n",
    "\n",
    "reg.fit(X_train_labelized, y_train)\n",
    "y_dev_hat = reg.predict(X_dev_labelized)\n",
    "print(np.sqrt(mean_squared_error(y_dev, y_dev_hat)))"
   ]
  },
  {
   "cell_type": "code",
   "execution_count": 48,
   "metadata": {},
   "outputs": [
    {
     "data": {
      "text/plain": [
       "array([[ 1,  2,  7, 11, 12],\n",
       "       [ 3,  4,  8, 13, 14],\n",
       "       [ 5,  6,  9, 16, 15]])"
      ]
     },
     "execution_count": 48,
     "metadata": {},
     "output_type": "execute_result"
    }
   ],
   "source": [
    "A = np.array([[1, 2], [3, 4], [5, 6]])\n",
    "B = np.array([[7], [8], [9]])\n",
    "C = np.array([[11, 12], [13, 14], [16, 15]])\n",
    "np.concatenate([A, B, C], axis=1)"
   ]
  },
  {
   "cell_type": "code",
   "execution_count": 49,
   "metadata": {},
   "outputs": [
    {
     "name": "stdout",
     "output_type": "stream",
     "text": [
      "38502.67090075829\n"
     ]
    }
   ],
   "source": [
    "class OneHotEncoderWithLabelizer:\n",
    "    \n",
    "    def __init__(self, categories):\n",
    "        self.categories = categories\n",
    "        self.labelizer = Labelizer(categories)\n",
    "            \n",
    "    def fit(self):\n",
    "        self.labelizer.fit()\n",
    "        return self\n",
    "        \n",
    "    def transform(self, series):\n",
    "        series_labelized = self.labelizer.transform(series)\n",
    "        return np.eye(len(self.categories))[series_labelized]\n",
    "    \n",
    "one_hot_encoder_Neighborhood = OneHotEncoderWithLabelizer(X_train[\"Neighborhood\"].unique()).fit()  \n",
    "one_hot_encoder_ExterQual = OneHotEncoderWithLabelizer(X_train[\"ExterQual\"].unique()).fit()\n",
    "\n",
    "def one_hot_encode_X(X):\n",
    "    X_other = X.drop([\"Neighborhood\", \"ExterQual\"], axis=1).as_matrix()\n",
    "    neighborhood_encoded = one_hot_encoder_Neighborhood.transform(X[\"Neighborhood\"])\n",
    "    exterQual_encoded = one_hot_encoder_ExterQual.transform(X[\"ExterQual\"])\n",
    "    return np.concatenate([X_other, neighborhood_encoded, exterQual_encoded], axis=1)\n",
    "\n",
    "X_train_encoded = one_hot_encode_X(X_train)\n",
    "X_dev_encoded = one_hot_encode_X(X_dev)\n",
    "\n",
    "reg.fit(X_train_encoded, y_train)\n",
    "y_dev_hat = reg.predict(X_dev_encoded)\n",
    "print(np.sqrt(mean_squared_error(y_dev, y_dev_hat)))"
   ]
  },
  {
   "cell_type": "code",
   "execution_count": 50,
   "metadata": {},
   "outputs": [
    {
     "name": "stdout",
     "output_type": "stream",
     "text": [
      "40200.74117925291\n"
     ]
    }
   ],
   "source": [
    "import string\n",
    "\n",
    "class ValueEncoder:\n",
    "    \n",
    "    def __init__(self, cat_colname=None, value_colname=None, agg_function='mean',):\n",
    "        self.agg_function = agg_function\n",
    "        self.cat_colname = cat_colname if cat_colname is not None else\\\n",
    "            ''.join(np.random.choice(list(string.ascii_lowercase + string.digits)) for _ in range(10))\n",
    "        self.value_colname = value_colname if value_colname is not None else\\\n",
    "            self.cat_colname + \"_\" + self.agg_function\n",
    "        self.cat_value_df = None\n",
    "            \n",
    "    def fit(self, cat_series, value_series):\n",
    "        cat_value_df = pd.DataFrame({\n",
    "            self.cat_colname: cat_series,\n",
    "            self.value_colname: value_series\n",
    "        })\n",
    "        self.cat_value_df = cat_value_df\\\n",
    "            .groupby(self.cat_colname, as_index=False)\\\n",
    "            .agg(self.agg_function)\n",
    "        return self\n",
    "        \n",
    "    def transform(self, cat_series):\n",
    "        return pd.DataFrame({self.cat_colname:cat_series})\\\n",
    "            .merge(self.cat_value_df, on=self.cat_colname, how=\"left\")[self.value_colname]\n",
    "\n",
    "value_encoder_Neighborhood = ValueEncoder(\"Neighborhood\")\\\n",
    "   .fit(X_train[\"Neighborhood\"], y_train)  \n",
    "value_encoder_ExterQual = ValueEncoder(\"ExterQual\")\\\n",
    "   .fit(X_train[\"ExterQual\"], y_train)\n",
    "\n",
    "def value_encode_X(X):\n",
    "    encoded_X = X.drop([\"Neighborhood\", \"ExterQual\"], axis=1).reset_index(drop=True)\n",
    "    encoded_X[\"Neighborhood_encoded\"] = value_encoder_Neighborhood.transform(X[\"Neighborhood\"])\n",
    "    encoded_X[\"ExterQual_encoded\"] = value_encoder_ExterQual.transform(X[\"ExterQual\"])\n",
    "    return encoded_X\n",
    "\n",
    "X_train_encoded = value_encode_X(X_train)\n",
    "X_dev_encoded = value_encode_X(X_dev)\n",
    "reg.fit(X_train_encoded, y_train)\n",
    "y_dev_hat = reg.predict(X_dev_encoded)\n",
    "print(np.sqrt(mean_squared_error(y_dev, y_dev_hat)))"
   ]
  }
 ],
 "metadata": {
  "kernelspec": {
   "display_name": "Python 3",
   "language": "python",
   "name": "python3"
  },
  "language_info": {
   "codemirror_mode": {
    "name": "ipython",
    "version": 3
   },
   "file_extension": ".py",
   "mimetype": "text/x-python",
   "name": "python",
   "nbconvert_exporter": "python",
   "pygments_lexer": "ipython3",
   "version": "3.6.8"
  }
 },
 "nbformat": 4,
 "nbformat_minor": 2
}
