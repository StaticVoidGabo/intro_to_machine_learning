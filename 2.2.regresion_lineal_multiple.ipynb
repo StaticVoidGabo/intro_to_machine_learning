{
 "cells": [
  {
   "cell_type": "markdown",
   "metadata": {},
   "source": [
    "# Regresión lineal múltiple\n",
    "\n",
    "En este notebook vamos entrenar el mejor modelo posible para predecir la variable de la diabetes en el dataser de la diabetes.\n",
    "\n",
    "Aprenderemos primero como hacer un modelo de regresión lineal múltiple y después qué estrategias hay para poder elegir el mejor modelo."
   ]
  },
  {
   "cell_type": "code",
   "execution_count": 1,
   "metadata": {},
   "outputs": [],
   "source": [
    "import matplotlib\n",
    "import matplotlib.pyplot as plt\n",
    "import numpy as np\n",
    "import pandas as pd\n",
    "from sklearn import datasets\n",
    "%matplotlib inline"
   ]
  },
  {
   "cell_type": "code",
   "execution_count": 2,
   "metadata": {},
   "outputs": [],
   "source": [
    "matplotlib.rcParams['figure.figsize'] = [20, 10]"
   ]
  },
  {
   "cell_type": "code",
   "execution_count": 3,
   "metadata": {},
   "outputs": [],
   "source": [
    "diabetes = datasets.load_diabetes()"
   ]
  },
  {
   "cell_type": "markdown",
   "metadata": {},
   "source": [
    "## Problema 1\n",
    "\n",
    "__Pregunta principal__ ¿Cuál es el mejor modelo?\n",
    "\n",
    "A. Modelo que predice diabetes usando el indice de masa corporal(body mass). Esto es un modelo de regresión lineal.\n",
    "\n",
    "\n",
    "B. Modelo que predice diabetes usando todas las variables (10 variables). Esto es un modelo de regresión lineal múltiple."
   ]
  },
  {
   "cell_type": "markdown",
   "metadata": {},
   "source": [
    "## Contruccion de los modelos siguiento los 5 pasos"
   ]
  },
  {
   "cell_type": "markdown",
   "metadata": {},
   "source": [
    "#### 1. Preparar los datos "
   ]
  },
  {
   "cell_type": "code",
   "execution_count": 4,
   "metadata": {},
   "outputs": [],
   "source": [
    "X = diabetes.data\n",
    "y = diabetes.target"
   ]
  },
  {
   "cell_type": "markdown",
   "metadata": {},
   "source": [
    "#### 2. Separar los datos de entrenamiento y test"
   ]
  },
  {
   "cell_type": "code",
   "execution_count": 5,
   "metadata": {},
   "outputs": [],
   "source": [
    "from sklearn.model_selection import train_test_split\n",
    "X_train, X_test, y_train, y_test = train_test_split(X, y, random_state=666, test_size=0.1)"
   ]
  },
  {
   "cell_type": "markdown",
   "metadata": {},
   "source": [
    "#### 3. Construir los modelos"
   ]
  },
  {
   "cell_type": "code",
   "execution_count": 6,
   "metadata": {},
   "outputs": [],
   "source": [
    "from sklearn.linear_model import LinearRegression\n",
    "reg1 = LinearRegression()\n",
    "reg2 = LinearRegression()"
   ]
  },
  {
   "cell_type": "markdown",
   "metadata": {},
   "source": [
    "#### 4. Ajustar los modelos a los datos de entrenamiento"
   ]
  },
  {
   "cell_type": "code",
   "execution_count": 7,
   "metadata": {},
   "outputs": [
    {
     "data": {
      "text/plain": [
       "LinearRegression(copy_X=True, fit_intercept=True, n_jobs=None,\n",
       "         normalize=False)"
      ]
     },
     "execution_count": 7,
     "metadata": {},
     "output_type": "execute_result"
    }
   ],
   "source": [
    "reg1.fit(X_train[:, [2]], y_train) # here we choose only second column\n",
    "reg2.fit(X_train, y_train) # here we take all possible variables"
   ]
  },
  {
   "cell_type": "markdown",
   "metadata": {},
   "source": [
    "#### 5. Evaluación de los modelos"
   ]
  },
  {
   "cell_type": "code",
   "execution_count": 8,
   "metadata": {},
   "outputs": [
    {
     "data": {
      "text/plain": [
       "(55.85346157514181, 47.61322195051475)"
      ]
     },
     "execution_count": 8,
     "metadata": {},
     "output_type": "execute_result"
    }
   ],
   "source": [
    "from sklearn.metrics import mean_squared_error, r2_score\n",
    "y_test_hat1 = reg1.predict(X_test[:, [2]])\n",
    "y_test_hat2 = reg2.predict(X_test)\n",
    "np.sqrt(mean_squared_error(y_test, y_test_hat1)), np.sqrt(mean_squared_error(y_test, y_test_hat2))"
   ]
  },
  {
   "cell_type": "markdown",
   "metadata": {},
   "source": [
    "### Conclusión\n",
    "\n",
    "El modelo con todas las variables tiene mejor performance que el modelo con una sola variable. "
   ]
  },
  {
   "cell_type": "markdown",
   "metadata": {},
   "source": [
    "## Problema 2\n",
    "\n",
    "__Pregunta principal__ ¿Cuál es el mejor modelo posible teneindo en cuenta todas las variables?"
   ]
  },
  {
   "cell_type": "markdown",
   "metadata": {},
   "source": [
    "### Caculemos todas las posibles combinaciones"
   ]
  },
  {
   "cell_type": "code",
   "execution_count": 9,
   "metadata": {},
   "outputs": [],
   "source": [
    "from itertools import combinations\n",
    "\n",
    "# 1. Prepare data.\n",
    "X = diabetes.data\n",
    "y = diabetes.target\n",
    "\n",
    "# 2. Split data into train and test.\n",
    "X_train, X_test, y_train, y_test = train_test_split(X, y, random_state=666, test_size=0.2)\n",
    "\n",
    "# 3. Build a models and further data preparation for each model.\n",
    "# 4. Fit models to train data on selected columns.\n",
    "# 5. Evaluate models on test data and compare performance.\n",
    "\n",
    "def fit_and_evaluate(columns, X_train, X_test, y_test):\n",
    "    \"\"\"\n",
    "    Function that evaluate how model train on specific combination of columns performs\n",
    "    \n",
    "    columns: variable that that contains a list of columns that we use to train a particular model\n",
    "    X_train: Dataset that we use to train the model\n",
    "    X_test: Dataset that we use to test the model\n",
    "    y_test: true predictions for test dataset\n",
    "    \n",
    "    returns: root means square error evaluated on test dataset\n",
    "    \"\"\"\n",
    "    # Build the model\n",
    "    reg = LinearRegression()\n",
    "    \n",
    "    # Fit the model to dataset with specific columns\n",
    "    reg.fit(X_train[:, columns], y_train)\n",
    "    \n",
    "    # Evaluate models on test data.\n",
    "    y_test_hat = reg.predict(X_test[:, columns])\n",
    "    return np.sqrt(mean_squared_error(y_test, y_test_hat))\n",
    "\n",
    "def get_performance_on_combinations_of_columns(X_train, X_test, y_test):\n",
    "    \"\"\"\n",
    "    Function that generate all combination of columns\n",
    "    and then evaluate how model train on that combinations performs\n",
    "    \n",
    "    X_train: Dataset that we use to train the model\n",
    "    X_test: Dataset that we use to test the model\n",
    "    y_test: true predictions for test dataset\n",
    "    \n",
    "    returns: DataFrame with\n",
    "        - number of columns used\n",
    "        - specific combination of columns\n",
    "        - root means square error evaluated on test dataset\n",
    "    \"\"\"\n",
    "    all_columns_num = X_train.shape[1]\n",
    "    all_colnames = list(range(all_columns_num))\n",
    "    \n",
    "    performance = pd.DataFrame(\n",
    "        columns=[\"n_columns\", \"columns\", \"RMSE\"]\n",
    "    )\n",
    "\n",
    "    for columns_num in range(1, all_columns_num + 1):\n",
    "        for columns in combinations(all_colnames, columns_num):\n",
    "            rmse = fit_and_evaluate(columns, X_train, X_test, y_test)\n",
    "            new_row = pd.DataFrame({\n",
    "                \"n_columns\": [columns_num], \n",
    "                \"columns\": [columns], \n",
    "                \"RMSE\": [rmse]\n",
    "            })\n",
    "            performance = performance.append(new_row, ignore_index = True)  \n",
    "    return performance"
   ]
  },
  {
   "cell_type": "code",
   "execution_count": 10,
   "metadata": {},
   "outputs": [
    {
     "name": "stdout",
     "output_type": "stream",
     "text": [
      "El número total de combinaciones es 1023.\n"
     ]
    }
   ],
   "source": [
    "performance = get_performance_on_combinations_of_columns(X_train, X_test, y_test) \n",
    "        \n",
    "print(\"El número total de combinaciones es {}.\".format(len(performance)))"
   ]
  },
  {
   "cell_type": "markdown",
   "metadata": {},
   "source": [
    "Ahora vamos a buscar cúal es la mejor combinación, dibujando el valor del error RSM para cada una de las combinaciones"
   ]
  },
  {
   "cell_type": "code",
   "execution_count": 11,
   "metadata": {},
   "outputs": [
    {
     "data": {
      "text/plain": [
       "Text(0.5, 1.0, 'Perfromance de cada modelo depndiendo del número de predictores')"
      ]
     },
     "execution_count": 11,
     "metadata": {},
     "output_type": "execute_result"
    },
    {
     "data": {
      "image/png": "[encoded data removed]",
      "text/plain": [
       "<Figure size 1440x720 with 1 Axes>"
      ]
     },
     "metadata": {},
     "output_type": "display_data"
    }
   ],
   "source": [
    "plt.scatter(performance[\"n_columns\"], performance[\"RMSE\"], alpha = 0.3)\n",
    "plt.xlabel(\"Número de predictores\",size=20)\n",
    "plt.ylabel(\"Raiz cuadrada del error cuadrático medio, $RSME$\",size=20)\n",
    "plt.title(\"Perfromance de cada modelo depndiendo del número de predictores\",size=24)"
   ]
  },
  {
   "cell_type": "code",
   "execution_count": 12,
   "metadata": {},
   "outputs": [
    {
     "data": {
      "text/html": [
       "<div>\n",
       "<style scoped>\n",
       "    .dataframe tbody tr th:only-of-type {\n",
       "        vertical-align: middle;\n",
       "    }\n",
       "\n",
       "    .dataframe tbody tr th {\n",
       "        vertical-align: top;\n",
       "    }\n",
       "\n",
       "    .dataframe thead th {\n",
       "        text-align: right;\n",
       "    }\n",
       "</style>\n",
       "<table border=\"1\" class=\"dataframe\">\n",
       "  <thead>\n",
       "    <tr style=\"text-align: right;\">\n",
       "      <th></th>\n",
       "      <th>RMSE</th>\n",
       "      <th>columns</th>\n",
       "      <th>n_columns</th>\n",
       "    </tr>\n",
       "  </thead>\n",
       "  <tbody>\n",
       "    <tr>\n",
       "      <th>781</th>\n",
       "      <td>47.880858</td>\n",
       "      <td>(1, 2, 3, 6, 8, 9)</td>\n",
       "      <td>6</td>\n",
       "    </tr>\n",
       "    <tr>\n",
       "      <th>865</th>\n",
       "      <td>47.889001</td>\n",
       "      <td>(0, 1, 2, 3, 6, 8, 9)</td>\n",
       "      <td>7</td>\n",
       "    </tr>\n",
       "    <tr>\n",
       "      <th>521</th>\n",
       "      <td>48.020136</td>\n",
       "      <td>(1, 2, 3, 6, 8)</td>\n",
       "      <td>5</td>\n",
       "    </tr>\n",
       "    <tr>\n",
       "      <th>647</th>\n",
       "      <td>48.038394</td>\n",
       "      <td>(0, 1, 2, 3, 6, 8)</td>\n",
       "      <td>6</td>\n",
       "    </tr>\n",
       "    <tr>\n",
       "      <th>981</th>\n",
       "      <td>48.210301</td>\n",
       "      <td>(0, 1, 2, 3, 6, 7, 8, 9)</td>\n",
       "      <td>8</td>\n",
       "    </tr>\n",
       "  </tbody>\n",
       "</table>\n",
       "</div>"
      ],
      "text/plain": [
       "          RMSE                   columns n_columns\n",
       "781  47.880858        (1, 2, 3, 6, 8, 9)         6\n",
       "865  47.889001     (0, 1, 2, 3, 6, 8, 9)         7\n",
       "521  48.020136           (1, 2, 3, 6, 8)         5\n",
       "647  48.038394        (0, 1, 2, 3, 6, 8)         6\n",
       "981  48.210301  (0, 1, 2, 3, 6, 7, 8, 9)         8"
      ]
     },
     "execution_count": 12,
     "metadata": {},
     "output_type": "execute_result"
    }
   ],
   "source": [
    "# Best performing models\n",
    "performance.sort_values(\"RMSE\").head()"
   ]
  },
  {
   "cell_type": "markdown",
   "metadata": {},
   "source": [
    "Así la mejor eleccion es eligiendo las columnas: `(1, 2, 3, 6, 8, 9)` que son"
   ]
  },
  {
   "cell_type": "code",
   "execution_count": 13,
   "metadata": {},
   "outputs": [
    {
     "data": {
      "text/plain": [
       "['sex', 'bmi', 'bp', 's3', 's5', 's6']"
      ]
     },
     "execution_count": 13,
     "metadata": {},
     "output_type": "execute_result"
    }
   ],
   "source": [
    "[diabetes.feature_names[i] for i in [1, 2, 3, 6, 8, 9]]"
   ]
  },
  {
   "cell_type": "markdown",
   "metadata": {},
   "source": [
    "Let's see what are the parameters of this model."
   ]
  },
  {
   "cell_type": "code",
   "execution_count": 14,
   "metadata": {},
   "outputs": [
    {
     "name": "stdout",
     "output_type": "stream",
     "text": [
      "Parameters a:  [-225.78647725  533.21599131  319.5160069  -293.65810211  491.19212091\n",
      "   35.45789137]\n",
      "Parameter b:  153.00353416418773\n"
     ]
    }
   ],
   "source": [
    "best_reg = LinearRegression()\n",
    "best_reg.fit(X_train[:, (1, 2, 3, 6, 8, 9)], y_train)\n",
    "y_test_hat = best_reg.predict(X_test[:, (1, 2, 3, 6, 8, 9)])\n",
    "print(\"Parameters a: \", best_reg.coef_)\n",
    "print(\"Parameter b: \", best_reg.intercept_)"
   ]
  },
  {
   "cell_type": "markdown",
   "metadata": {},
   "source": [
    "### ¿Donde hemos cometido mayores errores?\n",
    "\n",
    "\n",
    "VAmos a calcular para cada dato su error\n",
    "$$e_i = y_i - \\hat{y}_i$$\n",
    "\n",
    "y lo dibujamos en el siguiente gráfico"
   ]
  },
  {
   "cell_type": "code",
   "execution_count": 15,
   "metadata": {},
   "outputs": [
    {
     "data": {
      "text/plain": [
       "Text(0.5, 1.0, 'Residual plot')"
      ]
     },
     "execution_count": 15,
     "metadata": {},
     "output_type": "execute_result"
    },
    {
     "data": {
      "image/png": "[encoded data removed]",
      "text/plain": [
       "<Figure size 1440x720 with 1 Axes>"
      ]
     },
     "metadata": {},
     "output_type": "display_data"
    }
   ],
   "source": [
    "plt.scatter(y_test, y_test-y_test_hat, alpha = 0.3)\n",
    "plt.xlabel(\"Real values\",size=20)\n",
    "plt.ylabel(\"Residuals\",size=20)\n",
    "plt.title(\"Residual plot\",size=20)"
   ]
  },
  {
   "cell_type": "markdown",
   "metadata": {},
   "source": [
    "## Problema 3\n",
    "\n",
    "La elección del número de predictores y la selección de los predictores\n",
    "son hiperparámetros del modelo. En estos casos es necesario para evitar overfittting\n",
    "evaluar cada modelo en un conjunto de validación que construimos a continuación. Des este modo estaremos evaluando el modelo como corresponde."
   ]
  },
  {
   "cell_type": "markdown",
   "metadata": {},
   "source": [
    "#### Hyperparametros  train-dev-test separación"
   ]
  },
  {
   "cell_type": "code",
   "execution_count": 16,
   "metadata": {},
   "outputs": [],
   "source": [
    "# 1. Prepare data.\n",
    "X = diabetes.data\n",
    "y = diabetes.target\n",
    "# 2. Split data into train,  dev and test.\n",
    "X_train_dev, X_test, y_train_dev, y_test = train_test_split(X, y, random_state=666, test_size=0.2)\n",
    "X_train, X_dev, y_train, y_dev = train_test_split(X_train_dev, y_train_dev, random_state=667, test_size=0.25)"
   ]
  },
  {
   "cell_type": "code",
   "execution_count": 17,
   "metadata": {},
   "outputs": [
    {
     "data": {
      "text/plain": [
       "(264, 89, 89)"
      ]
     },
     "execution_count": 17,
     "metadata": {},
     "output_type": "execute_result"
    }
   ],
   "source": [
    "len(y_train), len(y_dev), len(y_test)"
   ]
  },
  {
   "cell_type": "code",
   "execution_count": 18,
   "metadata": {},
   "outputs": [
    {
     "data": {
      "text/html": [
       "<div>\n",
       "<style scoped>\n",
       "    .dataframe tbody tr th:only-of-type {\n",
       "        vertical-align: middle;\n",
       "    }\n",
       "\n",
       "    .dataframe tbody tr th {\n",
       "        vertical-align: top;\n",
       "    }\n",
       "\n",
       "    .dataframe thead th {\n",
       "        text-align: right;\n",
       "    }\n",
       "</style>\n",
       "<table border=\"1\" class=\"dataframe\">\n",
       "  <thead>\n",
       "    <tr style=\"text-align: right;\">\n",
       "      <th></th>\n",
       "      <th>RMSE</th>\n",
       "      <th>columns</th>\n",
       "      <th>n_columns</th>\n",
       "    </tr>\n",
       "  </thead>\n",
       "  <tbody>\n",
       "    <tr>\n",
       "      <th>765</th>\n",
       "      <td>56.184161</td>\n",
       "      <td>(1, 2, 3, 4, 5, 8)</td>\n",
       "      <td>6</td>\n",
       "    </tr>\n",
       "    <tr>\n",
       "      <th>932</th>\n",
       "      <td>56.211273</td>\n",
       "      <td>(1, 2, 3, 4, 5, 6, 8)</td>\n",
       "      <td>7</td>\n",
       "    </tr>\n",
       "    <tr>\n",
       "      <th>849</th>\n",
       "      <td>56.262737</td>\n",
       "      <td>(0, 1, 2, 3, 4, 5, 8)</td>\n",
       "      <td>7</td>\n",
       "    </tr>\n",
       "    <tr>\n",
       "      <th>968</th>\n",
       "      <td>56.297644</td>\n",
       "      <td>(0, 1, 2, 3, 4, 5, 6, 8)</td>\n",
       "      <td>8</td>\n",
       "    </tr>\n",
       "    <tr>\n",
       "      <th>936</th>\n",
       "      <td>56.301163</td>\n",
       "      <td>(1, 2, 3, 4, 5, 8, 9)</td>\n",
       "      <td>7</td>\n",
       "    </tr>\n",
       "  </tbody>\n",
       "</table>\n",
       "</div>"
      ],
      "text/plain": [
       "          RMSE                   columns n_columns\n",
       "765  56.184161        (1, 2, 3, 4, 5, 8)         6\n",
       "932  56.211273     (1, 2, 3, 4, 5, 6, 8)         7\n",
       "849  56.262737     (0, 1, 2, 3, 4, 5, 8)         7\n",
       "968  56.297644  (0, 1, 2, 3, 4, 5, 6, 8)         8\n",
       "936  56.301163     (1, 2, 3, 4, 5, 8, 9)         7"
      ]
     },
     "execution_count": 18,
     "metadata": {},
     "output_type": "execute_result"
    }
   ],
   "source": [
    "# 3. Build models, fit them to train dataset and evaluate on dev dataset.\n",
    "\n",
    "performance = get_performance_on_combinations_of_columns(X_train, X_dev, y_dev) \n",
    "performance.sort_values(\"RMSE\").head()"
   ]
  },
  {
   "cell_type": "code",
   "execution_count": 19,
   "metadata": {},
   "outputs": [
    {
     "data": {
      "text/plain": [
       "49.320937456254434"
      ]
     },
     "execution_count": 19,
     "metadata": {},
     "output_type": "execute_result"
    }
   ],
   "source": [
    "# 4. Choose the hyperparameters of the model that performs best on dev.\n",
    "best_columns = (1, 2, 3, 4, 5, 8)\n",
    "\n",
    "# 5. Build and fit the model with these hyperparameters to both train and dev datasets.\n",
    "c = LinearRegression()\n",
    "best_reg.fit(X_train_dev[:, best_columns], y_train_dev)\n",
    "y_test_hat = best_reg.predict(X_test[:, best_columns])\n",
    "np.sqrt(mean_squared_error(y_test, y_test_hat))"
   ]
  },
  {
   "cell_type": "code",
   "execution_count": 20,
   "metadata": {},
   "outputs": [
    {
     "data": {
      "text/plain": [
       "['sex', 'bmi', 'bp', 's1', 's2', 's5']"
      ]
     },
     "execution_count": 20,
     "metadata": {},
     "output_type": "execute_result"
    }
   ],
   "source": [
    "[diabetes.feature_names[i] for i in [1, 2, 3, 4, 5, 8]]"
   ]
  }
 ],
 "metadata": {
  "kernelspec": {
   "display_name": "Python 3",
   "language": "python",
   "name": "python3"
  },
  "language_info": {
   "codemirror_mode": {
    "name": "ipython",
    "version": 3
   },
   "file_extension": ".py",
   "mimetype": "text/x-python",
   "name": "python",
   "nbconvert_exporter": "python",
   "pygments_lexer": "ipython3",
   "version": "3.6.3"
  }
 },
 "nbformat": 4,
 "nbformat_minor": 2
}
