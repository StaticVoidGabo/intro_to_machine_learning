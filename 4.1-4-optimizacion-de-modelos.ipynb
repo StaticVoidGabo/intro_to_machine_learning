{
 "cells": [
  {
   "cell_type": "code",
   "execution_count": 1,
   "metadata": {},
   "outputs": [],
   "source": [
    "import warnings\n",
    "warnings.filterwarnings(\"ignore\")\n",
    "\n",
    "import matplotlib.pyplot as plt\n",
    "import matplotlib\n",
    "import numpy as np\n",
    "import pandas as pd\n",
    "\n",
    "from sklearn.model_selection import train_test_split\n",
    "from sklearn.metrics import f1_score, accuracy_score, precision_score, recall_score\n",
    "%matplotlib inline"
   ]
  },
  {
   "cell_type": "code",
   "execution_count": 2,
   "metadata": {},
   "outputs": [],
   "source": [
    "matplotlib.rcParams['figure.figsize'] = [20, 10]\n",
    "matplotlib.rcParams['font.size'] = 20"
   ]
  },
  {
   "cell_type": "markdown",
   "metadata": {},
   "source": [
    "# Engineeering features\n",
    "\n",
    "\n",
    "En este notebook vamos a ver principalmente:\n",
    "\n",
    "1) Tratamiento de NAs values\n",
    "\n",
    "2) Tratamiento de variables categóricas\n",
    "\n",
    "3) Selección de variables"
   ]
  },
  {
   "cell_type": "markdown",
   "metadata": {},
   "source": [
    "Vamos a trabajar con el asiguiente dataset llamado __House Prices__ que puedes encontrar\n",
    "[aquí](https://www.kaggle.com/c/house-prices-advanced-regression-techniques)."
   ]
  },
  {
   "cell_type": "markdown",
   "metadata": {},
   "source": [
    "###  Bajamos el dataset y hacemos un simple modelo  (Regresión multilineal)\n"
   ]
  },
  {
   "cell_type": "code",
   "execution_count": 3,
   "metadata": {},
   "outputs": [],
   "source": [
    "path = \"./data/house-prices-advanced-regression-techniques/train.csv\"\n",
    "houses = pd.read_csv(path)"
   ]
  },
  {
   "cell_type": "code",
   "execution_count": 4,
   "metadata": {},
   "outputs": [],
   "source": [
    "houses_num =  houses.select_dtypes(include=[np.number])"
   ]
  },
  {
   "cell_type": "code",
   "execution_count": 5,
   "metadata": {},
   "outputs": [
    {
     "data": {
      "text/html": [
       "<div>\n",
       "<style scoped>\n",
       "    .dataframe tbody tr th:only-of-type {\n",
       "        vertical-align: middle;\n",
       "    }\n",
       "\n",
       "    .dataframe tbody tr th {\n",
       "        vertical-align: top;\n",
       "    }\n",
       "\n",
       "    .dataframe thead th {\n",
       "        text-align: right;\n",
       "    }\n",
       "</style>\n",
       "<table border=\"1\" class=\"dataframe\">\n",
       "  <thead>\n",
       "    <tr style=\"text-align: right;\">\n",
       "      <th></th>\n",
       "      <th>Id</th>\n",
       "      <th>MSSubClass</th>\n",
       "      <th>LotFrontage</th>\n",
       "      <th>LotArea</th>\n",
       "      <th>OverallQual</th>\n",
       "      <th>OverallCond</th>\n",
       "      <th>YearBuilt</th>\n",
       "      <th>YearRemodAdd</th>\n",
       "      <th>MasVnrArea</th>\n",
       "      <th>BsmtFinSF1</th>\n",
       "      <th>...</th>\n",
       "      <th>WoodDeckSF</th>\n",
       "      <th>OpenPorchSF</th>\n",
       "      <th>EnclosedPorch</th>\n",
       "      <th>3SsnPorch</th>\n",
       "      <th>ScreenPorch</th>\n",
       "      <th>PoolArea</th>\n",
       "      <th>MiscVal</th>\n",
       "      <th>MoSold</th>\n",
       "      <th>YrSold</th>\n",
       "      <th>SalePrice</th>\n",
       "    </tr>\n",
       "  </thead>\n",
       "  <tbody>\n",
       "    <tr>\n",
       "      <th>0</th>\n",
       "      <td>1</td>\n",
       "      <td>60</td>\n",
       "      <td>65.0</td>\n",
       "      <td>8450</td>\n",
       "      <td>7</td>\n",
       "      <td>5</td>\n",
       "      <td>2003</td>\n",
       "      <td>2003</td>\n",
       "      <td>196.0</td>\n",
       "      <td>706</td>\n",
       "      <td>...</td>\n",
       "      <td>0</td>\n",
       "      <td>61</td>\n",
       "      <td>0</td>\n",
       "      <td>0</td>\n",
       "      <td>0</td>\n",
       "      <td>0</td>\n",
       "      <td>0</td>\n",
       "      <td>2</td>\n",
       "      <td>2008</td>\n",
       "      <td>208500</td>\n",
       "    </tr>\n",
       "    <tr>\n",
       "      <th>1</th>\n",
       "      <td>2</td>\n",
       "      <td>20</td>\n",
       "      <td>80.0</td>\n",
       "      <td>9600</td>\n",
       "      <td>6</td>\n",
       "      <td>8</td>\n",
       "      <td>1976</td>\n",
       "      <td>1976</td>\n",
       "      <td>0.0</td>\n",
       "      <td>978</td>\n",
       "      <td>...</td>\n",
       "      <td>298</td>\n",
       "      <td>0</td>\n",
       "      <td>0</td>\n",
       "      <td>0</td>\n",
       "      <td>0</td>\n",
       "      <td>0</td>\n",
       "      <td>0</td>\n",
       "      <td>5</td>\n",
       "      <td>2007</td>\n",
       "      <td>181500</td>\n",
       "    </tr>\n",
       "    <tr>\n",
       "      <th>2</th>\n",
       "      <td>3</td>\n",
       "      <td>60</td>\n",
       "      <td>68.0</td>\n",
       "      <td>11250</td>\n",
       "      <td>7</td>\n",
       "      <td>5</td>\n",
       "      <td>2001</td>\n",
       "      <td>2002</td>\n",
       "      <td>162.0</td>\n",
       "      <td>486</td>\n",
       "      <td>...</td>\n",
       "      <td>0</td>\n",
       "      <td>42</td>\n",
       "      <td>0</td>\n",
       "      <td>0</td>\n",
       "      <td>0</td>\n",
       "      <td>0</td>\n",
       "      <td>0</td>\n",
       "      <td>9</td>\n",
       "      <td>2008</td>\n",
       "      <td>223500</td>\n",
       "    </tr>\n",
       "    <tr>\n",
       "      <th>3</th>\n",
       "      <td>4</td>\n",
       "      <td>70</td>\n",
       "      <td>60.0</td>\n",
       "      <td>9550</td>\n",
       "      <td>7</td>\n",
       "      <td>5</td>\n",
       "      <td>1915</td>\n",
       "      <td>1970</td>\n",
       "      <td>0.0</td>\n",
       "      <td>216</td>\n",
       "      <td>...</td>\n",
       "      <td>0</td>\n",
       "      <td>35</td>\n",
       "      <td>272</td>\n",
       "      <td>0</td>\n",
       "      <td>0</td>\n",
       "      <td>0</td>\n",
       "      <td>0</td>\n",
       "      <td>2</td>\n",
       "      <td>2006</td>\n",
       "      <td>140000</td>\n",
       "    </tr>\n",
       "    <tr>\n",
       "      <th>4</th>\n",
       "      <td>5</td>\n",
       "      <td>60</td>\n",
       "      <td>84.0</td>\n",
       "      <td>14260</td>\n",
       "      <td>8</td>\n",
       "      <td>5</td>\n",
       "      <td>2000</td>\n",
       "      <td>2000</td>\n",
       "      <td>350.0</td>\n",
       "      <td>655</td>\n",
       "      <td>...</td>\n",
       "      <td>192</td>\n",
       "      <td>84</td>\n",
       "      <td>0</td>\n",
       "      <td>0</td>\n",
       "      <td>0</td>\n",
       "      <td>0</td>\n",
       "      <td>0</td>\n",
       "      <td>12</td>\n",
       "      <td>2008</td>\n",
       "      <td>250000</td>\n",
       "    </tr>\n",
       "  </tbody>\n",
       "</table>\n",
       "<p>5 rows × 38 columns</p>\n",
       "</div>"
      ],
      "text/plain": [
       "   Id  MSSubClass  LotFrontage  LotArea  OverallQual  OverallCond  YearBuilt  \\\n",
       "0   1          60         65.0     8450            7            5       2003   \n",
       "1   2          20         80.0     9600            6            8       1976   \n",
       "2   3          60         68.0    11250            7            5       2001   \n",
       "3   4          70         60.0     9550            7            5       1915   \n",
       "4   5          60         84.0    14260            8            5       2000   \n",
       "\n",
       "   YearRemodAdd  MasVnrArea  BsmtFinSF1  ...  WoodDeckSF  OpenPorchSF  \\\n",
       "0          2003       196.0         706  ...           0           61   \n",
       "1          1976         0.0         978  ...         298            0   \n",
       "2          2002       162.0         486  ...           0           42   \n",
       "3          1970         0.0         216  ...           0           35   \n",
       "4          2000       350.0         655  ...         192           84   \n",
       "\n",
       "   EnclosedPorch  3SsnPorch  ScreenPorch  PoolArea  MiscVal  MoSold  YrSold  \\\n",
       "0              0          0            0         0        0       2    2008   \n",
       "1              0          0            0         0        0       5    2007   \n",
       "2              0          0            0         0        0       9    2008   \n",
       "3            272          0            0         0        0       2    2006   \n",
       "4              0          0            0         0        0      12    2008   \n",
       "\n",
       "   SalePrice  \n",
       "0     208500  \n",
       "1     181500  \n",
       "2     223500  \n",
       "3     140000  \n",
       "4     250000  \n",
       "\n",
       "[5 rows x 38 columns]"
      ]
     },
     "execution_count": 5,
     "metadata": {},
     "output_type": "execute_result"
    }
   ],
   "source": [
    "houses_num.head()"
   ]
  },
  {
   "cell_type": "markdown",
   "metadata": {},
   "source": [
    "#### Problema:  ¿Podemos predecir el precio de venta?\n",
    "\n",
    "Hagamos una regresión multilineal con todas las variables numéricas"
   ]
  },
  {
   "cell_type": "code",
   "execution_count": 7,
   "metadata": {},
   "outputs": [
    {
     "ename": "ValueError",
     "evalue": "Input contains NaN, infinity or a value too large for dtype('float64').",
     "output_type": "error",
     "traceback": [
      "\u001b[0;31m---------------------------------------------------------------------------\u001b[0m",
      "\u001b[0;31mValueError\u001b[0m                                Traceback (most recent call last)",
      "\u001b[0;32m<ipython-input-7-e8225b2ea946>\u001b[0m in \u001b[0;36m<module>\u001b[0;34m\u001b[0m\n\u001b[1;32m     11\u001b[0m \u001b[0;34m\u001b[0m\u001b[0m\n\u001b[1;32m     12\u001b[0m \u001b[0mreg\u001b[0m \u001b[0;34m=\u001b[0m \u001b[0mLinearRegression\u001b[0m\u001b[0;34m(\u001b[0m\u001b[0;34m)\u001b[0m\u001b[0;34m\u001b[0m\u001b[0;34m\u001b[0m\u001b[0m\n\u001b[0;32m---> 13\u001b[0;31m \u001b[0mreg\u001b[0m\u001b[0;34m.\u001b[0m\u001b[0mfit\u001b[0m\u001b[0;34m(\u001b[0m\u001b[0mX_train\u001b[0m\u001b[0;34m,\u001b[0m \u001b[0my_train\u001b[0m\u001b[0;34m)\u001b[0m\u001b[0;34m\u001b[0m\u001b[0;34m\u001b[0m\u001b[0m\n\u001b[0m\u001b[1;32m     14\u001b[0m \u001b[0my_dev_hat\u001b[0m \u001b[0;34m=\u001b[0m \u001b[0mreg\u001b[0m\u001b[0;34m.\u001b[0m\u001b[0mpredict\u001b[0m\u001b[0;34m(\u001b[0m\u001b[0mX_dev\u001b[0m\u001b[0;34m)\u001b[0m\u001b[0;34m\u001b[0m\u001b[0;34m\u001b[0m\u001b[0m\n\u001b[1;32m     15\u001b[0m \u001b[0mprint\u001b[0m\u001b[0;34m(\u001b[0m\u001b[0mnp\u001b[0m\u001b[0;34m.\u001b[0m\u001b[0msqrt\u001b[0m\u001b[0;34m(\u001b[0m\u001b[0mmean_squared_error\u001b[0m\u001b[0;34m(\u001b[0m\u001b[0my_dev\u001b[0m\u001b[0;34m,\u001b[0m \u001b[0my_dev_hat\u001b[0m\u001b[0;34m)\u001b[0m\u001b[0;34m)\u001b[0m\u001b[0;34m)\u001b[0m\u001b[0;34m\u001b[0m\u001b[0;34m\u001b[0m\u001b[0m\n",
      "\u001b[0;32m~/.virtualenvs/py3.6-nointel/lib/python3.6/site-packages/sklearn/linear_model/base.py\u001b[0m in \u001b[0;36mfit\u001b[0;34m(self, X, y, sample_weight)\u001b[0m\n\u001b[1;32m    456\u001b[0m         \u001b[0mn_jobs_\u001b[0m \u001b[0;34m=\u001b[0m \u001b[0mself\u001b[0m\u001b[0;34m.\u001b[0m\u001b[0mn_jobs\u001b[0m\u001b[0;34m\u001b[0m\u001b[0;34m\u001b[0m\u001b[0m\n\u001b[1;32m    457\u001b[0m         X, y = check_X_y(X, y, accept_sparse=['csr', 'csc', 'coo'],\n\u001b[0;32m--> 458\u001b[0;31m                          y_numeric=True, multi_output=True)\n\u001b[0m\u001b[1;32m    459\u001b[0m \u001b[0;34m\u001b[0m\u001b[0m\n\u001b[1;32m    460\u001b[0m         \u001b[0;32mif\u001b[0m \u001b[0msample_weight\u001b[0m \u001b[0;32mis\u001b[0m \u001b[0;32mnot\u001b[0m \u001b[0;32mNone\u001b[0m \u001b[0;32mand\u001b[0m \u001b[0mnp\u001b[0m\u001b[0;34m.\u001b[0m\u001b[0matleast_1d\u001b[0m\u001b[0;34m(\u001b[0m\u001b[0msample_weight\u001b[0m\u001b[0;34m)\u001b[0m\u001b[0;34m.\u001b[0m\u001b[0mndim\u001b[0m \u001b[0;34m>\u001b[0m \u001b[0;36m1\u001b[0m\u001b[0;34m:\u001b[0m\u001b[0;34m\u001b[0m\u001b[0;34m\u001b[0m\u001b[0m\n",
      "\u001b[0;32m~/.virtualenvs/py3.6-nointel/lib/python3.6/site-packages/sklearn/utils/validation.py\u001b[0m in \u001b[0;36mcheck_X_y\u001b[0;34m(X, y, accept_sparse, accept_large_sparse, dtype, order, copy, force_all_finite, ensure_2d, allow_nd, multi_output, ensure_min_samples, ensure_min_features, y_numeric, warn_on_dtype, estimator)\u001b[0m\n\u001b[1;32m    754\u001b[0m                     \u001b[0mensure_min_features\u001b[0m\u001b[0;34m=\u001b[0m\u001b[0mensure_min_features\u001b[0m\u001b[0;34m,\u001b[0m\u001b[0;34m\u001b[0m\u001b[0;34m\u001b[0m\u001b[0m\n\u001b[1;32m    755\u001b[0m                     \u001b[0mwarn_on_dtype\u001b[0m\u001b[0;34m=\u001b[0m\u001b[0mwarn_on_dtype\u001b[0m\u001b[0;34m,\u001b[0m\u001b[0;34m\u001b[0m\u001b[0;34m\u001b[0m\u001b[0m\n\u001b[0;32m--> 756\u001b[0;31m                     estimator=estimator)\n\u001b[0m\u001b[1;32m    757\u001b[0m     \u001b[0;32mif\u001b[0m \u001b[0mmulti_output\u001b[0m\u001b[0;34m:\u001b[0m\u001b[0;34m\u001b[0m\u001b[0;34m\u001b[0m\u001b[0m\n\u001b[1;32m    758\u001b[0m         y = check_array(y, 'csr', force_all_finite=True, ensure_2d=False,\n",
      "\u001b[0;32m~/.virtualenvs/py3.6-nointel/lib/python3.6/site-packages/sklearn/utils/validation.py\u001b[0m in \u001b[0;36mcheck_array\u001b[0;34m(array, accept_sparse, accept_large_sparse, dtype, order, copy, force_all_finite, ensure_2d, allow_nd, ensure_min_samples, ensure_min_features, warn_on_dtype, estimator)\u001b[0m\n\u001b[1;32m    571\u001b[0m         \u001b[0;32mif\u001b[0m \u001b[0mforce_all_finite\u001b[0m\u001b[0;34m:\u001b[0m\u001b[0;34m\u001b[0m\u001b[0;34m\u001b[0m\u001b[0m\n\u001b[1;32m    572\u001b[0m             _assert_all_finite(array,\n\u001b[0;32m--> 573\u001b[0;31m                                allow_nan=force_all_finite == 'allow-nan')\n\u001b[0m\u001b[1;32m    574\u001b[0m \u001b[0;34m\u001b[0m\u001b[0m\n\u001b[1;32m    575\u001b[0m     \u001b[0mshape_repr\u001b[0m \u001b[0;34m=\u001b[0m \u001b[0m_shape_repr\u001b[0m\u001b[0;34m(\u001b[0m\u001b[0marray\u001b[0m\u001b[0;34m.\u001b[0m\u001b[0mshape\u001b[0m\u001b[0;34m)\u001b[0m\u001b[0;34m\u001b[0m\u001b[0;34m\u001b[0m\u001b[0m\n",
      "\u001b[0;32m~/.virtualenvs/py3.6-nointel/lib/python3.6/site-packages/sklearn/utils/validation.py\u001b[0m in \u001b[0;36m_assert_all_finite\u001b[0;34m(X, allow_nan)\u001b[0m\n\u001b[1;32m     54\u001b[0m                 not allow_nan and not np.isfinite(X).all()):\n\u001b[1;32m     55\u001b[0m             \u001b[0mtype_err\u001b[0m \u001b[0;34m=\u001b[0m \u001b[0;34m'infinity'\u001b[0m \u001b[0;32mif\u001b[0m \u001b[0mallow_nan\u001b[0m \u001b[0;32melse\u001b[0m \u001b[0;34m'NaN, infinity'\u001b[0m\u001b[0;34m\u001b[0m\u001b[0;34m\u001b[0m\u001b[0m\n\u001b[0;32m---> 56\u001b[0;31m             \u001b[0;32mraise\u001b[0m \u001b[0mValueError\u001b[0m\u001b[0;34m(\u001b[0m\u001b[0mmsg_err\u001b[0m\u001b[0;34m.\u001b[0m\u001b[0mformat\u001b[0m\u001b[0;34m(\u001b[0m\u001b[0mtype_err\u001b[0m\u001b[0;34m,\u001b[0m \u001b[0mX\u001b[0m\u001b[0;34m.\u001b[0m\u001b[0mdtype\u001b[0m\u001b[0;34m)\u001b[0m\u001b[0;34m)\u001b[0m\u001b[0;34m\u001b[0m\u001b[0;34m\u001b[0m\u001b[0m\n\u001b[0m\u001b[1;32m     57\u001b[0m \u001b[0;34m\u001b[0m\u001b[0m\n\u001b[1;32m     58\u001b[0m \u001b[0;34m\u001b[0m\u001b[0m\n",
      "\u001b[0;31mValueError\u001b[0m: Input contains NaN, infinity or a value too large for dtype('float64')."
     ]
    }
   ],
   "source": [
    "from sklearn.linear_model import LinearRegression\n",
    "from sklearn.metrics import mean_squared_error\n",
    "\n",
    "target_col = \"SalePrice\"\n",
    "Xy = houses_num\n",
    "X = Xy.drop(target_col, axis=1)\n",
    "y = Xy[target_col]\n",
    "\n",
    "X_train_dev, X_test, y_train_dev, y_test = train_test_split(X, y, random_state=666, test_size=0.2)\n",
    "X_train, X_dev, y_train, y_dev = train_test_split(X_train_dev, y_train_dev, random_state=667, test_size=0.25)\n",
    "\n",
    "reg = LinearRegression()\n",
    "reg.fit(X_train, y_train)\n",
    "y_dev_hat = reg.predict(X_dev)\n",
    "print(np.sqrt(mean_squared_error(y_dev, y_dev_hat)))"
   ]
  },
  {
   "cell_type": "markdown",
   "metadata": {},
   "source": [
    "> ¿Qué ha pasado?\n",
    "\n",
    "\n",
    "Tenemos valores nulos."
   ]
  },
  {
   "cell_type": "markdown",
   "metadata": {},
   "source": [
    "# 1. Tratamiento de Nas"
   ]
  },
  {
   "cell_type": "code",
   "execution_count": 9,
   "metadata": {},
   "outputs": [
    {
     "data": {
      "text/plain": [
       "(1460, 38)"
      ]
     },
     "execution_count": 9,
     "metadata": {},
     "output_type": "execute_result"
    }
   ],
   "source": [
    "houses_num =  houses.select_dtypes(include=[np.number])\n",
    "houses_num.shape"
   ]
  },
  {
   "cell_type": "code",
   "execution_count": 10,
   "metadata": {},
   "outputs": [
    {
     "data": {
      "text/plain": [
       "LotFrontage    259\n",
       "MasVnrArea       8\n",
       "GarageYrBlt     81\n",
       "dtype: int64"
      ]
     },
     "execution_count": 10,
     "metadata": {},
     "output_type": "execute_result"
    }
   ],
   "source": [
    "var = houses_num.isnull().sum()\n",
    "var[var>0]"
   ]
  },
  {
   "cell_type": "markdown",
   "metadata": {},
   "source": [
    "###### Método 1: eliminar las columnas con NAs"
   ]
  },
  {
   "cell_type": "code",
   "execution_count": 11,
   "metadata": {},
   "outputs": [],
   "source": [
    "columnswithNulls = ['LotFrontage','GarageYrBlt',\"MasVnrArea\"]"
   ]
  },
  {
   "cell_type": "code",
   "execution_count": 12,
   "metadata": {},
   "outputs": [
    {
     "data": {
      "text/plain": [
       "0"
      ]
     },
     "execution_count": 12,
     "metadata": {},
     "output_type": "execute_result"
    }
   ],
   "source": [
    "houses_num.drop(columnswithNulls,axis=1).isnull().sum().sum()"
   ]
  },
  {
   "cell_type": "code",
   "execution_count": 13,
   "metadata": {},
   "outputs": [
    {
     "name": "stdout",
     "output_type": "stream",
     "text": [
      "34461.69716294498\n"
     ]
    }
   ],
   "source": [
    "target_col = \"SalePrice\"\n",
    "Xy = houses_num.drop(columnswithNulls,axis=1)\n",
    "X = Xy.drop(target_col, axis=1)\n",
    "y = Xy[target_col]\n",
    "\n",
    "X_train_dev, X_test, y_train_dev, y_test = train_test_split(X, y, random_state=666, test_size=0.2)\n",
    "X_train, X_dev, y_train, y_dev = train_test_split(X_train_dev, y_train_dev, random_state=667, test_size=0.25)\n",
    "\n",
    "reg = LinearRegression()\n",
    "reg.fit(X_train, y_train)\n",
    "y_dev_hat = reg.predict(X_dev)\n",
    "print(np.sqrt(mean_squared_error(y_dev, y_dev_hat)))"
   ]
  },
  {
   "cell_type": "markdown",
   "metadata": {
    "collapsed": true
   },
   "source": [
    "###### Método 2: eliminar las filas con NAs"
   ]
  },
  {
   "cell_type": "code",
   "execution_count": 14,
   "metadata": {},
   "outputs": [
    {
     "name": "stdout",
     "output_type": "stream",
     "text": [
      "(1460, 38)\n",
      "(1121, 38)\n"
     ]
    }
   ],
   "source": [
    "Xy = houses_num\n",
    "print(Xy.shape)\n",
    "Xy = Xy.dropna()\n",
    "print(Xy.shape)"
   ]
  },
  {
   "cell_type": "code",
   "execution_count": 15,
   "metadata": {},
   "outputs": [
    {
     "name": "stdout",
     "output_type": "stream",
     "text": [
      "46685.432355986566\n"
     ]
    }
   ],
   "source": [
    "X = Xy.drop(target_col, axis=1).dropna()\n",
    "y = Xy[target_col]\n",
    "X_train_dev, X_test, y_train_dev, y_test = train_test_split(X, y, random_state=666, test_size=0.2)\n",
    "X_train, X_dev, y_train, y_dev = train_test_split(X_train_dev, y_train_dev, random_state=667, test_size=0.25)\n",
    "\n",
    "reg = LinearRegression()\n",
    "reg.fit(X_train, y_train)\n",
    "y_dev_hat = reg.predict(X_dev)\n",
    "print(np.sqrt(mean_squared_error(y_dev, y_dev_hat)))"
   ]
  },
  {
   "cell_type": "markdown",
   "metadata": {},
   "source": [
    "###### Método 3: sustituir NAs por valores adecuados\n",
    "\n",
    "La idea es sustituir por valores que entran dentro del dominio de \n",
    "la variable; por ejemplo 0, un valor aleatorio, una media, una mediana, moda o incluso un valor estimado por otro modelo predictivo."
   ]
  },
  {
   "cell_type": "code",
   "execution_count": 16,
   "metadata": {},
   "outputs": [],
   "source": [
    "columnswithNulls = ['LotFrontage','GarageYrBlt',\"MasVnrArea\"]"
   ]
  },
  {
   "cell_type": "code",
   "execution_count": 17,
   "metadata": {},
   "outputs": [
    {
     "data": {
      "text/html": [
       "<div>\n",
       "<style scoped>\n",
       "    .dataframe tbody tr th:only-of-type {\n",
       "        vertical-align: middle;\n",
       "    }\n",
       "\n",
       "    .dataframe tbody tr th {\n",
       "        vertical-align: top;\n",
       "    }\n",
       "\n",
       "    .dataframe thead th {\n",
       "        text-align: right;\n",
       "    }\n",
       "</style>\n",
       "<table border=\"1\" class=\"dataframe\">\n",
       "  <thead>\n",
       "    <tr style=\"text-align: right;\">\n",
       "      <th></th>\n",
       "      <th>LotFrontage</th>\n",
       "      <th>GarageYrBlt</th>\n",
       "      <th>MasVnrArea</th>\n",
       "    </tr>\n",
       "  </thead>\n",
       "  <tbody>\n",
       "    <tr>\n",
       "      <th>count</th>\n",
       "      <td>1201.000000</td>\n",
       "      <td>1379.000000</td>\n",
       "      <td>1452.000000</td>\n",
       "    </tr>\n",
       "    <tr>\n",
       "      <th>mean</th>\n",
       "      <td>70.049958</td>\n",
       "      <td>1978.506164</td>\n",
       "      <td>103.685262</td>\n",
       "    </tr>\n",
       "    <tr>\n",
       "      <th>std</th>\n",
       "      <td>24.284752</td>\n",
       "      <td>24.689725</td>\n",
       "      <td>181.066207</td>\n",
       "    </tr>\n",
       "    <tr>\n",
       "      <th>min</th>\n",
       "      <td>21.000000</td>\n",
       "      <td>1900.000000</td>\n",
       "      <td>0.000000</td>\n",
       "    </tr>\n",
       "    <tr>\n",
       "      <th>25%</th>\n",
       "      <td>59.000000</td>\n",
       "      <td>1961.000000</td>\n",
       "      <td>0.000000</td>\n",
       "    </tr>\n",
       "    <tr>\n",
       "      <th>50%</th>\n",
       "      <td>69.000000</td>\n",
       "      <td>1980.000000</td>\n",
       "      <td>0.000000</td>\n",
       "    </tr>\n",
       "    <tr>\n",
       "      <th>75%</th>\n",
       "      <td>80.000000</td>\n",
       "      <td>2002.000000</td>\n",
       "      <td>166.000000</td>\n",
       "    </tr>\n",
       "    <tr>\n",
       "      <th>max</th>\n",
       "      <td>313.000000</td>\n",
       "      <td>2010.000000</td>\n",
       "      <td>1600.000000</td>\n",
       "    </tr>\n",
       "  </tbody>\n",
       "</table>\n",
       "</div>"
      ],
      "text/plain": [
       "       LotFrontage  GarageYrBlt   MasVnrArea\n",
       "count  1201.000000  1379.000000  1452.000000\n",
       "mean     70.049958  1978.506164   103.685262\n",
       "std      24.284752    24.689725   181.066207\n",
       "min      21.000000  1900.000000     0.000000\n",
       "25%      59.000000  1961.000000     0.000000\n",
       "50%      69.000000  1980.000000     0.000000\n",
       "75%      80.000000  2002.000000   166.000000\n",
       "max     313.000000  2010.000000  1600.000000"
      ]
     },
     "execution_count": 17,
     "metadata": {},
     "output_type": "execute_result"
    }
   ],
   "source": [
    "houses[columnswithNulls].describe()"
   ]
  },
  {
   "cell_type": "markdown",
   "metadata": {},
   "source": [
    "##### Por un valor aleatorio"
   ]
  },
  {
   "cell_type": "code",
   "execution_count": 18,
   "metadata": {},
   "outputs": [
    {
     "data": {
      "text/plain": [
       "348"
      ]
     },
     "execution_count": 18,
     "metadata": {},
     "output_type": "execute_result"
    }
   ],
   "source": [
    "import random\n",
    "aux = houses_num.copy()\n",
    "aux[columnswithNulls].isnull().sum().sum()"
   ]
  },
  {
   "cell_type": "code",
   "execution_count": 19,
   "metadata": {},
   "outputs": [],
   "source": [
    "for col in columnswithNulls:\n",
    "    minVal =  aux[col].min()\n",
    "    maxVal = aux[col].max()\n",
    "    aux.loc[aux[col].isnull(),col] =  random.randrange(minVal,maxVal)"
   ]
  },
  {
   "cell_type": "code",
   "execution_count": 20,
   "metadata": {},
   "outputs": [
    {
     "name": "stdout",
     "output_type": "stream",
     "text": [
      "34376.17631596523\n"
     ]
    }
   ],
   "source": [
    "X = aux.drop(target_col, axis=1).dropna()\n",
    "y = aux[target_col]\n",
    "X_train_dev, X_test, y_train_dev, y_test = train_test_split(X, y, random_state=666, test_size=0.2)\n",
    "X_train, X_dev, y_train, y_dev = train_test_split(X_train_dev, y_train_dev, random_state=667, test_size=0.25)\n",
    "\n",
    "reg = LinearRegression()\n",
    "reg.fit(X_train, y_train)\n",
    "y_dev_hat = reg.predict(X_dev)\n",
    "print(np.sqrt(mean_squared_error(y_dev, y_dev_hat)))"
   ]
  },
  {
   "cell_type": "markdown",
   "metadata": {},
   "source": [
    "##### Por la media"
   ]
  },
  {
   "cell_type": "code",
   "execution_count": 21,
   "metadata": {},
   "outputs": [
    {
     "data": {
      "text/plain": [
       "348"
      ]
     },
     "execution_count": 21,
     "metadata": {},
     "output_type": "execute_result"
    }
   ],
   "source": [
    "aux = houses_num.copy()\n",
    "aux[columnswithNulls].isnull().sum().sum()"
   ]
  },
  {
   "cell_type": "code",
   "execution_count": 22,
   "metadata": {},
   "outputs": [],
   "source": [
    "for col in columnswithNulls:\n",
    "    meanVal =  aux[col].mean()\n",
    "    aux.loc[aux[col].isnull(),col] =  meanVal"
   ]
  },
  {
   "cell_type": "code",
   "execution_count": 23,
   "metadata": {},
   "outputs": [
    {
     "name": "stdout",
     "output_type": "stream",
     "text": [
      "34086.18004235941\n"
     ]
    }
   ],
   "source": [
    "X = aux.drop(target_col, axis=1).dropna()\n",
    "y = aux[target_col]\n",
    "X_train_dev, X_test, y_train_dev, y_test = train_test_split(X, y, random_state=666, test_size=0.2)\n",
    "X_train, X_dev, y_train, y_dev = train_test_split(X_train_dev, y_train_dev, random_state=667, test_size=0.25)\n",
    "\n",
    "reg = LinearRegression()\n",
    "reg.fit(X_train, y_train)\n",
    "y_dev_hat = reg.predict(X_dev)\n",
    "print(np.sqrt(mean_squared_error(y_dev, y_dev_hat)))"
   ]
  },
  {
   "cell_type": "markdown",
   "metadata": {},
   "source": [
    "##### Por el mínimo"
   ]
  },
  {
   "cell_type": "code",
   "execution_count": 24,
   "metadata": {},
   "outputs": [
    {
     "data": {
      "text/plain": [
       "['LotFrontage', 'GarageYrBlt', 'MasVnrArea']"
      ]
     },
     "execution_count": 24,
     "metadata": {},
     "output_type": "execute_result"
    }
   ],
   "source": [
    "columnswithNulls"
   ]
  },
  {
   "cell_type": "code",
   "execution_count": 25,
   "metadata": {},
   "outputs": [],
   "source": [
    "aux = houses_num.copy()\n",
    "for col in columnswithNulls:\n",
    "    minVal =  aux[col].min()\n",
    "    aux.loc[aux[col].isnull(),col] =  minVal"
   ]
  },
  {
   "cell_type": "code",
   "execution_count": 26,
   "metadata": {},
   "outputs": [
    {
     "name": "stdout",
     "output_type": "stream",
     "text": [
      "33728.24586659505\n"
     ]
    }
   ],
   "source": [
    "X = aux.drop(target_col, axis=1).dropna()\n",
    "y = aux[target_col]\n",
    "X_train_dev, X_test, y_train_dev, y_test = train_test_split(X, y, random_state=666, test_size=0.2)\n",
    "X_train, X_dev, y_train, y_dev = train_test_split(X_train_dev, y_train_dev, random_state=667, test_size=0.25)\n",
    "\n",
    "reg = LinearRegression()\n",
    "reg.fit(X_train, y_train)\n",
    "y_dev_hat = reg.predict(X_dev)\n",
    "print(np.sqrt(mean_squared_error(y_dev, y_dev_hat)))"
   ]
  },
  {
   "cell_type": "markdown",
   "metadata": {},
   "source": [
    "##### Por el mínimo y creación de columnas binarias indicando posición de valores nulos"
   ]
  },
  {
   "cell_type": "code",
   "execution_count": 27,
   "metadata": {},
   "outputs": [],
   "source": [
    "aux = houses_num.copy()\n",
    "for col in columnswithNulls:\n",
    "    aux[col+'bin'] = 1\n",
    "    aux.loc[aux[col].isnull(),col+'bin'] = 0\n",
    "    minVal =  aux[col].min()\n",
    "    aux.loc[aux[col].isnull(),col] =  minVal"
   ]
  },
  {
   "cell_type": "code",
   "execution_count": 28,
   "metadata": {},
   "outputs": [
    {
     "name": "stdout",
     "output_type": "stream",
     "text": [
      "33740.8550609176\n"
     ]
    }
   ],
   "source": [
    "X = aux.drop(target_col, axis=1).dropna()\n",
    "y = aux[target_col]\n",
    "X_train_dev, X_test, y_train_dev, y_test = train_test_split(X, y, random_state=666, test_size=0.2)\n",
    "X_train, X_dev, y_train, y_dev = train_test_split(X_train_dev, y_train_dev, random_state=667, test_size=0.25)\n",
    "\n",
    "reg = LinearRegression()\n",
    "reg.fit(X_train, y_train)\n",
    "y_dev_hat = reg.predict(X_dev)\n",
    "print(np.sqrt(mean_squared_error(y_dev, y_dev_hat)))"
   ]
  },
  {
   "cell_type": "markdown",
   "metadata": {},
   "source": [
    "# 2. Variables categóricas: tratamiento\n",
    "\n",
    "En numerosas ocasiones nos enfrentaremos a variables categóricas las cuales tienen una fuerte correlación con la variable a predecir. Por ejemplo en el caso del predcio de venta de casas, claramente el tipo de barrio es un variable totalmente importante para predecir su precio. Un casa de msimas carazterísticas no tiene el mismo valor en Extremadura que en Barcelona. Veremos aquí qué metodologías existen para tratar variables categóricas:\n",
    "\n",
    "1) Labelizar\n",
    "\n",
    "2) One-hot-encoding\n",
    "\n",
    "3) Value encoding"
   ]
  },
  {
   "cell_type": "markdown",
   "metadata": {
    "collapsed": true
   },
   "source": [
    "Busquemos en nuestro dataset quienes son las variables categóricas"
   ]
  },
  {
   "cell_type": "code",
   "execution_count": 29,
   "metadata": {},
   "outputs": [],
   "source": [
    "houses_cat =  houses.select_dtypes(include=[np.object])"
   ]
  },
  {
   "cell_type": "code",
   "execution_count": 30,
   "metadata": {},
   "outputs": [
    {
     "data": {
      "text/plain": [
       "(1460, 43)"
      ]
     },
     "execution_count": 30,
     "metadata": {},
     "output_type": "execute_result"
    }
   ],
   "source": [
    "houses_cat.shape"
   ]
  },
  {
   "cell_type": "code",
   "execution_count": 31,
   "metadata": {},
   "outputs": [
    {
     "data": {
      "text/html": [
       "<div>\n",
       "<style scoped>\n",
       "    .dataframe tbody tr th:only-of-type {\n",
       "        vertical-align: middle;\n",
       "    }\n",
       "\n",
       "    .dataframe tbody tr th {\n",
       "        vertical-align: top;\n",
       "    }\n",
       "\n",
       "    .dataframe thead th {\n",
       "        text-align: right;\n",
       "    }\n",
       "</style>\n",
       "<table border=\"1\" class=\"dataframe\">\n",
       "  <thead>\n",
       "    <tr style=\"text-align: right;\">\n",
       "      <th></th>\n",
       "      <th>MSZoning</th>\n",
       "      <th>Street</th>\n",
       "      <th>Alley</th>\n",
       "      <th>LotShape</th>\n",
       "      <th>LandContour</th>\n",
       "      <th>Utilities</th>\n",
       "      <th>LotConfig</th>\n",
       "      <th>LandSlope</th>\n",
       "      <th>Neighborhood</th>\n",
       "      <th>Condition1</th>\n",
       "      <th>...</th>\n",
       "      <th>GarageType</th>\n",
       "      <th>GarageFinish</th>\n",
       "      <th>GarageQual</th>\n",
       "      <th>GarageCond</th>\n",
       "      <th>PavedDrive</th>\n",
       "      <th>PoolQC</th>\n",
       "      <th>Fence</th>\n",
       "      <th>MiscFeature</th>\n",
       "      <th>SaleType</th>\n",
       "      <th>SaleCondition</th>\n",
       "    </tr>\n",
       "  </thead>\n",
       "  <tbody>\n",
       "    <tr>\n",
       "      <th>count</th>\n",
       "      <td>1460</td>\n",
       "      <td>1460</td>\n",
       "      <td>91</td>\n",
       "      <td>1460</td>\n",
       "      <td>1460</td>\n",
       "      <td>1460</td>\n",
       "      <td>1460</td>\n",
       "      <td>1460</td>\n",
       "      <td>1460</td>\n",
       "      <td>1460</td>\n",
       "      <td>...</td>\n",
       "      <td>1379</td>\n",
       "      <td>1379</td>\n",
       "      <td>1379</td>\n",
       "      <td>1379</td>\n",
       "      <td>1460</td>\n",
       "      <td>7</td>\n",
       "      <td>281</td>\n",
       "      <td>54</td>\n",
       "      <td>1460</td>\n",
       "      <td>1460</td>\n",
       "    </tr>\n",
       "    <tr>\n",
       "      <th>unique</th>\n",
       "      <td>5</td>\n",
       "      <td>2</td>\n",
       "      <td>2</td>\n",
       "      <td>4</td>\n",
       "      <td>4</td>\n",
       "      <td>2</td>\n",
       "      <td>5</td>\n",
       "      <td>3</td>\n",
       "      <td>25</td>\n",
       "      <td>9</td>\n",
       "      <td>...</td>\n",
       "      <td>6</td>\n",
       "      <td>3</td>\n",
       "      <td>5</td>\n",
       "      <td>5</td>\n",
       "      <td>3</td>\n",
       "      <td>3</td>\n",
       "      <td>4</td>\n",
       "      <td>4</td>\n",
       "      <td>9</td>\n",
       "      <td>6</td>\n",
       "    </tr>\n",
       "    <tr>\n",
       "      <th>top</th>\n",
       "      <td>RL</td>\n",
       "      <td>Pave</td>\n",
       "      <td>Grvl</td>\n",
       "      <td>Reg</td>\n",
       "      <td>Lvl</td>\n",
       "      <td>AllPub</td>\n",
       "      <td>Inside</td>\n",
       "      <td>Gtl</td>\n",
       "      <td>NAmes</td>\n",
       "      <td>Norm</td>\n",
       "      <td>...</td>\n",
       "      <td>Attchd</td>\n",
       "      <td>Unf</td>\n",
       "      <td>TA</td>\n",
       "      <td>TA</td>\n",
       "      <td>Y</td>\n",
       "      <td>Gd</td>\n",
       "      <td>MnPrv</td>\n",
       "      <td>Shed</td>\n",
       "      <td>WD</td>\n",
       "      <td>Normal</td>\n",
       "    </tr>\n",
       "    <tr>\n",
       "      <th>freq</th>\n",
       "      <td>1151</td>\n",
       "      <td>1454</td>\n",
       "      <td>50</td>\n",
       "      <td>925</td>\n",
       "      <td>1311</td>\n",
       "      <td>1459</td>\n",
       "      <td>1052</td>\n",
       "      <td>1382</td>\n",
       "      <td>225</td>\n",
       "      <td>1260</td>\n",
       "      <td>...</td>\n",
       "      <td>870</td>\n",
       "      <td>605</td>\n",
       "      <td>1311</td>\n",
       "      <td>1326</td>\n",
       "      <td>1340</td>\n",
       "      <td>3</td>\n",
       "      <td>157</td>\n",
       "      <td>49</td>\n",
       "      <td>1267</td>\n",
       "      <td>1198</td>\n",
       "    </tr>\n",
       "  </tbody>\n",
       "</table>\n",
       "<p>4 rows × 43 columns</p>\n",
       "</div>"
      ],
      "text/plain": [
       "       MSZoning Street Alley LotShape LandContour Utilities LotConfig  \\\n",
       "count      1460   1460    91     1460        1460      1460      1460   \n",
       "unique        5      2     2        4           4         2         5   \n",
       "top          RL   Pave  Grvl      Reg         Lvl    AllPub    Inside   \n",
       "freq       1151   1454    50      925        1311      1459      1052   \n",
       "\n",
       "       LandSlope Neighborhood Condition1  ... GarageType GarageFinish  \\\n",
       "count       1460         1460       1460  ...       1379         1379   \n",
       "unique         3           25          9  ...          6            3   \n",
       "top          Gtl        NAmes       Norm  ...     Attchd          Unf   \n",
       "freq        1382          225       1260  ...        870          605   \n",
       "\n",
       "       GarageQual GarageCond PavedDrive PoolQC  Fence MiscFeature SaleType  \\\n",
       "count        1379       1379       1460      7    281          54     1460   \n",
       "unique          5          5          3      3      4           4        9   \n",
       "top            TA         TA          Y     Gd  MnPrv        Shed       WD   \n",
       "freq         1311       1326       1340      3    157          49     1267   \n",
       "\n",
       "       SaleCondition  \n",
       "count           1460  \n",
       "unique             6  \n",
       "top           Normal  \n",
       "freq            1198  \n",
       "\n",
       "[4 rows x 43 columns]"
      ]
     },
     "execution_count": 31,
     "metadata": {},
     "output_type": "execute_result"
    }
   ],
   "source": [
    "houses_cat.describe()"
   ]
  },
  {
   "cell_type": "markdown",
   "metadata": {},
   "source": [
    "Vamos a predecir el valor de las casa con una única variable categórica:\n",
    "\n",
    "\"Neighborhood\""
   ]
  },
  {
   "cell_type": "markdown",
   "metadata": {},
   "source": [
    "## 2.1) Labelización"
   ]
  },
  {
   "cell_type": "code",
   "execution_count": 32,
   "metadata": {},
   "outputs": [
    {
     "data": {
      "text/plain": [
       "(array(['CollgCr', 'Veenker', 'Crawfor', 'NoRidge', 'Mitchel', 'Somerst',\n",
       "        'NWAmes', 'OldTown', 'BrkSide', 'Sawyer', 'NridgHt', 'NAmes',\n",
       "        'SawyerW', 'IDOTRR', 'MeadowV', 'Edwards', 'Timber', 'Gilbert',\n",
       "        'StoneBr', 'ClearCr', 'NPkVill', 'Blmngtn', 'BrDale', 'SWISU',\n",
       "        'Blueste'], dtype=object), 25)"
      ]
     },
     "execution_count": 32,
     "metadata": {},
     "output_type": "execute_result"
    }
   ],
   "source": [
    "houses = pd.read_csv(path, index_col=\"Id\")\n",
    "houses['Neighborhood'].unique(),houses['Neighborhood'].nunique()"
   ]
  },
  {
   "cell_type": "code",
   "execution_count": 33,
   "metadata": {},
   "outputs": [],
   "source": [
    "\n",
    "target_col = \"SalePrice\"\n",
    "categorical_column = \"Neighborhood\"\n",
    "Xy = houses[[categorical_column, target_col]]\n",
    "X = Xy.drop(target_col, axis=1)\n",
    "y = Xy[target_col]\n",
    "\n",
    "X_train_dev, X_test, y_train_dev, y_test = train_test_split(X, y, random_state=666, test_size=0.2)\n",
    "X_train, X_dev, y_train, y_dev = train_test_split(X_train_dev, y_train_dev, random_state=667, test_size=0.25)"
   ]
  },
  {
   "cell_type": "code",
   "execution_count": 34,
   "metadata": {},
   "outputs": [],
   "source": [
    "classes = X[categorical_column].unique()\n",
    "col2num = {classes[i]: i for i in range(len(classes))}\n",
    "X_train[categorical_column + \"_label\"] = X_train[categorical_column].apply(lambda cls: col2num[cls])\n",
    "X_dev[categorical_column + \"_label\"] = X_dev[categorical_column].apply(lambda cls: col2num[cls])"
   ]
  },
  {
   "cell_type": "code",
   "execution_count": 35,
   "metadata": {},
   "outputs": [
    {
     "name": "stdout",
     "output_type": "stream",
     "text": [
      "79925.19665925231\n"
     ]
    }
   ],
   "source": [
    "reg = LinearRegression()\n",
    "reg.fit(X_train[[categorical_column + \"_label\"]], y_train)\n",
    "y_dev_hat = reg.predict(X_dev[[categorical_column + \"_label\"]])\n",
    "print(np.sqrt(mean_squared_error(y_dev, y_dev_hat)))"
   ]
  },
  {
   "cell_type": "code",
   "execution_count": 36,
   "metadata": {},
   "outputs": [
    {
     "data": {
      "text/plain": [
       "Text(0, 0.5, 'Sale Price')"
      ]
     },
     "execution_count": 36,
     "metadata": {},
     "output_type": "execute_result"
    },
    {
     "data": {
      "image/png": "[encoded data removed]",
      "text/plain": [
       "<Figure size 1440x720 with 1 Axes>"
      ]
     },
     "metadata": {
      "needs_background": "light"
     },
     "output_type": "display_data"
    }
   ],
   "source": [
    "# Ploting real data y (blue)\n",
    "plt.scatter(X_dev[[categorical_column + \"_label\"]], y_dev, alpha=0.3, c=\"blue\")\n",
    "# versus predicted y_hat (red)\n",
    "\n",
    "\n",
    "plt.plot(X_dev[[categorical_column + \"_label\"]], y_dev_hat, alpha=0.3, c=\"red\")\n",
    "\n",
    "plt.xlabel(\"Labelized category\")\n",
    "plt.ylabel(\"Sale Price\")"
   ]
  },
  {
   "cell_type": "markdown",
   "metadata": {},
   "source": [
    "__Nota__ : Vemos que la predicción es casi constante y probablemente deberíamos reordenar las etiquetas de una manera diferente. Hay dos maneras de resolverlo que discutiremos aquí.\n",
    "\n",
    "1. Podríamos etiquetar las categorías de manera que no tengan un pedido. Podemos hacer esto usando One-Hot-Encoding.\n",
    "\n",
    "2. Categorías etiquetadas por números que tiene sentido."
   ]
  },
  {
   "cell_type": "markdown",
   "metadata": {},
   "source": [
    "### 2.1 One-hot-encoding\n",
    "\n",
    "Esto es creando tantas columnas como categorías que tenemos y rellenándolas con ceros, excepto la que corresponde a la categoría. Así codifica las categorías de la siguiente manera:\n",
    "\n",
    "* dog to `[1, 0, 1]`\n",
    "* cat to `[0, 1, 0]`\n",
    "* horse to `[0, 0, 1]`\n",
    "\n",
    "en el caso de una variable con tres valores distintos"
   ]
  },
  {
   "cell_type": "code",
   "execution_count": 37,
   "metadata": {},
   "outputs": [],
   "source": [
    "def label_one_hot_encoding(series, dict_length=None):\n",
    "    if dict_length is None:\n",
    "        dict_length = len(series.unique())\n",
    "    return np.eye(dict_length)[series]"
   ]
  },
  {
   "cell_type": "markdown",
   "metadata": {},
   "source": [
    "Vamos a ver la diferencia con la labelización para el mismo ejemplo:"
   ]
  },
  {
   "cell_type": "code",
   "execution_count": 38,
   "metadata": {},
   "outputs": [],
   "source": [
    "dict_length = len(X_train[categorical_column + \"_label\"].unique())"
   ]
  },
  {
   "cell_type": "code",
   "execution_count": 39,
   "metadata": {},
   "outputs": [
    {
     "name": "stdout",
     "output_type": "stream",
     "text": [
      "59058.31690049982\n"
     ]
    }
   ],
   "source": [
    "reg.fit(label_one_hot_encoding(X_train[categorical_column + \"_label\"], dict_length), y_train)\n",
    "y_dev_hat = reg.predict(label_one_hot_encoding(X_dev[categorical_column + \"_label\"], dict_length))\n",
    "print(np.sqrt(mean_squared_error(y_dev, y_dev_hat)))"
   ]
  },
  {
   "cell_type": "code",
   "execution_count": null,
   "metadata": {},
   "outputs": [],
   "source": []
  },
  {
   "cell_type": "code",
   "execution_count": 40,
   "metadata": {},
   "outputs": [
    {
     "name": "stdout",
     "output_type": "stream",
     "text": [
      "[19 17 11 17  7  0 16 18  7 16  5 19  8  6  3  5 12 19  8 19 15 10 17 12\n",
      " 17 19  0  3  4  2  5  4  1 12  6  5 13  8 12 12  6  7 17  8 12 22  7 23\n",
      " 21 12  7 12 16  4  7  4 17  5 17  5  3  3  7 19  7  9  8 12 11 12 12 12\n",
      "  7  5 18 12 12  5 17 24 21 16  5 14  7 20  8 12 12  8 12  3 15 11 16 12\n",
      "  8 11  5  6 19 12 12 19 19 14  5 17 20 15 17 12 14  9  7  7  6 14 23 10\n",
      " 20 16  6 19 21 13 17 11 17 15  6  7 22 23  7  3 20 12  5 16 18 12 19 12\n",
      " 12 20  8 19 12 12 12  0 12 22  2 21 12  6  8 14 10  7  7 21 23 18 14  3\n",
      " 19 19  7  7  5 16 19  8 20 12 20 16 23 22 20 12 21  7 16  3 14 12  8 12\n",
      " 23  5  3  5 11  9 10 16 12  7 18 15 16 12 19 21  9 19  5 21 12  4 23  5\n",
      " 18 17 17  2  7 12 21 18 15 12 23 10  5 18 14  5 10  5 20 19 23 16 16 19\n",
      " 19  5 12 21 12  7 12 11 12  8  4 12 16 17 14 22  5  5  5  5 12  2 17  3\n",
      " 12 17  0  5  6 12  8  2 15  7 20 20 16 21 14 20 22 14 14 21 15 12  6 11\n",
      "  5 16  6 14 21  5 21  6 23 11 18  8 19  2 11 19 15  9 12  8 15 14  4 12\n",
      "  7 14  3 12 24  7 21 17 21 17 24 15  7 14 15 14 14 16 12 11  4  8  5 21\n",
      "  8 22 17  8 20 16 12 23 15 23 17 14  7 14 14 15 20  6  6 14 17 12  7 21\n",
      " 16 12  4 17  5  6 12 16 12  9  4 24 21 11  7 19 12  7  5 17 17  3  8 14\n",
      " 12 11 21  5 21  7  6 12 16  8  9 17  3  0  8 14  6  7 12 20  5 12 14 10\n",
      "  5 16 16 24 14 21 12 19  5 12 14  7 12 12 16 12 12 12 12  7 12 11 14 12\n",
      "  8  7  4 12 17 17 12 23 12 20 23 21 20 12 21  7  5  3 12  8  5 16  9  3\n",
      "  5 23 21  3 20 17  9 19 11 17 21 23  2 10  5 12 15 20  5  8 12 17  5 14\n",
      " 14 17 21 19 16 17  5 21 12  3 22 12 23  6  7 22 16 17 12  7  6 12 12  8\n",
      "  5 21 20  8 16 21 21 21 19 12 21  7 13 21  5  9 19 12  6 17 19  6 20 24\n",
      "  5  8 17 20 14  4 17 14  3 12 16 14  0 21  7  3 12 12 21  5  5 16 17  3\n",
      " 11 15  5 23 16 14 16  5  5 12 12 16 17 22  5 11 18 16 20  6 18  7  5 16\n",
      " 17  5 21  7 17 12 22  5  8  3 14  7  4  7 17 16 14  3 17  7  7 17 21 19\n",
      " 12 20 10 12 14 21 19 15 17 12  0 12  8  5  0 14 12 20 11  8 19 14  5  5\n",
      " 13 15 12  3  9  6  3 12  8 17  8 16  5 20 20 16 21 12 22  3  8 20  0 15\n",
      "  8  9 17  7 22 19  9  9 16 17  7  5 20 13  9 21  5  5 21  5 23  8  7 11\n",
      " 17  8 12  7 19 16 11  3 20 16 12 12  3  4 15 20 17  9 24  5 14  5  6 12\n",
      "  8 12 15  7 14  8  9  5  7 21 22  0 14 21 17 11 12 12 12 17  8 16  5  8\n",
      "  7 19 17  7 20 12 16  8  5 17 12  8 12 12  5 17 11 10 22 16 19 21 19 12\n",
      "  5 11 12 14  5  7 19 12  7 21 17  3 17  9  5 12 12 18 12 16 18 12 17 22\n",
      " 20  4 17  5 17 12 17 12 12  8  8 24 12 12 12 13 19 12  7 17  4 12  9 17\n",
      " 14  7  9 12 16 15 14 11 20 17  6  8 10 23  8 17  5 12  5 22 21 12  5 16\n",
      " 19 17  8 19 20 14  5 16  2 14 12 23 17 12 11 16  6  2  5 12  5  4  7 18\n",
      " 21 20 21  6  5 14  9 10 20 12 16  5 19 19 12 14 12  7 17  7 21  7  6  5\n",
      "  5 12 12  2  7 16 17  7 11 17 12  7]\n"
     ]
    }
   ],
   "source": [
    "from sklearn.preprocessing import LabelEncoder\n",
    "from sklearn.preprocessing import OneHotEncoder\n",
    "# integer encode\n",
    "label_encoder = LabelEncoder()\n",
    "integer_encoded = label_encoder.fit_transform(X_train['Neighborhood'])\n",
    "print(integer_encoded)"
   ]
  },
  {
   "cell_type": "code",
   "execution_count": 41,
   "metadata": {},
   "outputs": [
    {
     "name": "stdout",
     "output_type": "stream",
     "text": [
      "[[0. 0. 0. ... 0. 0. 0.]\n",
      " [0. 0. 0. ... 0. 0. 0.]\n",
      " [0. 0. 0. ... 0. 0. 0.]\n",
      " ...\n",
      " [0. 0. 0. ... 0. 0. 0.]\n",
      " [0. 0. 0. ... 0. 0. 0.]\n",
      " [0. 0. 0. ... 0. 0. 0.]]\n"
     ]
    }
   ],
   "source": [
    "# binary encode\n",
    "onehot_encoder = OneHotEncoder(sparse=False)\n",
    "integer_encoded = integer_encoded.reshape(len(integer_encoded), 1)\n",
    "onehot_encoded = onehot_encoder.fit_transform(integer_encoded)\n",
    "print(onehot_encoded)"
   ]
  },
  {
   "cell_type": "markdown",
   "metadata": {},
   "source": [
    "### 2.1 Value encoding\n",
    "\n",
    "Otra forma de codificar categorías es usar valores promedio de la variable objetivo. En realidad, en esta situación obtendremos exactamente las mismas predicciones `y_dev_hat`. Lo más importante que debes recordar es utilizar `X_train` y ` y_train`. Veamos con el siguiente código lo que significa."
   ]
  },
  {
   "cell_type": "code",
   "execution_count": 42,
   "metadata": {},
   "outputs": [
    {
     "data": {
      "text/html": [
       "<div>\n",
       "<style scoped>\n",
       "    .dataframe tbody tr th:only-of-type {\n",
       "        vertical-align: middle;\n",
       "    }\n",
       "\n",
       "    .dataframe tbody tr th {\n",
       "        vertical-align: top;\n",
       "    }\n",
       "\n",
       "    .dataframe thead th {\n",
       "        text-align: right;\n",
       "    }\n",
       "</style>\n",
       "<table border=\"1\" class=\"dataframe\">\n",
       "  <thead>\n",
       "    <tr style=\"text-align: right;\">\n",
       "      <th></th>\n",
       "      <th>Neighborhood</th>\n",
       "      <th>Neighborhood_value</th>\n",
       "    </tr>\n",
       "  </thead>\n",
       "  <tbody>\n",
       "    <tr>\n",
       "      <th>0</th>\n",
       "      <td>Blmngtn</td>\n",
       "      <td>191537.400000</td>\n",
       "    </tr>\n",
       "    <tr>\n",
       "      <th>1</th>\n",
       "      <td>Blueste</td>\n",
       "      <td>124000.000000</td>\n",
       "    </tr>\n",
       "    <tr>\n",
       "      <th>2</th>\n",
       "      <td>BrDale</td>\n",
       "      <td>109250.000000</td>\n",
       "    </tr>\n",
       "    <tr>\n",
       "      <th>3</th>\n",
       "      <td>BrkSide</td>\n",
       "      <td>123232.142857</td>\n",
       "    </tr>\n",
       "    <tr>\n",
       "      <th>4</th>\n",
       "      <td>ClearCr</td>\n",
       "      <td>215843.058824</td>\n",
       "    </tr>\n",
       "  </tbody>\n",
       "</table>\n",
       "</div>"
      ],
      "text/plain": [
       "  Neighborhood  Neighborhood_value\n",
       "0      Blmngtn       191537.400000\n",
       "1      Blueste       124000.000000\n",
       "2       BrDale       109250.000000\n",
       "3      BrkSide       123232.142857\n",
       "4      ClearCr       215843.058824"
      ]
     },
     "execution_count": 42,
     "metadata": {},
     "output_type": "execute_result"
    }
   ],
   "source": [
    "category_value_df = X_train[[categorical_column]]\n",
    "category_value_df[categorical_column+\"_value\"] = y_train\n",
    "category_value_df = category_value_df.groupby(categorical_column, as_index=False).mean()\n",
    "category_value_df.head()"
   ]
  },
  {
   "cell_type": "code",
   "execution_count": 43,
   "metadata": {},
   "outputs": [
    {
     "name": "stdout",
     "output_type": "stream",
     "text": [
      "59058.31690049982\n"
     ]
    }
   ],
   "source": [
    "y_dev_hat_value_encoded = \\\n",
    "    X_dev.merge(category_value_df, how=\"left\", on=categorical_column)[[categorical_column+\"_value\"]]\n",
    "print(np.sqrt(mean_squared_error(y_dev, y_dev_hat)))"
   ]
  },
  {
   "cell_type": "markdown",
   "metadata": {},
   "source": [
    "    Poniéndolo todo junto:"
   ]
  },
  {
   "cell_type": "code",
   "execution_count": 44,
   "metadata": {},
   "outputs": [],
   "source": [
    "columns = ['OverallQual', 'YearBuilt', 'YearRemodAdd', 'BsmtFinSF1', \n",
    "'TotalBsmtSF', \"Neighborhood\", \"ExterQual\"]\n",
    "\n",
    "target_col = \"SalePrice\"\n",
    "\n",
    "X = houses[columns]\n",
    "y = houses[target_col]\n",
    "\n",
    "X_train_dev, X_test, y_train_dev, y_test = train_test_split(X, y, random_state=666, test_size=0.2)\n",
    "X_train, X_dev, y_train, y_dev = train_test_split(X_train_dev, y_train_dev, random_state=667, test_size=0.25)"
   ]
  },
  {
   "cell_type": "code",
   "execution_count": 45,
   "metadata": {},
   "outputs": [
    {
     "name": "stdout",
     "output_type": "stream",
     "text": [
      "42536.38809365479\n"
     ]
    }
   ],
   "source": [
    "class Labelizer:\n",
    "    \n",
    "    def __init__(self, categories):\n",
    "        self.categories = categories\n",
    "        self.cat2num = {}\n",
    "        self.num2cat = {}\n",
    "        \n",
    "    def generate_dicts(self):\n",
    "        self.cat2num = {self.categories[i]: i for i in range(len(self.categories))}\n",
    "        self.num2cat = {i: self.categories[i] for i in range(len(self.categories))}\n",
    "        \n",
    "    def fit(self):\n",
    "        self.generate_dicts()\n",
    "        return self\n",
    "        \n",
    "    def transform(self, series):\n",
    "        return series.apply(lambda cat: self.cat2num[cat])\n",
    "    \n",
    "labelizer_Neighborhood = Labelizer(X_train[\"Neighborhood\"].unique()).fit()  \n",
    "labelizer_ExterQual = Labelizer(X_train[\"ExterQual\"].unique()).fit()\n",
    "\n",
    "def labelize_X(X):\n",
    "    labelized_X = X.drop([\"Neighborhood\", \"ExterQual\"], axis=1)\n",
    "    labelized_X[\"Neighborhood_labelized\"] = labelizer_Neighborhood.transform(X[\"Neighborhood\"])\n",
    "    labelized_X[\"ExterQual_labelized\"] = labelizer_ExterQual.transform(X[\"ExterQual\"])\n",
    "    return labelized_X\n",
    "\n",
    "X_train_labelized = labelize_X(X_train)\n",
    "X_dev_labelized = labelize_X(X_dev)\n",
    "\n",
    "reg.fit(X_train_labelized, y_train)\n",
    "y_dev_hat = reg.predict(X_dev_labelized)\n",
    "print(np.sqrt(mean_squared_error(y_dev, y_dev_hat)))"
   ]
  },
  {
   "cell_type": "code",
   "execution_count": 46,
   "metadata": {},
   "outputs": [
    {
     "data": {
      "text/plain": [
       "array([[ 1,  2,  7, 11, 12],\n",
       "       [ 3,  4,  8, 13, 14],\n",
       "       [ 5,  6,  9, 16, 15]])"
      ]
     },
     "execution_count": 46,
     "metadata": {},
     "output_type": "execute_result"
    }
   ],
   "source": [
    "A = np.array([[1, 2], [3, 4], [5, 6]])\n",
    "B = np.array([[7], [8], [9]])\n",
    "C = np.array([[11, 12], [13, 14], [16, 15]])\n",
    "np.concatenate([A, B, C], axis=1)"
   ]
  },
  {
   "cell_type": "code",
   "execution_count": 47,
   "metadata": {},
   "outputs": [
    {
     "name": "stdout",
     "output_type": "stream",
     "text": [
      "38502.67090075829\n"
     ]
    }
   ],
   "source": [
    "class OneHotEncoderWithLabelizer:\n",
    "    \n",
    "    def __init__(self, categories):\n",
    "        self.categories = categories\n",
    "        self.labelizer = Labelizer(categories)\n",
    "            \n",
    "    def fit(self):\n",
    "        self.labelizer.fit()\n",
    "        return self\n",
    "        \n",
    "    def transform(self, series):\n",
    "        series_labelized = self.labelizer.transform(series)\n",
    "        return np.eye(len(self.categories))[series_labelized]\n",
    "    \n",
    "one_hot_encoder_Neighborhood = OneHotEncoderWithLabelizer(X_train[\"Neighborhood\"].unique()).fit()  \n",
    "one_hot_encoder_ExterQual = OneHotEncoderWithLabelizer(X_train[\"ExterQual\"].unique()).fit()\n",
    "\n",
    "def one_hot_encode_X(X):\n",
    "    X_other = X.drop([\"Neighborhood\", \"ExterQual\"], axis=1).as_matrix()\n",
    "    neighborhood_encoded = one_hot_encoder_Neighborhood.transform(X[\"Neighborhood\"])\n",
    "    exterQual_encoded = one_hot_encoder_ExterQual.transform(X[\"ExterQual\"])\n",
    "    return np.concatenate([X_other, neighborhood_encoded, exterQual_encoded], axis=1)\n",
    "\n",
    "X_train_encoded = one_hot_encode_X(X_train)\n",
    "X_dev_encoded = one_hot_encode_X(X_dev)\n",
    "\n",
    "reg.fit(X_train_encoded, y_train)\n",
    "y_dev_hat = reg.predict(X_dev_encoded)\n",
    "print(np.sqrt(mean_squared_error(y_dev, y_dev_hat)))"
   ]
  },
  {
   "cell_type": "code",
   "execution_count": 48,
   "metadata": {},
   "outputs": [
    {
     "name": "stdout",
     "output_type": "stream",
     "text": [
      "40200.74117925291\n"
     ]
    }
   ],
   "source": [
    "import string\n",
    "\n",
    "class ValueEncoder:\n",
    "    \n",
    "    def __init__(self, cat_colname=None, value_colname=None, agg_function='mean',):\n",
    "        self.agg_function = agg_function\n",
    "        self.cat_colname = cat_colname if cat_colname is not None else\\\n",
    "            ''.join(np.random.choice(list(string.ascii_lowercase + string.digits)) for _ in range(10))\n",
    "        self.value_colname = value_colname if value_colname is not None else\\\n",
    "            self.cat_colname + \"_\" + self.agg_function\n",
    "        self.cat_value_df = None\n",
    "            \n",
    "    def fit(self, cat_series, value_series):\n",
    "        cat_value_df = pd.DataFrame({\n",
    "            self.cat_colname: cat_series,\n",
    "            self.value_colname: value_series\n",
    "        })\n",
    "        self.cat_value_df = cat_value_df\\\n",
    "            .groupby(self.cat_colname, as_index=False)\\\n",
    "            .agg(self.agg_function)\n",
    "        return self\n",
    "        \n",
    "    def transform(self, cat_series):\n",
    "        return pd.DataFrame({self.cat_colname:cat_series})\\\n",
    "            .merge(self.cat_value_df, on=self.cat_colname, how=\"left\")[self.value_colname]\n",
    "\n",
    "value_encoder_Neighborhood = ValueEncoder(\"Neighborhood\")\\\n",
    "   .fit(X_train[\"Neighborhood\"], y_train)  \n",
    "value_encoder_ExterQual = ValueEncoder(\"ExterQual\")\\\n",
    "   .fit(X_train[\"ExterQual\"], y_train)\n",
    "\n",
    "def value_encode_X(X):\n",
    "    encoded_X = X.drop([\"Neighborhood\", \"ExterQual\"], axis=1).reset_index(drop=True)\n",
    "    encoded_X[\"Neighborhood_encoded\"] = value_encoder_Neighborhood.transform(X[\"Neighborhood\"])\n",
    "    encoded_X[\"ExterQual_encoded\"] = value_encoder_ExterQual.transform(X[\"ExterQual\"])\n",
    "    return encoded_X\n",
    "\n",
    "X_train_encoded = value_encode_X(X_train)\n",
    "X_dev_encoded = value_encode_X(X_dev)\n",
    "reg.fit(X_train_encoded, y_train)\n",
    "y_dev_hat = reg.predict(X_dev_encoded)\n",
    "print(np.sqrt(mean_squared_error(y_dev, y_dev_hat)))"
   ]
  },
  {
   "cell_type": "markdown",
   "metadata": {},
   "source": [
    "# 3. Selección de variables"
   ]
  },
  {
   "cell_type": "markdown",
   "metadata": {},
   "source": [
    "Cuando tenemos muchas variables una manera de hacer una seleccion de variables es escoger aquellas que estñen\n",
    "mñas correladas conla variabel a predecir."
   ]
  },
  {
   "cell_type": "code",
   "execution_count": 49,
   "metadata": {},
   "outputs": [
    {
     "name": "stdout",
     "output_type": "stream",
     "text": [
      "LotFrontage 259\n",
      "MasVnrArea 8\n",
      "GarageYrBlt 81\n"
     ]
    }
   ],
   "source": [
    "Xy = houses_num\n",
    "target_col = \"SalePrice\"\n",
    "\n",
    "cols_with_na = []\n",
    "for col in Xy.columns.values:\n",
    "    nas = sum(Xy[col].isna())\n",
    "    if nas > 0:\n",
    "        cols_with_na.append(col)\n",
    "        print(col, sum(Xy[col].isna()))\n",
    "        \n",
    "Xy = Xy.drop(cols_with_na, axis=1)"
   ]
  },
  {
   "cell_type": "code",
   "execution_count": 50,
   "metadata": {},
   "outputs": [
    {
     "data": {
      "text/html": [
       "<script type=\"text/javascript\">window.PlotlyConfig = {MathJaxConfig: 'local'};</script><script type=\"text/javascript\">if (window.MathJax) {MathJax.Hub.Config({SVG: {font: \"STIX-Web\"}});}</script><script>requirejs.config({paths: { 'plotly': ['https://cdn.plot.ly/plotly-latest.min']},});if(!window._Plotly) {require(['plotly'],function(plotly) {window._Plotly=plotly;});}</script>"
      ],
      "text/vnd.plotly.v1+html": [
       "<script type=\"text/javascript\">window.PlotlyConfig = {MathJaxConfig: 'local'};</script><script type=\"text/javascript\">if (window.MathJax) {MathJax.Hub.Config({SVG: {font: \"STIX-Web\"}});}</script><script>requirejs.config({paths: { 'plotly': ['https://cdn.plot.ly/plotly-latest.min']},});if(!window._Plotly) {require(['plotly'],function(plotly) {window._Plotly=plotly;});}</script>"
      ]
     },
     "metadata": {},
     "output_type": "display_data"
    },
    {
     "data": {
      "application/vnd.plotly.v1+json": {
       "config": {
        "linkText": "Export to plot.ly",
        "plotlyServerURL": "https://plot.ly",
        "showLink": false
       },
       "data": [
        {
         "type": "heatmap",
         "uid": "a93d0813-b3a1-4f0b-945d-b59847b95eca",
         "z": [
          [
           1,
           0.011156478201382672,
           -0.03322551858568492,
           -0.028364753937537245,
           0.012608924775951698,
           -0.012712715387846654,
           -0.021997641857505437,
           -0.0050240490416610575,
           -0.005967671960281668,
           -0.007939703357717261,
           -0.015414566107910999,
           0.010496040954083016,
           0.005589848886158616,
           -0.04422995808659233,
           0.008272757661810213,
           0.002288555600833932,
           -0.02015474521553456,
           0.005587452907357383,
           0.006783811284297757,
           0.03771855422321125,
           0.0029512363577246527,
           0.027238724409455572,
           -0.019771632442392516,
           0.016569677112146044,
           0.017633778453766888,
           -0.02964319715640263,
           -0.00047691132479109967,
           0.002889217865750098,
           -0.04663478886742706,
           0.0013302086301727792,
           0.057043904789252,
           -0.0062424048483025575,
           0.021172176550393426,
           0.0007117940170476534,
           -0.021916719443431112
          ],
          [
           0.011156478201382672,
           1,
           -0.13978108172014636,
           0.032627707521842186,
           -0.05931581708410461,
           0.027850136946706617,
           0.0405810447840647,
           -0.06983574916710103,
           -0.06564857918852456,
           -0.14075948083501214,
           -0.23851840931512,
           -0.2517583518783804,
           0.30788572075985965,
           0.04647375589951825,
           0.07485317965779979,
           0.00349102577904494,
           -0.0023325345518021793,
           0.13160822241028183,
           0.17735438864391526,
           -0.02343802846062763,
           0.281721040264881,
           0.04038006478367577,
           -0.045569340274569284,
           -0.04010979313578374,
           -0.09867154319256446,
           -0.012579358249219704,
           -0.0061001212319422415,
           -0.012036621902094572,
           -0.04382454917560825,
           -0.026030176699806493,
           0.008282707579624323,
           -0.007683291329866207,
           -0.013584643238322446,
           -0.021407037851093803,
           -0.08428413512659523
          ],
          [
           -0.03322551858568492,
           -0.13978108172014636,
           1,
           0.10580574175496442,
           -0.005636270274099174,
           0.014227651757024678,
           0.013788427078154822,
           0.21410313070557835,
           0.11116974549624932,
           -0.0026183599500954335,
           0.26083313454515794,
           0.29947457850776354,
           0.05098594829349351,
           0.004778969866349652,
           0.26311616716714836,
           0.1581545310600175,
           0.048045570888297716,
           0.1260306265196434,
           0.014259468566431727,
           0.11968990815131679,
           -0.017783870504841866,
           0.19001477762540772,
           0.2713640096245405,
           0.15487073975354074,
           0.18040275515111656,
           0.17169768725711357,
           0.08477380884021646,
           -0.018339733672212276,
           0.020422829586133177,
           0.043160377695251814,
           0.07767239188017415,
           0.03806769201918441,
           0.0012049882225877388,
           -0.014261407298531923,
           0.2638433538714063
          ],
          [
           -0.028364753937537245,
           0.032627707521842186,
           0.10580574175496442,
           1,
           -0.09193234263907184,
           0.572322768962362,
           0.550683924194174,
           0.23966596617889305,
           -0.05911869267069023,
           0.30815892690564345,
           0.5378084986123927,
           0.4762238290781775,
           0.29549287919971035,
           -0.03042928397960494,
           0.5930074300286511,
           0.11109778614230408,
           -0.04015015766998875,
           0.5505997093682552,
           0.27345809864277076,
           0.10167635624178653,
           -0.18388223454922223,
           0.42745234327798615,
           0.39676503795208756,
           0.6006707165907189,
           0.5620217566126064,
           0.23892339224919107,
           0.30881882335945265,
           -0.11393685859568092,
           0.03037056713526411,
           0.06488636049351724,
           0.06516584360589141,
           -0.03140621050074753,
           0.07081517178517302,
           -0.02734670832780769,
           0.7909816005838047
          ],
          [
           0.012608924775951698,
           -0.05931581708410461,
           -0.005636270274099174,
           -0.09193234263907184,
           1,
           -0.37598319560698873,
           0.07374149814528969,
           -0.046230855918224914,
           0.04022916989976808,
           -0.1368405698935219,
           -0.17109751462492115,
           -0.1442027840490588,
           0.028942115965816365,
           0.025494319914214247,
           -0.07968586538833754,
           -0.054941515432952504,
           0.117820915081395,
           -0.19414948874930252,
           -0.06076932676159386,
           0.012980060094550657,
           -0.08700085543637874,
           -0.05758316611286472,
           -0.02381997776166174,
           -0.1857575105783602,
           -0.1515213705702289,
           -0.00333369928938553,
           -0.03258881352158479,
           0.07035618448230385,
           0.025503660024131836,
           0.05481052878611371,
           -0.0019849422681843475,
           0.06877680605724883,
           -0.0035108385999397577,
           0.043949745692480675,
           -0.0778558940486776
          ],
          [
           -0.012712715387846654,
           0.027850136946706617,
           0.014227651757024678,
           0.572322768962362,
           -0.37598319560698873,
           1,
           0.5928549763436497,
           0.24950319668479937,
           -0.049106831196239806,
           0.14904039195440044,
           0.39145200206609476,
           0.28198585869980175,
           0.01030765958436373,
           -0.18378434437372668,
           0.1990097136764581,
           0.1875985499971459,
           -0.038161805671233694,
           0.4682707871726734,
           0.24265591024106203,
           -0.07065121690473095,
           -0.1748002456149784,
           0.0955891282979514,
           0.1477163994124546,
           0.5378500917111045,
           0.4789538198934912,
           0.22488014230399725,
           0.18868584000173075,
           -0.38726778292807656,
           0.03135451306436335,
           -0.05036443453861163,
           0.00494972761594348,
           -0.03438313873672352,
           0.012398470595442182,
           -0.013617680001842058,
           0.5228973328794967
          ],
          [
           -0.021997641857505437,
           0.0405810447840647,
           0.013788427078154822,
           0.550683924194174,
           0.07374149814528969,
           0.5928549763436497,
           1,
           0.12845054712828968,
           -0.06775851356598678,
           0.18113308705016823,
           0.29106558260416654,
           0.24037926760355563,
           0.14002377880486408,
           -0.0624191000783343,
           0.28738851965033274,
           0.1194698791112425,
           -0.01233703212779989,
           0.43904648387234635,
           0.18333061171853401,
           -0.04058092806774957,
           -0.14959752104274765,
           0.1917398162928071,
           0.11258131843947493,
           0.4206221549432185,
           0.371599809497309,
           0.20572592049010316,
           0.2262976326829877,
           -0.19391914709920693,
           0.04528580981497537,
           -0.03874001074260982,
           0.0058293720371077355,
           -0.010286248783081717,
           0.021490002226876855,
           0.03574324712128322,
           0.5071009671113867
          ],
          [
           -0.0050240490416610575,
           -0.06983574916710103,
           0.21410313070557835,
           0.23966596617889305,
           -0.046230855918224914,
           0.24950319668479937,
           0.12845054712828968,
           1,
           -0.05011740004715191,
           -0.49525146925701485,
           0.5223960519923907,
           0.4458626560920095,
           -0.13707898608005406,
           -0.0645025969214698,
           0.20817113014532806,
           0.6492117535742737,
           0.0674184779101191,
           0.058543136861595575,
           0.004262424384486897,
           -0.10735467682307238,
           -0.08100685077857563,
           0.0443156239129205,
           0.2600109202350418,
           0.22405352239399126,
           0.29697038534451464,
           0.20430614523740545,
           0.11176061335675173,
           -0.10230330550073302,
           0.026450506189898835,
           0.06202062266535013,
           0.14049128625495722,
           0.003571473474954832,
           -0.015726948262154733,
           0.014358922393912487,
           0.38641980624215627
          ],
          [
           -0.005967671960281668,
           -0.06564857918852456,
           0.11116974549624932,
           -0.05911869267069023,
           0.04022916989976808,
           -0.049106831196239806,
           -0.06775851356598678,
           -0.05011740004715191,
           1,
           -0.20929449241994658,
           0.10480953760636849,
           0.09711744845667107,
           -0.09926031602264533,
           0.014806997946834337,
           -0.00963989155180548,
           0.15867806078170232,
           0.07094813365590494,
           -0.07644386196518434,
           -0.032147837468965525,
           -0.015728113626581382,
           -0.040751236448406995,
           -0.035226547947523404,
           0.0469207088260135,
           -0.038263512869251774,
           -0.018226591907316646,
           0.06789832641361276,
           0.0030925622098945888,
           0.03654333944820929,
           -0.029993397993919868,
           0.08887125137339077,
           0.041709054681333034,
           0.0049397812284377755,
           -0.015210737972006717,
           0.03170563698488748,
           -0.011378121450215216
          ],
          [
           -0.007939703357717261,
           -0.14075948083501214,
           -0.0026183599500954335,
           0.30815892690564345,
           -0.1368405698935219,
           0.14904039195440044,
           0.18113308705016823,
           -0.49525146925701485,
           -0.20929449241994658,
           1,
           0.41535960518158943,
           0.3179874383527257,
           0.004469092144542394,
           0.028166688132741903,
           0.24025726834993516,
           -0.4229004773832192,
           -0.09580428815248464,
           0.2888860554869107,
           -0.041117530144551086,
           0.16664331698696383,
           0.030085868314000223,
           0.25064706137624776,
           0.051574882289541504,
           0.21417518975021707,
           0.18330269774258381,
           -0.005316424333062044,
           0.1290054146154213,
           -0.0025378545897515683,
           0.02076400569654775,
           -0.012579273444256776,
           -0.035092240793657865,
           -0.02383664513450834,
           0.03488844300908199,
           -0.041258194938762024,
           0.214479105546969
          ],
          [
           -0.015414566107910999,
           -0.23851840931512,
           0.26083313454515794,
           0.5378084986123927,
           -0.17109751462492115,
           0.39145200206609476,
           0.29106558260416654,
           0.5223960519923907,
           0.10480953760636849,
           0.41535960518158943,
           1,
           0.8195299750050355,
           -0.17451195013495976,
           -0.03324538734745721,
           0.4548682025479028,
           0.30735055373550824,
           -0.00031458181983372096,
           0.32372241360664983,
           -0.048803738635211875,
           0.05044995551267859,
           -0.06890064264201692,
           0.2855725637257923,
           0.3395193238986534,
           0.43458483429168826,
           0.48666546377379655,
           0.23201860912901978,
           0.2472637462881077,
           -0.0954777367064077,
           0.03738372726300451,
           0.08448898591431103,
           0.12605313210083696,
           -0.018478922431472533,
           0.013196178616778513,
           -0.01496864801875107,
           0.6135805515591944
          ],
          [
           0.010496040954083016,
           -0.2517583518783804,
           0.29947457850776354,
           0.4762238290781775,
           -0.1442027840490588,
           0.28198585869980175,
           0.24037926760355563,
           0.4458626560920095,
           0.09711744845667107,
           0.3179874383527257,
           0.8195299750050355,
           1,
           -0.20264618100231988,
           -0.014240672666431465,
           0.5660239689357487,
           0.24467110424771435,
           0.001955653582048776,
           0.38063749497350763,
           -0.11991590879396018,
           0.12740074939236587,
           0.06810058817691354,
           0.40951597886682883,
           0.41053108465984434,
           0.43931680799067063,
           0.4897816541041915,
           0.23545862278369958,
           0.21167122549798492,
           -0.06529170091030902,
           0.05610437448487474,
           0.0887580726201564,
           0.13152497564028195,
           -0.02109571946312286,
           0.031371560352079074,
           -0.013603770504648229,
           0.6058521846919166
          ],
          [
           0.005589848886158616,
           0.30788572075985965,
           0.05098594829349351,
           0.29549287919971035,
           0.028942115965816365,
           0.01030765958436373,
           0.14002377880486408,
           -0.13707898608005406,
           -0.09926031602264533,
           0.004469092144542394,
           -0.17451195013495976,
           -0.20264618100231988,
           1,
           0.06335295010932407,
           0.6875010641666008,
           -0.16949395173100076,
           -0.02385478393704534,
           0.42137798287597156,
           0.6097073002717444,
           0.5029006133459021,
           0.05930575264821606,
           0.6164226354915353,
           0.1945608922413219,
           0.18392558307637655,
           0.1383469585718656,
           0.09216541758603838,
           0.2080260631813553,
           0.061988690773251,
           -0.0243576484220475,
           0.04060644764100074,
           0.08148687804909924,
           0.01619687460438891,
           0.03516442736179051,
           -0.028699913935284663,
           0.31933380283206614
          ],
          [
           -0.04422995808659233,
           0.04647375589951825,
           0.004778969866349652,
           -0.03042928397960494,
           0.025494319914214247,
           -0.18378434437372668,
           -0.0624191000783343,
           -0.0645025969214698,
           0.014806997946834337,
           0.028166688132741903,
           -0.03324538734745721,
           -0.014240672666431465,
           0.06335295010932407,
           1,
           0.13468281300660345,
           -0.04714342189826147,
           -0.005841504819311943,
           -0.0007095096206728,
           -0.02708004931716963,
           0.10560656854090972,
           0.007521744344234544,
           0.1311847759895512,
           -0.0212721434139402,
           -0.09447952015593507,
           -0.06760141323952353,
           -0.025443647988792197,
           0.0182510390539997,
           0.06108123777122828,
           -0.004295610410300117,
           0.026799413021772037,
           0.062157372269196445,
           -0.0037928707799966834,
           -0.02217396057953832,
           -0.028920879782297997,
           -0.02560613000068015
          ],
          [
           0.008272757661810213,
           0.07485317965779979,
           0.26311616716714836,
           0.5930074300286511,
           -0.07968586538833754,
           0.1990097136764581,
           0.28738851965033274,
           0.20817113014532806,
           -0.00963989155180548,
           0.24025726834993516,
           0.4548682025479028,
           0.5660239689357487,
           0.6875010641666008,
           0.13468281300660345,
           1,
           0.0348360495449059,
           -0.018918483170635034,
           0.6300116462511144,
           0.41577163610526024,
           0.5212695109189988,
           0.1000631647377552,
           0.8254893743088377,
           0.46167913376144376,
           0.46724741879518455,
           0.4689974773229643,
           0.24743282051884927,
           0.3302239617119999,
           0.009113210326003124,
           0.0206431897101862,
           0.10151039568208489,
           0.1702053360005609,
           -0.0024156395502937167,
           0.05023968081827258,
           -0.036525819624723004,
           0.7086244776126511
          ],
          [
           0.002288555600833932,
           0.00349102577904494,
           0.1581545310600175,
           0.11109778614230408,
           -0.054941515432952504,
           0.1875985499971459,
           0.1194698791112425,
           0.6492117535742737,
           0.15867806078170232,
           -0.4229004773832192,
           0.30735055373550824,
           0.24467110424771435,
           -0.16949395173100076,
           -0.04714342189826147,
           0.0348360495449059,
           1,
           -0.14787096054760482,
           -0.0645120486313163,
           -0.030904959142533415,
           -0.15067280920796106,
           -0.041502546431483184,
           -0.05327523612339759,
           0.13792770842720137,
           0.13188122440619826,
           0.17918948042023325,
           0.1753151900797277,
           0.067341461376983,
           -0.04991064908375369,
           -0.00010609153998427328,
           0.023147725763573823,
           0.06761555618047593,
           -0.023047024868617455,
           -0.025360894315260153,
           0.06704913767140783,
           0.22712223313149718
          ],
          [
           -0.02015474521553456,
           -0.0023325345518021793,
           0.048045570888297716,
           -0.04015015766998875,
           0.117820915081395,
           -0.038161805671233694,
           -0.01233703212779989,
           0.0674184779101191,
           0.07094813365590494,
           -0.09580428815248464,
           -0.00031458181983372096,
           0.001955653582048776,
           -0.02385478393704534,
           -0.005841504819311943,
           -0.018918483170635034,
           -0.14787096054760482,
           1,
           -0.05453581198363702,
           -0.012339900052275348,
           0.04651884838995185,
           -0.03794435022720132,
           -0.023836341262220805,
           0.028975586646260102,
           -0.02089105899687898,
           -0.024535579578879658,
           0.04016122325953598,
           -0.025323757889057975,
           -0.008555333868578433,
           0.03511363088677233,
           0.03212140720908456,
           0.020024629838516175,
           -0.007366524543625966,
           0.03287270523409076,
           -0.04652388177402218,
           -0.016844154297359294
          ],
          [
           0.005587452907357383,
           0.13160822241028183,
           0.1260306265196434,
           0.5505997093682552,
           -0.19414948874930252,
           0.4682707871726734,
           0.43904648387234635,
           0.058543136861595575,
           -0.07644386196518434,
           0.2888860554869107,
           0.32372241360664983,
           0.38063749497350763,
           0.42137798287597156,
           -0.0007095096206728,
           0.6300116462511144,
           -0.0645120486313163,
           -0.05453581198363702,
           1,
           0.13638058874914522,
           0.3632519830232792,
           0.13311521419603795,
           0.5547842535334817,
           0.24367050307991178,
           0.4696720432676313,
           0.4056562084540095,
           0.18770321383582753,
           0.25997742546825087,
           -0.11509296346134372,
           0.03535301658385324,
           -0.008106093328111913,
           0.04960382558403352,
           -0.01428984497085004,
           0.05587212899172362,
           -0.019668840691523498,
           0.5606637627484452
          ],
          [
           0.006783811284297757,
           0.17735438864391526,
           0.014259468566431727,
           0.27345809864277076,
           -0.06076932676159386,
           0.24265591024106203,
           0.18333061171853401,
           0.004262424384486897,
           -0.032147837468965525,
           -0.041117530144551086,
           -0.048803738635211875,
           -0.11991590879396018,
           0.6097073002717444,
           -0.02708004931716963,
           0.41577163610526024,
           -0.030904959142533415,
           -0.012339900052275348,
           0.13638058874914522,
           1,
           0.22665148415094155,
           -0.06826254889694165,
           0.34341485754091505,
           0.20364850809521526,
           0.2191781521671551,
           0.16354936401660505,
           0.10808030267536159,
           0.1997401475127926,
           -0.0953165257360886,
           -0.004972488417316253,
           0.07242584517037905,
           0.022381498055409857,
           0.0012901448492835638,
           -0.009049888212650297,
           -0.010268668868104026,
           0.2841076755947784
          ],
          [
           0.03771855422321125,
           -0.02343802846062763,
           0.11968990815131679,
           0.10167635624178653,
           0.012980060094550657,
           -0.07065121690473095,
           -0.04058092806774957,
           -0.10735467682307238,
           -0.015728113626581382,
           0.16664331698696383,
           0.05044995551267859,
           0.12740074939236587,
           0.5029006133459021,
           0.10560656854090972,
           0.5212695109189988,
           -0.15067280920796106,
           0.04651884838995185,
           0.3632519830232792,
           0.22665148415094155,
           1,
           0.19859675770713586,
           0.6766199357426479,
           0.10756968099132405,
           0.08610643768835352,
           0.06525252989881658,
           0.04685377306989432,
           0.09380957160591488,
           0.041570434519598465,
           -0.02447779636611465,
           0.04429969112713488,
           0.0707025835654749,
           0.007766971998717766,
           0.04654385993628257,
           -0.03601389283371496,
           0.1682131543007415
          ],
          [
           0.0029512363577246527,
           0.281721040264881,
           -0.017783870504841866,
           -0.18388223454922223,
           -0.08700085543637874,
           -0.1748002456149784,
           -0.14959752104274765,
           -0.08100685077857563,
           -0.040751236448406995,
           0.030085868314000223,
           -0.06890064264201692,
           0.06810058817691354,
           0.05930575264821606,
           0.007521744344234544,
           0.1000631647377552,
           -0.041502546431483184,
           -0.03794435022720132,
           0.13311521419603795,
           -0.06826254889694165,
           0.19859675770713586,
           1,
           0.25604540853594737,
           -0.12393623529689538,
           -0.05063389240221826,
           -0.06443304718314428,
           -0.09013027267903431,
           -0.07009060989258631,
           0.03731238503296977,
           -0.024600358690531933,
           -0.051613366061480426,
           -0.014525116015980933,
           0.062340724004381246,
           0.02658890723091537,
           0.03168720650065513,
           -0.1359073708421417
          ],
          [
           0.027238724409455572,
           0.04038006478367577,
           0.19001477762540772,
           0.42745234327798615,
           -0.05758316611286472,
           0.0955891282979514,
           0.1917398162928071,
           0.0443156239129205,
           -0.035226547947523404,
           0.25064706137624776,
           0.2855725637257923,
           0.40951597886682883,
           0.6164226354915353,
           0.1311847759895512,
           0.8254893743088377,
           -0.05327523612339759,
           -0.023836341262220805,
           0.5547842535334817,
           0.34341485754091505,
           0.6766199357426479,
           0.25604540853594737,
           1,
           0.3261144801771966,
           0.3622885708147703,
           0.33782212063683476,
           0.1659838837149338,
           0.23419158783159674,
           0.004151299023856478,
           -0.006683241010939456,
           0.05938259955941124,
           0.08375734951492322,
           0.024762884163585016,
           0.036907077159844086,
           -0.03451635430217487,
           0.5337231555820238
          ],
          [
           -0.019771632442392516,
           -0.045569340274569284,
           0.2713640096245405,
           0.39676503795208756,
           -0.02381997776166174,
           0.1477163994124546,
           0.11258131843947493,
           0.2600109202350418,
           0.0469207088260135,
           0.051574882289541504,
           0.3395193238986534,
           0.41053108465984434,
           0.1945608922413219,
           -0.0212721434139402,
           0.46167913376144376,
           0.13792770842720137,
           0.028975586646260102,
           0.24367050307991178,
           0.20364850809521526,
           0.10756968099132405,
           -0.12393623529689538,
           0.3261144801771966,
           1,
           0.30078876630134843,
           0.26914123807386986,
           0.20001879575902295,
           0.16940532713120174,
           -0.024821868537068383,
           0.011257238992774685,
           0.1845302695168495,
           0.09507352203619714,
           0.0014086054430456946,
           0.04635710249771935,
           -0.02409556498069903,
           0.4669288367515242
          ],
          [
           0.016569677112146044,
           -0.04010979313578374,
           0.15487073975354074,
           0.6006707165907189,
           -0.1857575105783602,
           0.5378500917111045,
           0.4206221549432185,
           0.22405352239399126,
           -0.038263512869251774,
           0.21417518975021707,
           0.43458483429168826,
           0.43931680799067063,
           0.18392558307637655,
           -0.09447952015593507,
           0.46724741879518455,
           0.13188122440619826,
           -0.02089105899687898,
           0.4696720432676313,
           0.2191781521671551,
           0.08610643768835352,
           -0.05063389240221826,
           0.3622885708147703,
           0.30078876630134843,
           1,
           0.8824754142814603,
           0.22634213846985612,
           0.21356944558969018,
           -0.15143416002683852,
           0.03576528514645337,
           0.0504937919271977,
           0.020933531041465493,
           -0.043080128102231184,
           0.040521730128251617,
           -0.03911690411283574,
           0.640409197258349
          ],
          [
           0.017633778453766888,
           -0.09867154319256446,
           0.18040275515111656,
           0.5620217566126064,
           -0.1515213705702289,
           0.4789538198934912,
           0.371599809497309,
           0.29697038534451464,
           -0.018226591907316646,
           0.18330269774258381,
           0.48666546377379655,
           0.4897816541041915,
           0.1383469585718656,
           -0.06760141323952353,
           0.4689974773229643,
           0.17918948042023325,
           -0.024535579578879658,
           0.4056562084540095,
           0.16354936401660505,
           0.06525252989881658,
           -0.06443304718314428,
           0.33782212063683476,
           0.26914123807386986,
           0.8824754142814603,
           1,
           0.22466630717876454,
           0.24143467213808723,
           -0.12177671956100364,
           0.03508670020815936,
           0.05141176244520807,
           0.0610472717020595,
           -0.02739991441262575,
           0.02797379982354043,
           -0.027377940418558608,
           0.6234314389183598
          ],
          [
           -0.02964319715640263,
           -0.012579358249219704,
           0.17169768725711357,
           0.23892339224919107,
           -0.00333369928938553,
           0.22488014230399725,
           0.20572592049010316,
           0.20430614523740545,
           0.06789832641361276,
           -0.005316424333062044,
           0.23201860912901978,
           0.23545862278369958,
           0.09216541758603838,
           -0.025443647988792197,
           0.24743282051884927,
           0.1753151900797277,
           0.04016122325953598,
           0.18770321383582753,
           0.10808030267536159,
           0.04685377306989432,
           -0.09013027267903431,
           0.1659838837149338,
           0.20001879575902295,
           0.22634213846985612,
           0.22466630717876454,
           1,
           0.05866060856588831,
           -0.12598888803760044,
           -0.03277063359357437,
           -0.07418135123983265,
           0.073378206956454,
           -0.009551228238372386,
           0.021011044294297343,
           0.022270451009255326,
           0.32441344456813076
          ],
          [
           -0.00047691132479109967,
           -0.0061001212319422415,
           0.08477380884021646,
           0.30881882335945265,
           -0.03258881352158479,
           0.18868584000173075,
           0.2262976326829877,
           0.11176061335675173,
           0.0030925622098945888,
           0.1290054146154213,
           0.2472637462881077,
           0.21167122549798492,
           0.2080260631813553,
           0.0182510390539997,
           0.3302239617119999,
           0.067341461376983,
           -0.025323757889057975,
           0.25997742546825087,
           0.1997401475127926,
           0.09380957160591488,
           -0.07009060989258631,
           0.23419158783159674,
           0.16940532713120174,
           0.21356944558969018,
           0.24143467213808723,
           0.05866060856588831,
           1,
           -0.09307931750864905,
           -0.005842499340135787,
           0.0743039438502424,
           0.06076211148992545,
           -0.018583738987649454,
           0.0712548847586891,
           -0.05761936014209498,
           0.31585622711605577
          ],
          [
           0.002889217865750098,
           -0.012036621902094572,
           -0.018339733672212276,
           -0.11393685859568092,
           0.07035618448230385,
           -0.38726778292807656,
           -0.19391914709920693,
           -0.10230330550073302,
           0.03654333944820929,
           -0.0025378545897515683,
           -0.0954777367064077,
           -0.06529170091030902,
           0.061988690773251,
           0.06108123777122828,
           0.009113210326003124,
           -0.04991064908375369,
           -0.008555333868578433,
           -0.11509296346134372,
           -0.0953165257360886,
           0.041570434519598465,
           0.03731238503296977,
           0.004151299023856478,
           -0.024821868537068383,
           -0.15143416002683852,
           -0.12177671956100364,
           -0.12598888803760044,
           -0.09307931750864905,
           1,
           -0.03730528278804631,
           -0.08286424483260406,
           0.0542025622921423,
           0.01836060013944818,
           -0.02888726570714225,
           -0.009915936955525128,
           -0.12857795792595636
          ],
          [
           -0.04663478886742706,
           -0.04382454917560825,
           0.020422829586133177,
           0.03037056713526411,
           0.025503660024131836,
           0.03135451306436335,
           0.04528580981497537,
           0.026450506189898835,
           -0.029993397993919868,
           0.02076400569654775,
           0.03738372726300451,
           0.05610437448487474,
           -0.0243576484220475,
           -0.004295610410300117,
           0.0206431897101862,
           -0.00010609153998427328,
           0.03511363088677233,
           0.03535301658385324,
           -0.004972488417316253,
           -0.02447779636611465,
           -0.024600358690531933,
           -0.006683241010939456,
           0.011257238992774685,
           0.03576528514645337,
           0.03508670020815936,
           -0.03277063359357437,
           -0.005842499340135787,
           -0.03730528278804631,
           1,
           -0.03143584703909499,
           -0.007991548872868624,
           0.00035396527793933553,
           0.029473795249939806,
           0.018644925404743957,
           0.04458366533574792
          ],
          [
           0.0013302086301727792,
           -0.026030176699806493,
           0.043160377695251814,
           0.06488636049351724,
           0.05481052878611371,
           -0.05036443453861163,
           -0.03874001074260982,
           0.06202062266535013,
           0.08887125137339077,
           -0.012579273444256776,
           0.08448898591431103,
           0.0887580726201564,
           0.04060644764100074,
           0.026799413021772037,
           0.10151039568208489,
           0.023147725763573823,
           0.03212140720908456,
           -0.008106093328111913,
           0.07242584517037905,
           0.04429969112713488,
           -0.051613366061480426,
           0.05938259955941124,
           0.1845302695168495,
           0.0504937919271977,
           0.05141176244520807,
           -0.07418135123983265,
           0.0743039438502424,
           -0.08286424483260406,
           -0.03143584703909499,
           1,
           0.05130739451790521,
           0.031945760774908606,
           0.023216991793306135,
           0.010694106003783704,
           0.11144657114291048
          ],
          [
           0.057043904789252,
           0.008282707579624323,
           0.07767239188017415,
           0.06516584360589141,
           -0.0019849422681843475,
           0.00494972761594348,
           0.0058293720371077355,
           0.14049128625495722,
           0.041709054681333034,
           -0.035092240793657865,
           0.12605313210083696,
           0.13152497564028195,
           0.08148687804909924,
           0.062157372269196445,
           0.1702053360005609,
           0.06761555618047593,
           0.020024629838516175,
           0.04960382558403352,
           0.022381498055409857,
           0.0707025835654749,
           -0.014525116015980933,
           0.08375734951492322,
           0.09507352203619714,
           0.020933531041465493,
           0.0610472717020595,
           0.073378206956454,
           0.06076211148992545,
           0.0542025622921423,
           -0.007991548872868624,
           0.05130739451790521,
           1,
           0.02966865085402216,
           -0.033736640262790836,
           -0.05968893167525976,
           0.09240354949187278
          ],
          [
           -0.0062424048483025575,
           -0.007683291329866207,
           0.03806769201918441,
           -0.03140621050074753,
           0.06877680605724883,
           -0.03438313873672352,
           -0.010286248783081717,
           0.003571473474954832,
           0.0049397812284377755,
           -0.02383664513450834,
           -0.018478922431472533,
           -0.02109571946312286,
           0.01619687460438891,
           -0.0037928707799966834,
           -0.0024156395502937167,
           -0.023047024868617455,
           -0.007366524543625966,
           -0.01428984497085004,
           0.0012901448492835638,
           0.007766971998717766,
           0.062340724004381246,
           0.024762884163585016,
           0.0014086054430456946,
           -0.043080128102231184,
           -0.02739991441262575,
           -0.009551228238372386,
           -0.018583738987649454,
           0.01836060013944818,
           0.00035396527793933553,
           0.031945760774908606,
           0.02966865085402216,
           1,
           -0.0064945502212819676,
           0.004906262452666667,
           -0.02118957964030379
          ],
          [
           0.021172176550393426,
           -0.013584643238322446,
           0.0012049882225877388,
           0.07081517178517302,
           -0.0035108385999397577,
           0.012398470595442182,
           0.021490002226876855,
           -0.015726948262154733,
           -0.015210737972006717,
           0.03488844300908199,
           0.013196178616778513,
           0.031371560352079074,
           0.03516442736179051,
           -0.02217396057953832,
           0.05023968081827258,
           -0.025360894315260153,
           0.03287270523409076,
           0.05587212899172362,
           -0.009049888212650297,
           0.04654385993628257,
           0.02658890723091537,
           0.036907077159844086,
           0.04635710249771935,
           0.040521730128251617,
           0.02797379982354043,
           0.021011044294297343,
           0.0712548847586891,
           -0.02888726570714225,
           0.029473795249939806,
           0.023216991793306135,
           -0.033736640262790836,
           -0.0064945502212819676,
           1,
           -0.14572141267538744,
           0.04643224522381936
          ],
          [
           0.0007117940170476534,
           -0.021407037851093803,
           -0.014261407298531923,
           -0.02734670832780769,
           0.043949745692480675,
           -0.013617680001842058,
           0.03574324712128322,
           0.014358922393912487,
           0.03170563698488748,
           -0.041258194938762024,
           -0.01496864801875107,
           -0.013603770504648229,
           -0.028699913935284663,
           -0.028920879782297997,
           -0.036525819624723004,
           0.06704913767140783,
           -0.04652388177402218,
           -0.019668840691523498,
           -0.010268668868104026,
           -0.03601389283371496,
           0.03168720650065513,
           -0.03451635430217487,
           -0.02409556498069903,
           -0.03911690411283574,
           -0.027377940418558608,
           0.022270451009255326,
           -0.05761936014209498,
           -0.009915936955525128,
           0.018644925404743957,
           0.010694106003783704,
           -0.05968893167525976,
           0.004906262452666667,
           -0.14572141267538744,
           1,
           -0.028922585168730426
          ],
          [
           -0.021916719443431112,
           -0.08428413512659523,
           0.2638433538714063,
           0.7909816005838047,
           -0.0778558940486776,
           0.5228973328794967,
           0.5071009671113867,
           0.38641980624215627,
           -0.011378121450215216,
           0.214479105546969,
           0.6135805515591944,
           0.6058521846919166,
           0.31933380283206614,
           -0.02560613000068015,
           0.7086244776126511,
           0.22712223313149718,
           -0.016844154297359294,
           0.5606637627484452,
           0.2841076755947784,
           0.1682131543007415,
           -0.1359073708421417,
           0.5337231555820238,
           0.4669288367515242,
           0.640409197258349,
           0.6234314389183598,
           0.32441344456813076,
           0.31585622711605577,
           -0.12857795792595636,
           0.04458366533574792,
           0.11144657114291048,
           0.09240354949187278,
           -0.02118957964030379,
           0.04643224522381936,
           -0.028922585168730426,
           1
          ]
         ]
        }
       ],
       "layout": {}
      },
      "text/html": [
       "<div id=\"80cb5959-2dc2-4598-afeb-956ecd4c8465\" style=\"height: 525px; width: 100%;\" class=\"plotly-graph-div\"></div><script type=\"text/javascript\">require([\"plotly\"], function(Plotly) { window.PLOTLYENV=window.PLOTLYENV || {};window.PLOTLYENV.BASE_URL=\"https://plot.ly\";\n",
       "if (document.getElementById(\"80cb5959-2dc2-4598-afeb-956ecd4c8465\")) {\n",
       "    Plotly.newPlot(\"80cb5959-2dc2-4598-afeb-956ecd4c8465\", [{\"z\": [[1.0, 0.011156478201382672, -0.03322551858568492, -0.028364753937537245, 0.012608924775951698, -0.012712715387846654, -0.021997641857505437, -0.0050240490416610575, -0.005967671960281668, -0.007939703357717261, -0.015414566107910999, 0.010496040954083016, 0.005589848886158616, -0.04422995808659233, 0.008272757661810213, 0.002288555600833932, -0.02015474521553456, 0.005587452907357383, 0.006783811284297757, 0.03771855422321125, 0.0029512363577246527, 0.027238724409455572, -0.019771632442392516, 0.016569677112146044, 0.017633778453766888, -0.02964319715640263, -0.00047691132479109967, 0.002889217865750098, -0.04663478886742706, 0.0013302086301727792, 0.057043904789252, -0.0062424048483025575, 0.021172176550393426, 0.0007117940170476534, -0.021916719443431112], [0.011156478201382672, 1.0, -0.13978108172014636, 0.032627707521842186, -0.05931581708410461, 0.027850136946706617, 0.0405810447840647, -0.06983574916710103, -0.06564857918852456, -0.14075948083501214, -0.23851840931512, -0.2517583518783804, 0.30788572075985965, 0.04647375589951825, 0.07485317965779979, 0.00349102577904494, -0.0023325345518021793, 0.13160822241028183, 0.17735438864391526, -0.02343802846062763, 0.281721040264881, 0.04038006478367577, -0.045569340274569284, -0.04010979313578374, -0.09867154319256446, -0.012579358249219704, -0.0061001212319422415, -0.012036621902094572, -0.04382454917560825, -0.026030176699806493, 0.008282707579624323, -0.007683291329866207, -0.013584643238322446, -0.021407037851093803, -0.08428413512659523], [-0.03322551858568492, -0.13978108172014636, 1.0, 0.10580574175496442, -0.005636270274099174, 0.014227651757024678, 0.013788427078154822, 0.21410313070557835, 0.11116974549624932, -0.0026183599500954335, 0.26083313454515794, 0.29947457850776354, 0.05098594829349351, 0.004778969866349652, 0.26311616716714836, 0.1581545310600175, 0.048045570888297716, 0.1260306265196434, 0.014259468566431727, 0.11968990815131679, -0.017783870504841866, 0.19001477762540772, 0.2713640096245405, 0.15487073975354074, 0.18040275515111656, 0.17169768725711357, 0.08477380884021646, -0.018339733672212276, 0.020422829586133177, 0.043160377695251814, 0.07767239188017415, 0.03806769201918441, 0.0012049882225877388, -0.014261407298531923, 0.2638433538714063], [-0.028364753937537245, 0.032627707521842186, 0.10580574175496442, 1.0, -0.09193234263907184, 0.572322768962362, 0.550683924194174, 0.23966596617889305, -0.05911869267069023, 0.30815892690564345, 0.5378084986123927, 0.4762238290781775, 0.29549287919971035, -0.03042928397960494, 0.5930074300286511, 0.11109778614230408, -0.04015015766998875, 0.5505997093682552, 0.27345809864277076, 0.10167635624178653, -0.18388223454922223, 0.42745234327798615, 0.39676503795208756, 0.6006707165907189, 0.5620217566126064, 0.23892339224919107, 0.30881882335945265, -0.11393685859568092, 0.03037056713526411, 0.06488636049351724, 0.06516584360589141, -0.03140621050074753, 0.07081517178517302, -0.02734670832780769, 0.7909816005838047], [0.012608924775951698, -0.05931581708410461, -0.005636270274099174, -0.09193234263907184, 1.0, -0.37598319560698873, 0.07374149814528969, -0.046230855918224914, 0.04022916989976808, -0.1368405698935219, -0.17109751462492115, -0.1442027840490588, 0.028942115965816365, 0.025494319914214247, -0.07968586538833754, -0.054941515432952504, 0.117820915081395, -0.19414948874930252, -0.06076932676159386, 0.012980060094550657, -0.08700085543637874, -0.05758316611286472, -0.02381997776166174, -0.1857575105783602, -0.1515213705702289, -0.00333369928938553, -0.03258881352158479, 0.07035618448230385, 0.025503660024131836, 0.05481052878611371, -0.0019849422681843475, 0.06877680605724883, -0.0035108385999397577, 0.043949745692480675, -0.0778558940486776], [-0.012712715387846654, 0.027850136946706617, 0.014227651757024678, 0.572322768962362, -0.37598319560698873, 1.0, 0.5928549763436497, 0.24950319668479937, -0.049106831196239806, 0.14904039195440044, 0.39145200206609476, 0.28198585869980175, 0.01030765958436373, -0.18378434437372668, 0.1990097136764581, 0.1875985499971459, -0.038161805671233694, 0.4682707871726734, 0.24265591024106203, -0.07065121690473095, -0.1748002456149784, 0.0955891282979514, 0.1477163994124546, 0.5378500917111045, 0.4789538198934912, 0.22488014230399725, 0.18868584000173075, -0.38726778292807656, 0.03135451306436335, -0.05036443453861163, 0.00494972761594348, -0.03438313873672352, 0.012398470595442182, -0.013617680001842058, 0.5228973328794967], [-0.021997641857505437, 0.0405810447840647, 0.013788427078154822, 0.550683924194174, 0.07374149814528969, 0.5928549763436497, 1.0, 0.12845054712828968, -0.06775851356598678, 0.18113308705016823, 0.29106558260416654, 0.24037926760355563, 0.14002377880486408, -0.0624191000783343, 0.28738851965033274, 0.1194698791112425, -0.01233703212779989, 0.43904648387234635, 0.18333061171853401, -0.04058092806774957, -0.14959752104274765, 0.1917398162928071, 0.11258131843947493, 0.4206221549432185, 0.371599809497309, 0.20572592049010316, 0.2262976326829877, -0.19391914709920693, 0.04528580981497537, -0.03874001074260982, 0.0058293720371077355, -0.010286248783081717, 0.021490002226876855, 0.03574324712128322, 0.5071009671113867], [-0.0050240490416610575, -0.06983574916710103, 0.21410313070557835, 0.23966596617889305, -0.046230855918224914, 0.24950319668479937, 0.12845054712828968, 1.0, -0.05011740004715191, -0.49525146925701485, 0.5223960519923907, 0.4458626560920095, -0.13707898608005406, -0.0645025969214698, 0.20817113014532806, 0.6492117535742737, 0.0674184779101191, 0.058543136861595575, 0.004262424384486897, -0.10735467682307238, -0.08100685077857563, 0.0443156239129205, 0.2600109202350418, 0.22405352239399126, 0.29697038534451464, 0.20430614523740545, 0.11176061335675173, -0.10230330550073302, 0.026450506189898835, 0.06202062266535013, 0.14049128625495722, 0.003571473474954832, -0.015726948262154733, 0.014358922393912487, 0.38641980624215627], [-0.005967671960281668, -0.06564857918852456, 0.11116974549624932, -0.05911869267069023, 0.04022916989976808, -0.049106831196239806, -0.06775851356598678, -0.05011740004715191, 1.0, -0.20929449241994658, 0.10480953760636849, 0.09711744845667107, -0.09926031602264533, 0.014806997946834337, -0.00963989155180548, 0.15867806078170232, 0.07094813365590494, -0.07644386196518434, -0.032147837468965525, -0.015728113626581382, -0.040751236448406995, -0.035226547947523404, 0.0469207088260135, -0.038263512869251774, -0.018226591907316646, 0.06789832641361276, 0.0030925622098945888, 0.03654333944820929, -0.029993397993919868, 0.08887125137339077, 0.041709054681333034, 0.0049397812284377755, -0.015210737972006717, 0.03170563698488748, -0.011378121450215216], [-0.007939703357717261, -0.14075948083501214, -0.0026183599500954335, 0.30815892690564345, -0.1368405698935219, 0.14904039195440044, 0.18113308705016823, -0.49525146925701485, -0.20929449241994658, 1.0, 0.41535960518158943, 0.3179874383527257, 0.004469092144542394, 0.028166688132741903, 0.24025726834993516, -0.4229004773832192, -0.09580428815248464, 0.2888860554869107, -0.041117530144551086, 0.16664331698696383, 0.030085868314000223, 0.25064706137624776, 0.051574882289541504, 0.21417518975021707, 0.18330269774258381, -0.005316424333062044, 0.1290054146154213, -0.0025378545897515683, 0.02076400569654775, -0.012579273444256776, -0.035092240793657865, -0.02383664513450834, 0.03488844300908199, -0.041258194938762024, 0.214479105546969], [-0.015414566107910999, -0.23851840931512, 0.26083313454515794, 0.5378084986123927, -0.17109751462492115, 0.39145200206609476, 0.29106558260416654, 0.5223960519923907, 0.10480953760636849, 0.41535960518158943, 1.0, 0.8195299750050355, -0.17451195013495976, -0.03324538734745721, 0.4548682025479028, 0.30735055373550824, -0.00031458181983372096, 0.32372241360664983, -0.048803738635211875, 0.05044995551267859, -0.06890064264201692, 0.2855725637257923, 0.3395193238986534, 0.43458483429168826, 0.48666546377379655, 0.23201860912901978, 0.2472637462881077, -0.0954777367064077, 0.03738372726300451, 0.08448898591431103, 0.12605313210083696, -0.018478922431472533, 0.013196178616778513, -0.01496864801875107, 0.6135805515591944], [0.010496040954083016, -0.2517583518783804, 0.29947457850776354, 0.4762238290781775, -0.1442027840490588, 0.28198585869980175, 0.24037926760355563, 0.4458626560920095, 0.09711744845667107, 0.3179874383527257, 0.8195299750050355, 1.0, -0.20264618100231988, -0.014240672666431465, 0.5660239689357487, 0.24467110424771435, 0.001955653582048776, 0.38063749497350763, -0.11991590879396018, 0.12740074939236587, 0.06810058817691354, 0.40951597886682883, 0.41053108465984434, 0.43931680799067063, 0.4897816541041915, 0.23545862278369958, 0.21167122549798492, -0.06529170091030902, 0.05610437448487474, 0.0887580726201564, 0.13152497564028195, -0.02109571946312286, 0.031371560352079074, -0.013603770504648229, 0.6058521846919166], [0.005589848886158616, 0.30788572075985965, 0.05098594829349351, 0.29549287919971035, 0.028942115965816365, 0.01030765958436373, 0.14002377880486408, -0.13707898608005406, -0.09926031602264533, 0.004469092144542394, -0.17451195013495976, -0.20264618100231988, 1.0, 0.06335295010932407, 0.6875010641666008, -0.16949395173100076, -0.02385478393704534, 0.42137798287597156, 0.6097073002717444, 0.5029006133459021, 0.05930575264821606, 0.6164226354915353, 0.1945608922413219, 0.18392558307637655, 0.1383469585718656, 0.09216541758603838, 0.2080260631813553, 0.061988690773251, -0.0243576484220475, 0.04060644764100074, 0.08148687804909924, 0.01619687460438891, 0.03516442736179051, -0.028699913935284663, 0.31933380283206614], [-0.04422995808659233, 0.04647375589951825, 0.004778969866349652, -0.03042928397960494, 0.025494319914214247, -0.18378434437372668, -0.0624191000783343, -0.0645025969214698, 0.014806997946834337, 0.028166688132741903, -0.03324538734745721, -0.014240672666431465, 0.06335295010932407, 1.0, 0.13468281300660345, -0.04714342189826147, -0.005841504819311943, -0.0007095096206728, -0.02708004931716963, 0.10560656854090972, 0.007521744344234544, 0.1311847759895512, -0.0212721434139402, -0.09447952015593507, -0.06760141323952353, -0.025443647988792197, 0.0182510390539997, 0.06108123777122828, -0.004295610410300117, 0.026799413021772037, 0.062157372269196445, -0.0037928707799966834, -0.02217396057953832, -0.028920879782297997, -0.02560613000068015], [0.008272757661810213, 0.07485317965779979, 0.26311616716714836, 0.5930074300286511, -0.07968586538833754, 0.1990097136764581, 0.28738851965033274, 0.20817113014532806, -0.00963989155180548, 0.24025726834993516, 0.4548682025479028, 0.5660239689357487, 0.6875010641666008, 0.13468281300660345, 1.0, 0.0348360495449059, -0.018918483170635034, 0.6300116462511144, 0.41577163610526024, 0.5212695109189988, 0.1000631647377552, 0.8254893743088377, 0.46167913376144376, 0.46724741879518455, 0.4689974773229643, 0.24743282051884927, 0.3302239617119999, 0.009113210326003124, 0.0206431897101862, 0.10151039568208489, 0.1702053360005609, -0.0024156395502937167, 0.05023968081827258, -0.036525819624723004, 0.7086244776126511], [0.002288555600833932, 0.00349102577904494, 0.1581545310600175, 0.11109778614230408, -0.054941515432952504, 0.1875985499971459, 0.1194698791112425, 0.6492117535742737, 0.15867806078170232, -0.4229004773832192, 0.30735055373550824, 0.24467110424771435, -0.16949395173100076, -0.04714342189826147, 0.0348360495449059, 1.0, -0.14787096054760482, -0.0645120486313163, -0.030904959142533415, -0.15067280920796106, -0.041502546431483184, -0.05327523612339759, 0.13792770842720137, 0.13188122440619826, 0.17918948042023325, 0.1753151900797277, 0.067341461376983, -0.04991064908375369, -0.00010609153998427328, 0.023147725763573823, 0.06761555618047593, -0.023047024868617455, -0.025360894315260153, 0.06704913767140783, 0.22712223313149718], [-0.02015474521553456, -0.0023325345518021793, 0.048045570888297716, -0.04015015766998875, 0.117820915081395, -0.038161805671233694, -0.01233703212779989, 0.0674184779101191, 0.07094813365590494, -0.09580428815248464, -0.00031458181983372096, 0.001955653582048776, -0.02385478393704534, -0.005841504819311943, -0.018918483170635034, -0.14787096054760482, 1.0, -0.05453581198363702, -0.012339900052275348, 0.04651884838995185, -0.03794435022720132, -0.023836341262220805, 0.028975586646260102, -0.02089105899687898, -0.024535579578879658, 0.04016122325953598, -0.025323757889057975, -0.008555333868578433, 0.03511363088677233, 0.03212140720908456, 0.020024629838516175, -0.007366524543625966, 0.03287270523409076, -0.04652388177402218, -0.016844154297359294], [0.005587452907357383, 0.13160822241028183, 0.1260306265196434, 0.5505997093682552, -0.19414948874930252, 0.4682707871726734, 0.43904648387234635, 0.058543136861595575, -0.07644386196518434, 0.2888860554869107, 0.32372241360664983, 0.38063749497350763, 0.42137798287597156, -0.0007095096206728, 0.6300116462511144, -0.0645120486313163, -0.05453581198363702, 1.0, 0.13638058874914522, 0.3632519830232792, 0.13311521419603795, 0.5547842535334817, 0.24367050307991178, 0.4696720432676313, 0.4056562084540095, 0.18770321383582753, 0.25997742546825087, -0.11509296346134372, 0.03535301658385324, -0.008106093328111913, 0.04960382558403352, -0.01428984497085004, 0.05587212899172362, -0.019668840691523498, 0.5606637627484452], [0.006783811284297757, 0.17735438864391526, 0.014259468566431727, 0.27345809864277076, -0.06076932676159386, 0.24265591024106203, 0.18333061171853401, 0.004262424384486897, -0.032147837468965525, -0.041117530144551086, -0.048803738635211875, -0.11991590879396018, 0.6097073002717444, -0.02708004931716963, 0.41577163610526024, -0.030904959142533415, -0.012339900052275348, 0.13638058874914522, 1.0, 0.22665148415094155, -0.06826254889694165, 0.34341485754091505, 0.20364850809521526, 0.2191781521671551, 0.16354936401660505, 0.10808030267536159, 0.1997401475127926, -0.0953165257360886, -0.004972488417316253, 0.07242584517037905, 0.022381498055409857, 0.0012901448492835638, -0.009049888212650297, -0.010268668868104026, 0.2841076755947784], [0.03771855422321125, -0.02343802846062763, 0.11968990815131679, 0.10167635624178653, 0.012980060094550657, -0.07065121690473095, -0.04058092806774957, -0.10735467682307238, -0.015728113626581382, 0.16664331698696383, 0.05044995551267859, 0.12740074939236587, 0.5029006133459021, 0.10560656854090972, 0.5212695109189988, -0.15067280920796106, 0.04651884838995185, 0.3632519830232792, 0.22665148415094155, 1.0, 0.19859675770713586, 0.6766199357426479, 0.10756968099132405, 0.08610643768835352, 0.06525252989881658, 0.04685377306989432, 0.09380957160591488, 0.041570434519598465, -0.02447779636611465, 0.04429969112713488, 0.0707025835654749, 0.007766971998717766, 0.04654385993628257, -0.03601389283371496, 0.1682131543007415], [0.0029512363577246527, 0.281721040264881, -0.017783870504841866, -0.18388223454922223, -0.08700085543637874, -0.1748002456149784, -0.14959752104274765, -0.08100685077857563, -0.040751236448406995, 0.030085868314000223, -0.06890064264201692, 0.06810058817691354, 0.05930575264821606, 0.007521744344234544, 0.1000631647377552, -0.041502546431483184, -0.03794435022720132, 0.13311521419603795, -0.06826254889694165, 0.19859675770713586, 1.0, 0.25604540853594737, -0.12393623529689538, -0.05063389240221826, -0.06443304718314428, -0.09013027267903431, -0.07009060989258631, 0.03731238503296977, -0.024600358690531933, -0.051613366061480426, -0.014525116015980933, 0.062340724004381246, 0.02658890723091537, 0.03168720650065513, -0.1359073708421417], [0.027238724409455572, 0.04038006478367577, 0.19001477762540772, 0.42745234327798615, -0.05758316611286472, 0.0955891282979514, 0.1917398162928071, 0.0443156239129205, -0.035226547947523404, 0.25064706137624776, 0.2855725637257923, 0.40951597886682883, 0.6164226354915353, 0.1311847759895512, 0.8254893743088377, -0.05327523612339759, -0.023836341262220805, 0.5547842535334817, 0.34341485754091505, 0.6766199357426479, 0.25604540853594737, 1.0, 0.3261144801771966, 0.3622885708147703, 0.33782212063683476, 0.1659838837149338, 0.23419158783159674, 0.004151299023856478, -0.006683241010939456, 0.05938259955941124, 0.08375734951492322, 0.024762884163585016, 0.036907077159844086, -0.03451635430217487, 0.5337231555820238], [-0.019771632442392516, -0.045569340274569284, 0.2713640096245405, 0.39676503795208756, -0.02381997776166174, 0.1477163994124546, 0.11258131843947493, 0.2600109202350418, 0.0469207088260135, 0.051574882289541504, 0.3395193238986534, 0.41053108465984434, 0.1945608922413219, -0.0212721434139402, 0.46167913376144376, 0.13792770842720137, 0.028975586646260102, 0.24367050307991178, 0.20364850809521526, 0.10756968099132405, -0.12393623529689538, 0.3261144801771966, 1.0, 0.30078876630134843, 0.26914123807386986, 0.20001879575902295, 0.16940532713120174, -0.024821868537068383, 0.011257238992774685, 0.1845302695168495, 0.09507352203619714, 0.0014086054430456946, 0.04635710249771935, -0.02409556498069903, 0.4669288367515242], [0.016569677112146044, -0.04010979313578374, 0.15487073975354074, 0.6006707165907189, -0.1857575105783602, 0.5378500917111045, 0.4206221549432185, 0.22405352239399126, -0.038263512869251774, 0.21417518975021707, 0.43458483429168826, 0.43931680799067063, 0.18392558307637655, -0.09447952015593507, 0.46724741879518455, 0.13188122440619826, -0.02089105899687898, 0.4696720432676313, 0.2191781521671551, 0.08610643768835352, -0.05063389240221826, 0.3622885708147703, 0.30078876630134843, 1.0, 0.8824754142814603, 0.22634213846985612, 0.21356944558969018, -0.15143416002683852, 0.03576528514645337, 0.0504937919271977, 0.020933531041465493, -0.043080128102231184, 0.040521730128251617, -0.03911690411283574, 0.640409197258349], [0.017633778453766888, -0.09867154319256446, 0.18040275515111656, 0.5620217566126064, -0.1515213705702289, 0.4789538198934912, 0.371599809497309, 0.29697038534451464, -0.018226591907316646, 0.18330269774258381, 0.48666546377379655, 0.4897816541041915, 0.1383469585718656, -0.06760141323952353, 0.4689974773229643, 0.17918948042023325, -0.024535579578879658, 0.4056562084540095, 0.16354936401660505, 0.06525252989881658, -0.06443304718314428, 0.33782212063683476, 0.26914123807386986, 0.8824754142814603, 1.0, 0.22466630717876454, 0.24143467213808723, -0.12177671956100364, 0.03508670020815936, 0.05141176244520807, 0.0610472717020595, -0.02739991441262575, 0.02797379982354043, -0.027377940418558608, 0.6234314389183598], [-0.02964319715640263, -0.012579358249219704, 0.17169768725711357, 0.23892339224919107, -0.00333369928938553, 0.22488014230399725, 0.20572592049010316, 0.20430614523740545, 0.06789832641361276, -0.005316424333062044, 0.23201860912901978, 0.23545862278369958, 0.09216541758603838, -0.025443647988792197, 0.24743282051884927, 0.1753151900797277, 0.04016122325953598, 0.18770321383582753, 0.10808030267536159, 0.04685377306989432, -0.09013027267903431, 0.1659838837149338, 0.20001879575902295, 0.22634213846985612, 0.22466630717876454, 1.0, 0.05866060856588831, -0.12598888803760044, -0.03277063359357437, -0.07418135123983265, 0.073378206956454, -0.009551228238372386, 0.021011044294297343, 0.022270451009255326, 0.32441344456813076], [-0.00047691132479109967, -0.0061001212319422415, 0.08477380884021646, 0.30881882335945265, -0.03258881352158479, 0.18868584000173075, 0.2262976326829877, 0.11176061335675173, 0.0030925622098945888, 0.1290054146154213, 0.2472637462881077, 0.21167122549798492, 0.2080260631813553, 0.0182510390539997, 0.3302239617119999, 0.067341461376983, -0.025323757889057975, 0.25997742546825087, 0.1997401475127926, 0.09380957160591488, -0.07009060989258631, 0.23419158783159674, 0.16940532713120174, 0.21356944558969018, 0.24143467213808723, 0.05866060856588831, 1.0, -0.09307931750864905, -0.005842499340135787, 0.0743039438502424, 0.06076211148992545, -0.018583738987649454, 0.0712548847586891, -0.05761936014209498, 0.31585622711605577], [0.002889217865750098, -0.012036621902094572, -0.018339733672212276, -0.11393685859568092, 0.07035618448230385, -0.38726778292807656, -0.19391914709920693, -0.10230330550073302, 0.03654333944820929, -0.0025378545897515683, -0.0954777367064077, -0.06529170091030902, 0.061988690773251, 0.06108123777122828, 0.009113210326003124, -0.04991064908375369, -0.008555333868578433, -0.11509296346134372, -0.0953165257360886, 0.041570434519598465, 0.03731238503296977, 0.004151299023856478, -0.024821868537068383, -0.15143416002683852, -0.12177671956100364, -0.12598888803760044, -0.09307931750864905, 1.0, -0.03730528278804631, -0.08286424483260406, 0.0542025622921423, 0.01836060013944818, -0.02888726570714225, -0.009915936955525128, -0.12857795792595636], [-0.04663478886742706, -0.04382454917560825, 0.020422829586133177, 0.03037056713526411, 0.025503660024131836, 0.03135451306436335, 0.04528580981497537, 0.026450506189898835, -0.029993397993919868, 0.02076400569654775, 0.03738372726300451, 0.05610437448487474, -0.0243576484220475, -0.004295610410300117, 0.0206431897101862, -0.00010609153998427328, 0.03511363088677233, 0.03535301658385324, -0.004972488417316253, -0.02447779636611465, -0.024600358690531933, -0.006683241010939456, 0.011257238992774685, 0.03576528514645337, 0.03508670020815936, -0.03277063359357437, -0.005842499340135787, -0.03730528278804631, 1.0, -0.03143584703909499, -0.007991548872868624, 0.00035396527793933553, 0.029473795249939806, 0.018644925404743957, 0.04458366533574792], [0.0013302086301727792, -0.026030176699806493, 0.043160377695251814, 0.06488636049351724, 0.05481052878611371, -0.05036443453861163, -0.03874001074260982, 0.06202062266535013, 0.08887125137339077, -0.012579273444256776, 0.08448898591431103, 0.0887580726201564, 0.04060644764100074, 0.026799413021772037, 0.10151039568208489, 0.023147725763573823, 0.03212140720908456, -0.008106093328111913, 0.07242584517037905, 0.04429969112713488, -0.051613366061480426, 0.05938259955941124, 0.1845302695168495, 0.0504937919271977, 0.05141176244520807, -0.07418135123983265, 0.0743039438502424, -0.08286424483260406, -0.03143584703909499, 1.0, 0.05130739451790521, 0.031945760774908606, 0.023216991793306135, 0.010694106003783704, 0.11144657114291048], [0.057043904789252, 0.008282707579624323, 0.07767239188017415, 0.06516584360589141, -0.0019849422681843475, 0.00494972761594348, 0.0058293720371077355, 0.14049128625495722, 0.041709054681333034, -0.035092240793657865, 0.12605313210083696, 0.13152497564028195, 0.08148687804909924, 0.062157372269196445, 0.1702053360005609, 0.06761555618047593, 0.020024629838516175, 0.04960382558403352, 0.022381498055409857, 0.0707025835654749, -0.014525116015980933, 0.08375734951492322, 0.09507352203619714, 0.020933531041465493, 0.0610472717020595, 0.073378206956454, 0.06076211148992545, 0.0542025622921423, -0.007991548872868624, 0.05130739451790521, 1.0, 0.02966865085402216, -0.033736640262790836, -0.05968893167525976, 0.09240354949187278], [-0.0062424048483025575, -0.007683291329866207, 0.03806769201918441, -0.03140621050074753, 0.06877680605724883, -0.03438313873672352, -0.010286248783081717, 0.003571473474954832, 0.0049397812284377755, -0.02383664513450834, -0.018478922431472533, -0.02109571946312286, 0.01619687460438891, -0.0037928707799966834, -0.0024156395502937167, -0.023047024868617455, -0.007366524543625966, -0.01428984497085004, 0.0012901448492835638, 0.007766971998717766, 0.062340724004381246, 0.024762884163585016, 0.0014086054430456946, -0.043080128102231184, -0.02739991441262575, -0.009551228238372386, -0.018583738987649454, 0.01836060013944818, 0.00035396527793933553, 0.031945760774908606, 0.02966865085402216, 1.0, -0.0064945502212819676, 0.004906262452666667, -0.02118957964030379], [0.021172176550393426, -0.013584643238322446, 0.0012049882225877388, 0.07081517178517302, -0.0035108385999397577, 0.012398470595442182, 0.021490002226876855, -0.015726948262154733, -0.015210737972006717, 0.03488844300908199, 0.013196178616778513, 0.031371560352079074, 0.03516442736179051, -0.02217396057953832, 0.05023968081827258, -0.025360894315260153, 0.03287270523409076, 0.05587212899172362, -0.009049888212650297, 0.04654385993628257, 0.02658890723091537, 0.036907077159844086, 0.04635710249771935, 0.040521730128251617, 0.02797379982354043, 0.021011044294297343, 0.0712548847586891, -0.02888726570714225, 0.029473795249939806, 0.023216991793306135, -0.033736640262790836, -0.0064945502212819676, 1.0, -0.14572141267538744, 0.04643224522381936], [0.0007117940170476534, -0.021407037851093803, -0.014261407298531923, -0.02734670832780769, 0.043949745692480675, -0.013617680001842058, 0.03574324712128322, 0.014358922393912487, 0.03170563698488748, -0.041258194938762024, -0.01496864801875107, -0.013603770504648229, -0.028699913935284663, -0.028920879782297997, -0.036525819624723004, 0.06704913767140783, -0.04652388177402218, -0.019668840691523498, -0.010268668868104026, -0.03601389283371496, 0.03168720650065513, -0.03451635430217487, -0.02409556498069903, -0.03911690411283574, -0.027377940418558608, 0.022270451009255326, -0.05761936014209498, -0.009915936955525128, 0.018644925404743957, 0.010694106003783704, -0.05968893167525976, 0.004906262452666667, -0.14572141267538744, 1.0, -0.028922585168730426], [-0.021916719443431112, -0.08428413512659523, 0.2638433538714063, 0.7909816005838047, -0.0778558940486776, 0.5228973328794967, 0.5071009671113867, 0.38641980624215627, -0.011378121450215216, 0.214479105546969, 0.6135805515591944, 0.6058521846919166, 0.31933380283206614, -0.02560613000068015, 0.7086244776126511, 0.22712223313149718, -0.016844154297359294, 0.5606637627484452, 0.2841076755947784, 0.1682131543007415, -0.1359073708421417, 0.5337231555820238, 0.4669288367515242, 0.640409197258349, 0.6234314389183598, 0.32441344456813076, 0.31585622711605577, -0.12857795792595636, 0.04458366533574792, 0.11144657114291048, 0.09240354949187278, -0.02118957964030379, 0.04643224522381936, -0.028922585168730426, 1.0]], \"type\": \"heatmap\", \"uid\": \"5a9081b3-4060-42ca-97ab-a79c25e19ad2\"}], {}, {\"showLink\": false, \"linkText\": \"Export to plot.ly\", \"plotlyServerURL\": \"https://plot.ly\"}); \n",
       "}\n",
       "});</script><script type=\"text/javascript\">window.addEventListener(\"resize\", function(){if (document.getElementById(\"80cb5959-2dc2-4598-afeb-956ecd4c8465\")) {window._Plotly.Plots.resize(document.getElementById(\"80cb5959-2dc2-4598-afeb-956ecd4c8465\"));};})</script>"
      ],
      "text/vnd.plotly.v1+html": [
       "<div id=\"80cb5959-2dc2-4598-afeb-956ecd4c8465\" style=\"height: 525px; width: 100%;\" class=\"plotly-graph-div\"></div><script type=\"text/javascript\">require([\"plotly\"], function(Plotly) { window.PLOTLYENV=window.PLOTLYENV || {};window.PLOTLYENV.BASE_URL=\"https://plot.ly\";\n",
       "if (document.getElementById(\"80cb5959-2dc2-4598-afeb-956ecd4c8465\")) {\n",
       "    Plotly.newPlot(\"80cb5959-2dc2-4598-afeb-956ecd4c8465\", [{\"z\": [[1.0, 0.011156478201382672, -0.03322551858568492, -0.028364753937537245, 0.012608924775951698, -0.012712715387846654, -0.021997641857505437, -0.0050240490416610575, -0.005967671960281668, -0.007939703357717261, -0.015414566107910999, 0.010496040954083016, 0.005589848886158616, -0.04422995808659233, 0.008272757661810213, 0.002288555600833932, -0.02015474521553456, 0.005587452907357383, 0.006783811284297757, 0.03771855422321125, 0.0029512363577246527, 0.027238724409455572, -0.019771632442392516, 0.016569677112146044, 0.017633778453766888, -0.02964319715640263, -0.00047691132479109967, 0.002889217865750098, -0.04663478886742706, 0.0013302086301727792, 0.057043904789252, -0.0062424048483025575, 0.021172176550393426, 0.0007117940170476534, -0.021916719443431112], [0.011156478201382672, 1.0, -0.13978108172014636, 0.032627707521842186, -0.05931581708410461, 0.027850136946706617, 0.0405810447840647, -0.06983574916710103, -0.06564857918852456, -0.14075948083501214, -0.23851840931512, -0.2517583518783804, 0.30788572075985965, 0.04647375589951825, 0.07485317965779979, 0.00349102577904494, -0.0023325345518021793, 0.13160822241028183, 0.17735438864391526, -0.02343802846062763, 0.281721040264881, 0.04038006478367577, -0.045569340274569284, -0.04010979313578374, -0.09867154319256446, -0.012579358249219704, -0.0061001212319422415, -0.012036621902094572, -0.04382454917560825, -0.026030176699806493, 0.008282707579624323, -0.007683291329866207, -0.013584643238322446, -0.021407037851093803, -0.08428413512659523], [-0.03322551858568492, -0.13978108172014636, 1.0, 0.10580574175496442, -0.005636270274099174, 0.014227651757024678, 0.013788427078154822, 0.21410313070557835, 0.11116974549624932, -0.0026183599500954335, 0.26083313454515794, 0.29947457850776354, 0.05098594829349351, 0.004778969866349652, 0.26311616716714836, 0.1581545310600175, 0.048045570888297716, 0.1260306265196434, 0.014259468566431727, 0.11968990815131679, -0.017783870504841866, 0.19001477762540772, 0.2713640096245405, 0.15487073975354074, 0.18040275515111656, 0.17169768725711357, 0.08477380884021646, -0.018339733672212276, 0.020422829586133177, 0.043160377695251814, 0.07767239188017415, 0.03806769201918441, 0.0012049882225877388, -0.014261407298531923, 0.2638433538714063], [-0.028364753937537245, 0.032627707521842186, 0.10580574175496442, 1.0, -0.09193234263907184, 0.572322768962362, 0.550683924194174, 0.23966596617889305, -0.05911869267069023, 0.30815892690564345, 0.5378084986123927, 0.4762238290781775, 0.29549287919971035, -0.03042928397960494, 0.5930074300286511, 0.11109778614230408, -0.04015015766998875, 0.5505997093682552, 0.27345809864277076, 0.10167635624178653, -0.18388223454922223, 0.42745234327798615, 0.39676503795208756, 0.6006707165907189, 0.5620217566126064, 0.23892339224919107, 0.30881882335945265, -0.11393685859568092, 0.03037056713526411, 0.06488636049351724, 0.06516584360589141, -0.03140621050074753, 0.07081517178517302, -0.02734670832780769, 0.7909816005838047], [0.012608924775951698, -0.05931581708410461, -0.005636270274099174, -0.09193234263907184, 1.0, -0.37598319560698873, 0.07374149814528969, -0.046230855918224914, 0.04022916989976808, -0.1368405698935219, -0.17109751462492115, -0.1442027840490588, 0.028942115965816365, 0.025494319914214247, -0.07968586538833754, -0.054941515432952504, 0.117820915081395, -0.19414948874930252, -0.06076932676159386, 0.012980060094550657, -0.08700085543637874, -0.05758316611286472, -0.02381997776166174, -0.1857575105783602, -0.1515213705702289, -0.00333369928938553, -0.03258881352158479, 0.07035618448230385, 0.025503660024131836, 0.05481052878611371, -0.0019849422681843475, 0.06877680605724883, -0.0035108385999397577, 0.043949745692480675, -0.0778558940486776], [-0.012712715387846654, 0.027850136946706617, 0.014227651757024678, 0.572322768962362, -0.37598319560698873, 1.0, 0.5928549763436497, 0.24950319668479937, -0.049106831196239806, 0.14904039195440044, 0.39145200206609476, 0.28198585869980175, 0.01030765958436373, -0.18378434437372668, 0.1990097136764581, 0.1875985499971459, -0.038161805671233694, 0.4682707871726734, 0.24265591024106203, -0.07065121690473095, -0.1748002456149784, 0.0955891282979514, 0.1477163994124546, 0.5378500917111045, 0.4789538198934912, 0.22488014230399725, 0.18868584000173075, -0.38726778292807656, 0.03135451306436335, -0.05036443453861163, 0.00494972761594348, -0.03438313873672352, 0.012398470595442182, -0.013617680001842058, 0.5228973328794967], [-0.021997641857505437, 0.0405810447840647, 0.013788427078154822, 0.550683924194174, 0.07374149814528969, 0.5928549763436497, 1.0, 0.12845054712828968, -0.06775851356598678, 0.18113308705016823, 0.29106558260416654, 0.24037926760355563, 0.14002377880486408, -0.0624191000783343, 0.28738851965033274, 0.1194698791112425, -0.01233703212779989, 0.43904648387234635, 0.18333061171853401, -0.04058092806774957, -0.14959752104274765, 0.1917398162928071, 0.11258131843947493, 0.4206221549432185, 0.371599809497309, 0.20572592049010316, 0.2262976326829877, -0.19391914709920693, 0.04528580981497537, -0.03874001074260982, 0.0058293720371077355, -0.010286248783081717, 0.021490002226876855, 0.03574324712128322, 0.5071009671113867], [-0.0050240490416610575, -0.06983574916710103, 0.21410313070557835, 0.23966596617889305, -0.046230855918224914, 0.24950319668479937, 0.12845054712828968, 1.0, -0.05011740004715191, -0.49525146925701485, 0.5223960519923907, 0.4458626560920095, -0.13707898608005406, -0.0645025969214698, 0.20817113014532806, 0.6492117535742737, 0.0674184779101191, 0.058543136861595575, 0.004262424384486897, -0.10735467682307238, -0.08100685077857563, 0.0443156239129205, 0.2600109202350418, 0.22405352239399126, 0.29697038534451464, 0.20430614523740545, 0.11176061335675173, -0.10230330550073302, 0.026450506189898835, 0.06202062266535013, 0.14049128625495722, 0.003571473474954832, -0.015726948262154733, 0.014358922393912487, 0.38641980624215627], [-0.005967671960281668, -0.06564857918852456, 0.11116974549624932, -0.05911869267069023, 0.04022916989976808, -0.049106831196239806, -0.06775851356598678, -0.05011740004715191, 1.0, -0.20929449241994658, 0.10480953760636849, 0.09711744845667107, -0.09926031602264533, 0.014806997946834337, -0.00963989155180548, 0.15867806078170232, 0.07094813365590494, -0.07644386196518434, -0.032147837468965525, -0.015728113626581382, -0.040751236448406995, -0.035226547947523404, 0.0469207088260135, -0.038263512869251774, -0.018226591907316646, 0.06789832641361276, 0.0030925622098945888, 0.03654333944820929, -0.029993397993919868, 0.08887125137339077, 0.041709054681333034, 0.0049397812284377755, -0.015210737972006717, 0.03170563698488748, -0.011378121450215216], [-0.007939703357717261, -0.14075948083501214, -0.0026183599500954335, 0.30815892690564345, -0.1368405698935219, 0.14904039195440044, 0.18113308705016823, -0.49525146925701485, -0.20929449241994658, 1.0, 0.41535960518158943, 0.3179874383527257, 0.004469092144542394, 0.028166688132741903, 0.24025726834993516, -0.4229004773832192, -0.09580428815248464, 0.2888860554869107, -0.041117530144551086, 0.16664331698696383, 0.030085868314000223, 0.25064706137624776, 0.051574882289541504, 0.21417518975021707, 0.18330269774258381, -0.005316424333062044, 0.1290054146154213, -0.0025378545897515683, 0.02076400569654775, -0.012579273444256776, -0.035092240793657865, -0.02383664513450834, 0.03488844300908199, -0.041258194938762024, 0.214479105546969], [-0.015414566107910999, -0.23851840931512, 0.26083313454515794, 0.5378084986123927, -0.17109751462492115, 0.39145200206609476, 0.29106558260416654, 0.5223960519923907, 0.10480953760636849, 0.41535960518158943, 1.0, 0.8195299750050355, -0.17451195013495976, -0.03324538734745721, 0.4548682025479028, 0.30735055373550824, -0.00031458181983372096, 0.32372241360664983, -0.048803738635211875, 0.05044995551267859, -0.06890064264201692, 0.2855725637257923, 0.3395193238986534, 0.43458483429168826, 0.48666546377379655, 0.23201860912901978, 0.2472637462881077, -0.0954777367064077, 0.03738372726300451, 0.08448898591431103, 0.12605313210083696, -0.018478922431472533, 0.013196178616778513, -0.01496864801875107, 0.6135805515591944], [0.010496040954083016, -0.2517583518783804, 0.29947457850776354, 0.4762238290781775, -0.1442027840490588, 0.28198585869980175, 0.24037926760355563, 0.4458626560920095, 0.09711744845667107, 0.3179874383527257, 0.8195299750050355, 1.0, -0.20264618100231988, -0.014240672666431465, 0.5660239689357487, 0.24467110424771435, 0.001955653582048776, 0.38063749497350763, -0.11991590879396018, 0.12740074939236587, 0.06810058817691354, 0.40951597886682883, 0.41053108465984434, 0.43931680799067063, 0.4897816541041915, 0.23545862278369958, 0.21167122549798492, -0.06529170091030902, 0.05610437448487474, 0.0887580726201564, 0.13152497564028195, -0.02109571946312286, 0.031371560352079074, -0.013603770504648229, 0.6058521846919166], [0.005589848886158616, 0.30788572075985965, 0.05098594829349351, 0.29549287919971035, 0.028942115965816365, 0.01030765958436373, 0.14002377880486408, -0.13707898608005406, -0.09926031602264533, 0.004469092144542394, -0.17451195013495976, -0.20264618100231988, 1.0, 0.06335295010932407, 0.6875010641666008, -0.16949395173100076, -0.02385478393704534, 0.42137798287597156, 0.6097073002717444, 0.5029006133459021, 0.05930575264821606, 0.6164226354915353, 0.1945608922413219, 0.18392558307637655, 0.1383469585718656, 0.09216541758603838, 0.2080260631813553, 0.061988690773251, -0.0243576484220475, 0.04060644764100074, 0.08148687804909924, 0.01619687460438891, 0.03516442736179051, -0.028699913935284663, 0.31933380283206614], [-0.04422995808659233, 0.04647375589951825, 0.004778969866349652, -0.03042928397960494, 0.025494319914214247, -0.18378434437372668, -0.0624191000783343, -0.0645025969214698, 0.014806997946834337, 0.028166688132741903, -0.03324538734745721, -0.014240672666431465, 0.06335295010932407, 1.0, 0.13468281300660345, -0.04714342189826147, -0.005841504819311943, -0.0007095096206728, -0.02708004931716963, 0.10560656854090972, 0.007521744344234544, 0.1311847759895512, -0.0212721434139402, -0.09447952015593507, -0.06760141323952353, -0.025443647988792197, 0.0182510390539997, 0.06108123777122828, -0.004295610410300117, 0.026799413021772037, 0.062157372269196445, -0.0037928707799966834, -0.02217396057953832, -0.028920879782297997, -0.02560613000068015], [0.008272757661810213, 0.07485317965779979, 0.26311616716714836, 0.5930074300286511, -0.07968586538833754, 0.1990097136764581, 0.28738851965033274, 0.20817113014532806, -0.00963989155180548, 0.24025726834993516, 0.4548682025479028, 0.5660239689357487, 0.6875010641666008, 0.13468281300660345, 1.0, 0.0348360495449059, -0.018918483170635034, 0.6300116462511144, 0.41577163610526024, 0.5212695109189988, 0.1000631647377552, 0.8254893743088377, 0.46167913376144376, 0.46724741879518455, 0.4689974773229643, 0.24743282051884927, 0.3302239617119999, 0.009113210326003124, 0.0206431897101862, 0.10151039568208489, 0.1702053360005609, -0.0024156395502937167, 0.05023968081827258, -0.036525819624723004, 0.7086244776126511], [0.002288555600833932, 0.00349102577904494, 0.1581545310600175, 0.11109778614230408, -0.054941515432952504, 0.1875985499971459, 0.1194698791112425, 0.6492117535742737, 0.15867806078170232, -0.4229004773832192, 0.30735055373550824, 0.24467110424771435, -0.16949395173100076, -0.04714342189826147, 0.0348360495449059, 1.0, -0.14787096054760482, -0.0645120486313163, -0.030904959142533415, -0.15067280920796106, -0.041502546431483184, -0.05327523612339759, 0.13792770842720137, 0.13188122440619826, 0.17918948042023325, 0.1753151900797277, 0.067341461376983, -0.04991064908375369, -0.00010609153998427328, 0.023147725763573823, 0.06761555618047593, -0.023047024868617455, -0.025360894315260153, 0.06704913767140783, 0.22712223313149718], [-0.02015474521553456, -0.0023325345518021793, 0.048045570888297716, -0.04015015766998875, 0.117820915081395, -0.038161805671233694, -0.01233703212779989, 0.0674184779101191, 0.07094813365590494, -0.09580428815248464, -0.00031458181983372096, 0.001955653582048776, -0.02385478393704534, -0.005841504819311943, -0.018918483170635034, -0.14787096054760482, 1.0, -0.05453581198363702, -0.012339900052275348, 0.04651884838995185, -0.03794435022720132, -0.023836341262220805, 0.028975586646260102, -0.02089105899687898, -0.024535579578879658, 0.04016122325953598, -0.025323757889057975, -0.008555333868578433, 0.03511363088677233, 0.03212140720908456, 0.020024629838516175, -0.007366524543625966, 0.03287270523409076, -0.04652388177402218, -0.016844154297359294], [0.005587452907357383, 0.13160822241028183, 0.1260306265196434, 0.5505997093682552, -0.19414948874930252, 0.4682707871726734, 0.43904648387234635, 0.058543136861595575, -0.07644386196518434, 0.2888860554869107, 0.32372241360664983, 0.38063749497350763, 0.42137798287597156, -0.0007095096206728, 0.6300116462511144, -0.0645120486313163, -0.05453581198363702, 1.0, 0.13638058874914522, 0.3632519830232792, 0.13311521419603795, 0.5547842535334817, 0.24367050307991178, 0.4696720432676313, 0.4056562084540095, 0.18770321383582753, 0.25997742546825087, -0.11509296346134372, 0.03535301658385324, -0.008106093328111913, 0.04960382558403352, -0.01428984497085004, 0.05587212899172362, -0.019668840691523498, 0.5606637627484452], [0.006783811284297757, 0.17735438864391526, 0.014259468566431727, 0.27345809864277076, -0.06076932676159386, 0.24265591024106203, 0.18333061171853401, 0.004262424384486897, -0.032147837468965525, -0.041117530144551086, -0.048803738635211875, -0.11991590879396018, 0.6097073002717444, -0.02708004931716963, 0.41577163610526024, -0.030904959142533415, -0.012339900052275348, 0.13638058874914522, 1.0, 0.22665148415094155, -0.06826254889694165, 0.34341485754091505, 0.20364850809521526, 0.2191781521671551, 0.16354936401660505, 0.10808030267536159, 0.1997401475127926, -0.0953165257360886, -0.004972488417316253, 0.07242584517037905, 0.022381498055409857, 0.0012901448492835638, -0.009049888212650297, -0.010268668868104026, 0.2841076755947784], [0.03771855422321125, -0.02343802846062763, 0.11968990815131679, 0.10167635624178653, 0.012980060094550657, -0.07065121690473095, -0.04058092806774957, -0.10735467682307238, -0.015728113626581382, 0.16664331698696383, 0.05044995551267859, 0.12740074939236587, 0.5029006133459021, 0.10560656854090972, 0.5212695109189988, -0.15067280920796106, 0.04651884838995185, 0.3632519830232792, 0.22665148415094155, 1.0, 0.19859675770713586, 0.6766199357426479, 0.10756968099132405, 0.08610643768835352, 0.06525252989881658, 0.04685377306989432, 0.09380957160591488, 0.041570434519598465, -0.02447779636611465, 0.04429969112713488, 0.0707025835654749, 0.007766971998717766, 0.04654385993628257, -0.03601389283371496, 0.1682131543007415], [0.0029512363577246527, 0.281721040264881, -0.017783870504841866, -0.18388223454922223, -0.08700085543637874, -0.1748002456149784, -0.14959752104274765, -0.08100685077857563, -0.040751236448406995, 0.030085868314000223, -0.06890064264201692, 0.06810058817691354, 0.05930575264821606, 0.007521744344234544, 0.1000631647377552, -0.041502546431483184, -0.03794435022720132, 0.13311521419603795, -0.06826254889694165, 0.19859675770713586, 1.0, 0.25604540853594737, -0.12393623529689538, -0.05063389240221826, -0.06443304718314428, -0.09013027267903431, -0.07009060989258631, 0.03731238503296977, -0.024600358690531933, -0.051613366061480426, -0.014525116015980933, 0.062340724004381246, 0.02658890723091537, 0.03168720650065513, -0.1359073708421417], [0.027238724409455572, 0.04038006478367577, 0.19001477762540772, 0.42745234327798615, -0.05758316611286472, 0.0955891282979514, 0.1917398162928071, 0.0443156239129205, -0.035226547947523404, 0.25064706137624776, 0.2855725637257923, 0.40951597886682883, 0.6164226354915353, 0.1311847759895512, 0.8254893743088377, -0.05327523612339759, -0.023836341262220805, 0.5547842535334817, 0.34341485754091505, 0.6766199357426479, 0.25604540853594737, 1.0, 0.3261144801771966, 0.3622885708147703, 0.33782212063683476, 0.1659838837149338, 0.23419158783159674, 0.004151299023856478, -0.006683241010939456, 0.05938259955941124, 0.08375734951492322, 0.024762884163585016, 0.036907077159844086, -0.03451635430217487, 0.5337231555820238], [-0.019771632442392516, -0.045569340274569284, 0.2713640096245405, 0.39676503795208756, -0.02381997776166174, 0.1477163994124546, 0.11258131843947493, 0.2600109202350418, 0.0469207088260135, 0.051574882289541504, 0.3395193238986534, 0.41053108465984434, 0.1945608922413219, -0.0212721434139402, 0.46167913376144376, 0.13792770842720137, 0.028975586646260102, 0.24367050307991178, 0.20364850809521526, 0.10756968099132405, -0.12393623529689538, 0.3261144801771966, 1.0, 0.30078876630134843, 0.26914123807386986, 0.20001879575902295, 0.16940532713120174, -0.024821868537068383, 0.011257238992774685, 0.1845302695168495, 0.09507352203619714, 0.0014086054430456946, 0.04635710249771935, -0.02409556498069903, 0.4669288367515242], [0.016569677112146044, -0.04010979313578374, 0.15487073975354074, 0.6006707165907189, -0.1857575105783602, 0.5378500917111045, 0.4206221549432185, 0.22405352239399126, -0.038263512869251774, 0.21417518975021707, 0.43458483429168826, 0.43931680799067063, 0.18392558307637655, -0.09447952015593507, 0.46724741879518455, 0.13188122440619826, -0.02089105899687898, 0.4696720432676313, 0.2191781521671551, 0.08610643768835352, -0.05063389240221826, 0.3622885708147703, 0.30078876630134843, 1.0, 0.8824754142814603, 0.22634213846985612, 0.21356944558969018, -0.15143416002683852, 0.03576528514645337, 0.0504937919271977, 0.020933531041465493, -0.043080128102231184, 0.040521730128251617, -0.03911690411283574, 0.640409197258349], [0.017633778453766888, -0.09867154319256446, 0.18040275515111656, 0.5620217566126064, -0.1515213705702289, 0.4789538198934912, 0.371599809497309, 0.29697038534451464, -0.018226591907316646, 0.18330269774258381, 0.48666546377379655, 0.4897816541041915, 0.1383469585718656, -0.06760141323952353, 0.4689974773229643, 0.17918948042023325, -0.024535579578879658, 0.4056562084540095, 0.16354936401660505, 0.06525252989881658, -0.06443304718314428, 0.33782212063683476, 0.26914123807386986, 0.8824754142814603, 1.0, 0.22466630717876454, 0.24143467213808723, -0.12177671956100364, 0.03508670020815936, 0.05141176244520807, 0.0610472717020595, -0.02739991441262575, 0.02797379982354043, -0.027377940418558608, 0.6234314389183598], [-0.02964319715640263, -0.012579358249219704, 0.17169768725711357, 0.23892339224919107, -0.00333369928938553, 0.22488014230399725, 0.20572592049010316, 0.20430614523740545, 0.06789832641361276, -0.005316424333062044, 0.23201860912901978, 0.23545862278369958, 0.09216541758603838, -0.025443647988792197, 0.24743282051884927, 0.1753151900797277, 0.04016122325953598, 0.18770321383582753, 0.10808030267536159, 0.04685377306989432, -0.09013027267903431, 0.1659838837149338, 0.20001879575902295, 0.22634213846985612, 0.22466630717876454, 1.0, 0.05866060856588831, -0.12598888803760044, -0.03277063359357437, -0.07418135123983265, 0.073378206956454, -0.009551228238372386, 0.021011044294297343, 0.022270451009255326, 0.32441344456813076], [-0.00047691132479109967, -0.0061001212319422415, 0.08477380884021646, 0.30881882335945265, -0.03258881352158479, 0.18868584000173075, 0.2262976326829877, 0.11176061335675173, 0.0030925622098945888, 0.1290054146154213, 0.2472637462881077, 0.21167122549798492, 0.2080260631813553, 0.0182510390539997, 0.3302239617119999, 0.067341461376983, -0.025323757889057975, 0.25997742546825087, 0.1997401475127926, 0.09380957160591488, -0.07009060989258631, 0.23419158783159674, 0.16940532713120174, 0.21356944558969018, 0.24143467213808723, 0.05866060856588831, 1.0, -0.09307931750864905, -0.005842499340135787, 0.0743039438502424, 0.06076211148992545, -0.018583738987649454, 0.0712548847586891, -0.05761936014209498, 0.31585622711605577], [0.002889217865750098, -0.012036621902094572, -0.018339733672212276, -0.11393685859568092, 0.07035618448230385, -0.38726778292807656, -0.19391914709920693, -0.10230330550073302, 0.03654333944820929, -0.0025378545897515683, -0.0954777367064077, -0.06529170091030902, 0.061988690773251, 0.06108123777122828, 0.009113210326003124, -0.04991064908375369, -0.008555333868578433, -0.11509296346134372, -0.0953165257360886, 0.041570434519598465, 0.03731238503296977, 0.004151299023856478, -0.024821868537068383, -0.15143416002683852, -0.12177671956100364, -0.12598888803760044, -0.09307931750864905, 1.0, -0.03730528278804631, -0.08286424483260406, 0.0542025622921423, 0.01836060013944818, -0.02888726570714225, -0.009915936955525128, -0.12857795792595636], [-0.04663478886742706, -0.04382454917560825, 0.020422829586133177, 0.03037056713526411, 0.025503660024131836, 0.03135451306436335, 0.04528580981497537, 0.026450506189898835, -0.029993397993919868, 0.02076400569654775, 0.03738372726300451, 0.05610437448487474, -0.0243576484220475, -0.004295610410300117, 0.0206431897101862, -0.00010609153998427328, 0.03511363088677233, 0.03535301658385324, -0.004972488417316253, -0.02447779636611465, -0.024600358690531933, -0.006683241010939456, 0.011257238992774685, 0.03576528514645337, 0.03508670020815936, -0.03277063359357437, -0.005842499340135787, -0.03730528278804631, 1.0, -0.03143584703909499, -0.007991548872868624, 0.00035396527793933553, 0.029473795249939806, 0.018644925404743957, 0.04458366533574792], [0.0013302086301727792, -0.026030176699806493, 0.043160377695251814, 0.06488636049351724, 0.05481052878611371, -0.05036443453861163, -0.03874001074260982, 0.06202062266535013, 0.08887125137339077, -0.012579273444256776, 0.08448898591431103, 0.0887580726201564, 0.04060644764100074, 0.026799413021772037, 0.10151039568208489, 0.023147725763573823, 0.03212140720908456, -0.008106093328111913, 0.07242584517037905, 0.04429969112713488, -0.051613366061480426, 0.05938259955941124, 0.1845302695168495, 0.0504937919271977, 0.05141176244520807, -0.07418135123983265, 0.0743039438502424, -0.08286424483260406, -0.03143584703909499, 1.0, 0.05130739451790521, 0.031945760774908606, 0.023216991793306135, 0.010694106003783704, 0.11144657114291048], [0.057043904789252, 0.008282707579624323, 0.07767239188017415, 0.06516584360589141, -0.0019849422681843475, 0.00494972761594348, 0.0058293720371077355, 0.14049128625495722, 0.041709054681333034, -0.035092240793657865, 0.12605313210083696, 0.13152497564028195, 0.08148687804909924, 0.062157372269196445, 0.1702053360005609, 0.06761555618047593, 0.020024629838516175, 0.04960382558403352, 0.022381498055409857, 0.0707025835654749, -0.014525116015980933, 0.08375734951492322, 0.09507352203619714, 0.020933531041465493, 0.0610472717020595, 0.073378206956454, 0.06076211148992545, 0.0542025622921423, -0.007991548872868624, 0.05130739451790521, 1.0, 0.02966865085402216, -0.033736640262790836, -0.05968893167525976, 0.09240354949187278], [-0.0062424048483025575, -0.007683291329866207, 0.03806769201918441, -0.03140621050074753, 0.06877680605724883, -0.03438313873672352, -0.010286248783081717, 0.003571473474954832, 0.0049397812284377755, -0.02383664513450834, -0.018478922431472533, -0.02109571946312286, 0.01619687460438891, -0.0037928707799966834, -0.0024156395502937167, -0.023047024868617455, -0.007366524543625966, -0.01428984497085004, 0.0012901448492835638, 0.007766971998717766, 0.062340724004381246, 0.024762884163585016, 0.0014086054430456946, -0.043080128102231184, -0.02739991441262575, -0.009551228238372386, -0.018583738987649454, 0.01836060013944818, 0.00035396527793933553, 0.031945760774908606, 0.02966865085402216, 1.0, -0.0064945502212819676, 0.004906262452666667, -0.02118957964030379], [0.021172176550393426, -0.013584643238322446, 0.0012049882225877388, 0.07081517178517302, -0.0035108385999397577, 0.012398470595442182, 0.021490002226876855, -0.015726948262154733, -0.015210737972006717, 0.03488844300908199, 0.013196178616778513, 0.031371560352079074, 0.03516442736179051, -0.02217396057953832, 0.05023968081827258, -0.025360894315260153, 0.03287270523409076, 0.05587212899172362, -0.009049888212650297, 0.04654385993628257, 0.02658890723091537, 0.036907077159844086, 0.04635710249771935, 0.040521730128251617, 0.02797379982354043, 0.021011044294297343, 0.0712548847586891, -0.02888726570714225, 0.029473795249939806, 0.023216991793306135, -0.033736640262790836, -0.0064945502212819676, 1.0, -0.14572141267538744, 0.04643224522381936], [0.0007117940170476534, -0.021407037851093803, -0.014261407298531923, -0.02734670832780769, 0.043949745692480675, -0.013617680001842058, 0.03574324712128322, 0.014358922393912487, 0.03170563698488748, -0.041258194938762024, -0.01496864801875107, -0.013603770504648229, -0.028699913935284663, -0.028920879782297997, -0.036525819624723004, 0.06704913767140783, -0.04652388177402218, -0.019668840691523498, -0.010268668868104026, -0.03601389283371496, 0.03168720650065513, -0.03451635430217487, -0.02409556498069903, -0.03911690411283574, -0.027377940418558608, 0.022270451009255326, -0.05761936014209498, -0.009915936955525128, 0.018644925404743957, 0.010694106003783704, -0.05968893167525976, 0.004906262452666667, -0.14572141267538744, 1.0, -0.028922585168730426], [-0.021916719443431112, -0.08428413512659523, 0.2638433538714063, 0.7909816005838047, -0.0778558940486776, 0.5228973328794967, 0.5071009671113867, 0.38641980624215627, -0.011378121450215216, 0.214479105546969, 0.6135805515591944, 0.6058521846919166, 0.31933380283206614, -0.02560613000068015, 0.7086244776126511, 0.22712223313149718, -0.016844154297359294, 0.5606637627484452, 0.2841076755947784, 0.1682131543007415, -0.1359073708421417, 0.5337231555820238, 0.4669288367515242, 0.640409197258349, 0.6234314389183598, 0.32441344456813076, 0.31585622711605577, -0.12857795792595636, 0.04458366533574792, 0.11144657114291048, 0.09240354949187278, -0.02118957964030379, 0.04643224522381936, -0.028922585168730426, 1.0]], \"type\": \"heatmap\", \"uid\": \"5a9081b3-4060-42ca-97ab-a79c25e19ad2\"}], {}, {\"showLink\": false, \"linkText\": \"Export to plot.ly\", \"plotlyServerURL\": \"https://plot.ly\"}); \n",
       "}\n",
       "});</script><script type=\"text/javascript\">window.addEventListener(\"resize\", function(){if (document.getElementById(\"80cb5959-2dc2-4598-afeb-956ecd4c8465\")) {window._Plotly.Plots.resize(document.getElementById(\"80cb5959-2dc2-4598-afeb-956ecd4c8465\"));};})</script>"
      ]
     },
     "metadata": {},
     "output_type": "display_data"
    }
   ],
   "source": [
    "from plotly.offline import init_notebook_mode, iplot\n",
    "import plotly.graph_objs as go\n",
    "\n",
    "init_notebook_mode(connected=True)\n",
    "\n",
    "def plot_corr_matrix(Xy):\n",
    "    corr_matrix = Xy.corr()\n",
    "    trace = go.Heatmap(z=corr_matrix)\n",
    "    data=[trace]\n",
    "    iplot(data, filename='basic-heatmap')\n",
    "    return corr_matrix\n",
    "    \n",
    "corr_matrix = plot_corr_matrix(Xy)"
   ]
  },
  {
   "cell_type": "code",
   "execution_count": 51,
   "metadata": {},
   "outputs": [
    {
     "data": {
      "text/plain": [
       "(OverallQual    0.790982\n",
       " GrLivArea      0.708624\n",
       " SalePrice      1.000000\n",
       " Name: SalePrice, dtype: float64, 3)"
      ]
     },
     "execution_count": 51,
     "metadata": {},
     "output_type": "execute_result"
    }
   ],
   "source": [
    "cor_val = Xy.corr()['SalePrice']\n",
    "selection_features = cor_val[cor_val >= 0.7]\n",
    "selection_features,len(selection_features)"
   ]
  },
  {
   "cell_type": "code",
   "execution_count": 52,
   "metadata": {},
   "outputs": [],
   "source": [
    "X = Xy[selection_features.index].drop(target_col, axis=1)\n",
    "y = Xy[target_col]\n",
    "\n",
    "X_train_dev, X_test, y_train_dev, y_test = train_test_split(X, y, random_state=666, test_size=0.2)\n",
    "X_train, X_dev, y_train, y_dev = train_test_split(X_train_dev, y_train_dev, random_state=667, test_size=0.25)"
   ]
  },
  {
   "cell_type": "code",
   "execution_count": 53,
   "metadata": {},
   "outputs": [
    {
     "name": "stdout",
     "output_type": "stream",
     "text": [
      "39742.60575730124\n"
     ]
    }
   ],
   "source": [
    "reg.fit(X_train, y_train)\n",
    "y_dev_hat = reg.predict(X_dev)\n",
    "print(np.sqrt(mean_squared_error(y_dev, y_dev_hat)))"
   ]
  }
 ],
 "metadata": {
  "kernelspec": {
   "display_name": "Python 3",
   "language": "python",
   "name": "python3"
  },
  "language_info": {
   "codemirror_mode": {
    "name": "ipython",
    "version": 3
   },
   "file_extension": ".py",
   "mimetype": "text/x-python",
   "name": "python",
   "nbconvert_exporter": "python",
   "pygments_lexer": "ipython3",
   "version": "3.6.8"
  }
 },
 "nbformat": 4,
 "nbformat_minor": 2
}
